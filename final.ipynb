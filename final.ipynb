{
 "cells": [
  {
   "cell_type": "markdown",
   "metadata": {},
   "source": [
    "# SAE 15 - Traiter les données\n",
    "\n",
    "### Synopsis\n",
    "\n",
    "*Sujet : Vaccination contre la COVID 19* \n",
    "\n",
    "Cette SAE 15 est tourneé autour du traitement des données. Nous avons à notre disposition un **jeu de données** sur la campagne de vaccination contre la COVID 19 en France. \n",
    "Nous devons tout d'abord mettre nos fichier CSV dans un seul fichier CSV.\n",
    "Nous allons par la suite **traiter les erreurs** présentes dans ce fichier (détection des valeurs manquantes et abérantes).\n",
    "Enfin, nous allons créer un **graphique** montrant l'avancement de la campagne de vaccination contre la COVID 19 en fonction du temps, dans le département du Haut-Rhin."
   ]
  },
  {
   "cell_type": "markdown",
   "metadata": {},
   "source": [
    "### Écrire un programme qui fusionne les fichiers csv (*dossier src/data*)\n",
    "\n",
    "Nous avons réalisé un code en .bat pour fusionner ces fichiers : \n",
    "\n",
    "```bash\n",
    "copy *csv masterlist.csv\n",
    "```\n",
    "\n",
    "Nous exécutons ce code dans le répertoire où se trouve l'ensemble des fichiers CSV.\n"
   ]
  },
  {
   "cell_type": "markdown",
   "metadata": {},
   "source": [
    "#### Importation des librairies"
   ]
  },
  {
   "cell_type": "code",
   "execution_count": null,
   "metadata": {},
   "outputs": [],
   "source": [
    "import numpy as np\n",
    "import pandas as pd \n",
    "import matplotlib.pyplot as plt \n",
    "import seaborn as sns\n",
    "import os"
   ]
  },
  {
   "cell_type": "markdown",
   "metadata": {},
   "source": [
    "#### Lecture du fichier CSV\n",
    "\n",
    "Lecture du fichier masterlist.csv et affichage des informations sur la dimension de ce fichier."
   ]
  },
  {
   "cell_type": "code",
   "execution_count": null,
   "metadata": {},
   "outputs": [],
   "source": [
    "df = pd.read_csv(r\".\\vaccination-covid\\data\\raw\\masterlist.csv\", delimiter=\";\")\n",
    "df"
   ]
  },
  {
   "cell_type": "markdown",
   "metadata": {},
   "source": [
    "#### Affichage du nom des différentes colonnes"
   ]
  },
  {
   "cell_type": "code",
   "execution_count": null,
   "metadata": {},
   "outputs": [],
   "source": [
    "df.columns"
   ]
  },
  {
   "cell_type": "markdown",
   "metadata": {},
   "source": [
    "### Établir pour chaque variable le nombre de valeurs manquantes et aberrante ainsi que le pourcentage que cela représente."
   ]
  },
  {
   "cell_type": "markdown",
   "metadata": {},
   "source": [
    "#### Détermination des valeurs manquantes"
   ]
  },
  {
   "cell_type": "code",
   "execution_count": null,
   "metadata": {},
   "outputs": [],
   "source": [
    "x = pd.isnull(df[\"taux_cumu_rappeleli\"]).sum().sum()\n",
    "print(x)"
   ]
  },
  {
   "cell_type": "markdown",
   "metadata": {},
   "source": [
    "#### Détermination des valeurs abérantes"
   ]
  },
  {
   "cell_type": "markdown",
   "metadata": {},
   "source": [
    "##### Détermination de la médiane "
   ]
  },
  {
   "cell_type": "code",
   "execution_count": null,
   "metadata": {},
   "outputs": [],
   "source": [
    "y = df.median(axis = 0)\n",
    "print(y)"
   ]
  }
 ],
 "metadata": {
  "language_info": {
   "name": "python"
  },
  "orig_nbformat": 4
 },
 "nbformat": 4,
 "nbformat_minor": 2
}
