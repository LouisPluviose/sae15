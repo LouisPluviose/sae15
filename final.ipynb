{
 "cells": [
  {
   "cell_type": "markdown",
   "metadata": {},
   "source": [
    "# SAE 15 - Traiter les données\n",
    "\n",
    "### Synopsis\n",
    "\n",
    "*Sujet : Vaccination contre la COVID 19* \n",
    "\n",
    "Cette SAE 15 est tourneé autour du traitement des données. Nous avons à notre disposition un **jeu de données** sur la campagne de vaccination contre la COVID 19 en France. \n",
    "Nous devons tout d'abord mettre nos fichier CSV dans un seul fichier CSV.\n",
    "Nous allons par la suite **traiter les erreurs** présentes dans ce fichier (détection des valeurs manquantes et abérantes).\n",
    "Enfin, nous allons créer un **graphique** montrant l'avancement de la campagne de vaccination contre la COVID 19 en fonction du temps, dans le département du Haut-Rhin."
   ]
  },
  {
   "cell_type": "markdown",
   "metadata": {},
   "source": [
    "### Écrire un programme qui fusionne les fichiers csv (*dossier src/data*)\n",
    "\n",
    "Nous avons réalisé un code en .bat pour fusionner ces fichiers : \n",
    "\n",
    "```bash\n",
    "copy *csv masterlist.csv\n",
    "```\n",
    "\n",
    "Nous exécutons ce code dans le répertoire où se trouve l'ensemble des fichiers CSV.\n"
   ]
  },
  {
   "cell_type": "markdown",
   "metadata": {},
   "source": [
    "#### Importation des librairies"
   ]
  },
  {
   "cell_type": "code",
   "execution_count": 1,
   "metadata": {},
   "outputs": [],
   "source": [
    "import numpy as np\n",
    "import pandas as pd \n",
    "import matplotlib.pyplot as plt \n",
    "import seaborn as sns\n",
    "import os"
   ]
  },
  {
   "cell_type": "markdown",
   "metadata": {},
   "source": [
    "#### Lecture du fichier CSV\n",
    "\n",
    "Lecture du fichier masterlist.csv et affichage des informations sur la dimension de ce fichier."
   ]
  },
  {
   "cell_type": "code",
   "execution_count": 2,
   "metadata": {},
   "outputs": [
    {
     "name": "stderr",
     "output_type": "stream",
     "text": [
      "C:\\Users\\Louis\\miniconda3\\lib\\site-packages\\IPython\\core\\interactiveshell.py:3251: DtypeWarning: Columns (2) have mixed types.Specify dtype option on import or set low_memory=False.\n",
      "  exec(code_obj, self.user_global_ns, self.user_ns)\n"
     ]
    },
    {
     "data": {
      "text/html": [
       "<div>\n",
       "<style scoped>\n",
       "    .dataframe tbody tr th:only-of-type {\n",
       "        vertical-align: middle;\n",
       "    }\n",
       "\n",
       "    .dataframe tbody tr th {\n",
       "        vertical-align: top;\n",
       "    }\n",
       "\n",
       "    .dataframe thead th {\n",
       "        text-align: right;\n",
       "    }\n",
       "</style>\n",
       "<table border=\"1\" class=\"dataframe\">\n",
       "  <thead>\n",
       "    <tr style=\"text-align: right;\">\n",
       "      <th></th>\n",
       "      <th>date_reference</th>\n",
       "      <th>semaine_injection</th>\n",
       "      <th>region_residence</th>\n",
       "      <th>libelle_region</th>\n",
       "      <th>departement_residence</th>\n",
       "      <th>libelle_departement</th>\n",
       "      <th>population_insee</th>\n",
       "      <th>classe_age</th>\n",
       "      <th>libelle_classe_age</th>\n",
       "      <th>type_vaccin</th>\n",
       "      <th>...</th>\n",
       "      <th>taux_cumu_1_inj</th>\n",
       "      <th>taux_cumu_termine</th>\n",
       "      <th>date</th>\n",
       "      <th>effectif_rappel</th>\n",
       "      <th>effectif_cumu_rappel</th>\n",
       "      <th>effectif_rappel_parmi_eligible</th>\n",
       "      <th>effectif_eligible_au_rappel</th>\n",
       "      <th>taux_rappel</th>\n",
       "      <th>taux_cumu_rappel</th>\n",
       "      <th>taux_cumu_rappeleli</th>\n",
       "    </tr>\n",
       "  </thead>\n",
       "  <tbody>\n",
       "    <tr>\n",
       "      <th>0</th>\n",
       "      <td>2022-01-09</td>\n",
       "      <td>2020-52</td>\n",
       "      <td>1</td>\n",
       "      <td>Guadeloupe</td>\n",
       "      <td>Tout département</td>\n",
       "      <td>FRANCE</td>\n",
       "      <td>50545.0</td>\n",
       "      <td>00-11</td>\n",
       "      <td>de 0 à 11 ans</td>\n",
       "      <td>COMIRNATY Pfizer-BioNTech</td>\n",
       "      <td>...</td>\n",
       "      <td>NaN</td>\n",
       "      <td>NaN</td>\n",
       "      <td>2021-01-03</td>\n",
       "      <td>NaN</td>\n",
       "      <td>NaN</td>\n",
       "      <td>NaN</td>\n",
       "      <td>NaN</td>\n",
       "      <td>NaN</td>\n",
       "      <td>NaN</td>\n",
       "      <td>NaN</td>\n",
       "    </tr>\n",
       "    <tr>\n",
       "      <th>1</th>\n",
       "      <td>2022-01-09</td>\n",
       "      <td>2020-52</td>\n",
       "      <td>1</td>\n",
       "      <td>Guadeloupe</td>\n",
       "      <td>Tout département</td>\n",
       "      <td>FRANCE</td>\n",
       "      <td>50545.0</td>\n",
       "      <td>00-11</td>\n",
       "      <td>de 0 à 11 ans</td>\n",
       "      <td>COVID-19 Vaccine Moderna</td>\n",
       "      <td>...</td>\n",
       "      <td>NaN</td>\n",
       "      <td>NaN</td>\n",
       "      <td>2021-01-03</td>\n",
       "      <td>NaN</td>\n",
       "      <td>NaN</td>\n",
       "      <td>NaN</td>\n",
       "      <td>NaN</td>\n",
       "      <td>NaN</td>\n",
       "      <td>NaN</td>\n",
       "      <td>NaN</td>\n",
       "    </tr>\n",
       "    <tr>\n",
       "      <th>2</th>\n",
       "      <td>2022-01-09</td>\n",
       "      <td>2020-52</td>\n",
       "      <td>1</td>\n",
       "      <td>Guadeloupe</td>\n",
       "      <td>Tout département</td>\n",
       "      <td>FRANCE</td>\n",
       "      <td>50545.0</td>\n",
       "      <td>00-11</td>\n",
       "      <td>de 0 à 11 ans</td>\n",
       "      <td>VAXZEVRIA AstraZeneca</td>\n",
       "      <td>...</td>\n",
       "      <td>NaN</td>\n",
       "      <td>NaN</td>\n",
       "      <td>2021-01-03</td>\n",
       "      <td>NaN</td>\n",
       "      <td>NaN</td>\n",
       "      <td>NaN</td>\n",
       "      <td>NaN</td>\n",
       "      <td>NaN</td>\n",
       "      <td>NaN</td>\n",
       "      <td>NaN</td>\n",
       "    </tr>\n",
       "    <tr>\n",
       "      <th>3</th>\n",
       "      <td>2022-01-09</td>\n",
       "      <td>2020-52</td>\n",
       "      <td>1</td>\n",
       "      <td>Guadeloupe</td>\n",
       "      <td>Tout département</td>\n",
       "      <td>FRANCE</td>\n",
       "      <td>50545.0</td>\n",
       "      <td>00-11</td>\n",
       "      <td>de 0 à 11 ans</td>\n",
       "      <td>COVID-19 Vaccine Janssen</td>\n",
       "      <td>...</td>\n",
       "      <td>NaN</td>\n",
       "      <td>NaN</td>\n",
       "      <td>2021-01-03</td>\n",
       "      <td>NaN</td>\n",
       "      <td>NaN</td>\n",
       "      <td>NaN</td>\n",
       "      <td>NaN</td>\n",
       "      <td>NaN</td>\n",
       "      <td>NaN</td>\n",
       "      <td>NaN</td>\n",
       "    </tr>\n",
       "    <tr>\n",
       "      <th>4</th>\n",
       "      <td>2022-01-09</td>\n",
       "      <td>2020-52</td>\n",
       "      <td>1</td>\n",
       "      <td>Guadeloupe</td>\n",
       "      <td>Tout département</td>\n",
       "      <td>FRANCE</td>\n",
       "      <td>50545.0</td>\n",
       "      <td>00-11</td>\n",
       "      <td>de 0 à 11 ans</td>\n",
       "      <td>COMIRNATY Pfizer-BioNTech pédiatrique</td>\n",
       "      <td>...</td>\n",
       "      <td>NaN</td>\n",
       "      <td>NaN</td>\n",
       "      <td>2021-01-03</td>\n",
       "      <td>NaN</td>\n",
       "      <td>NaN</td>\n",
       "      <td>NaN</td>\n",
       "      <td>NaN</td>\n",
       "      <td>NaN</td>\n",
       "      <td>NaN</td>\n",
       "      <td>NaN</td>\n",
       "    </tr>\n",
       "    <tr>\n",
       "      <th>...</th>\n",
       "      <td>...</td>\n",
       "      <td>...</td>\n",
       "      <td>...</td>\n",
       "      <td>...</td>\n",
       "      <td>...</td>\n",
       "      <td>...</td>\n",
       "      <td>...</td>\n",
       "      <td>...</td>\n",
       "      <td>...</td>\n",
       "      <td>...</td>\n",
       "      <td>...</td>\n",
       "      <td>...</td>\n",
       "      <td>...</td>\n",
       "      <td>...</td>\n",
       "      <td>...</td>\n",
       "      <td>...</td>\n",
       "      <td>...</td>\n",
       "      <td>...</td>\n",
       "      <td>...</td>\n",
       "      <td>...</td>\n",
       "      <td>...</td>\n",
       "    </tr>\n",
       "    <tr>\n",
       "      <th>368924</th>\n",
       "      <td>2022-01-16</td>\n",
       "      <td>2022-02</td>\n",
       "      <td>Toute région</td>\n",
       "      <td>FRANCE</td>\n",
       "      <td>Tout département</td>\n",
       "      <td>FRANCE</td>\n",
       "      <td>67287193.0</td>\n",
       "      <td>TOUT_AGE</td>\n",
       "      <td>Tout âge</td>\n",
       "      <td>VAXZEVRIA AstraZeneca</td>\n",
       "      <td>...</td>\n",
       "      <td>0.065</td>\n",
       "      <td>0.054</td>\n",
       "      <td>2022-01-16</td>\n",
       "      <td>NaN</td>\n",
       "      <td>NaN</td>\n",
       "      <td>NaN</td>\n",
       "      <td>4249640.0</td>\n",
       "      <td>NaN</td>\n",
       "      <td>NaN</td>\n",
       "      <td>NaN</td>\n",
       "    </tr>\n",
       "    <tr>\n",
       "      <th>368925</th>\n",
       "      <td>2022-01-16</td>\n",
       "      <td>2022-02</td>\n",
       "      <td>Toute région</td>\n",
       "      <td>FRANCE</td>\n",
       "      <td>Tout département</td>\n",
       "      <td>FRANCE</td>\n",
       "      <td>67287193.0</td>\n",
       "      <td>TOUT_AGE</td>\n",
       "      <td>Tout âge</td>\n",
       "      <td>COVID-19 Vaccine Janssen</td>\n",
       "      <td>...</td>\n",
       "      <td>0.016</td>\n",
       "      <td>0.016</td>\n",
       "      <td>2022-01-16</td>\n",
       "      <td>NaN</td>\n",
       "      <td>NaN</td>\n",
       "      <td>NaN</td>\n",
       "      <td>1043810.0</td>\n",
       "      <td>NaN</td>\n",
       "      <td>NaN</td>\n",
       "      <td>NaN</td>\n",
       "    </tr>\n",
       "    <tr>\n",
       "      <th>368926</th>\n",
       "      <td>2022-01-16</td>\n",
       "      <td>2022-02</td>\n",
       "      <td>Toute région</td>\n",
       "      <td>FRANCE</td>\n",
       "      <td>Tout département</td>\n",
       "      <td>FRANCE</td>\n",
       "      <td>67287193.0</td>\n",
       "      <td>TOUT_AGE</td>\n",
       "      <td>Tout âge</td>\n",
       "      <td>COMIRNATY Pfizer-BioNTech pédiatrique</td>\n",
       "      <td>...</td>\n",
       "      <td>0.002</td>\n",
       "      <td>0.000</td>\n",
       "      <td>2022-01-16</td>\n",
       "      <td>NaN</td>\n",
       "      <td>NaN</td>\n",
       "      <td>NaN</td>\n",
       "      <td>NaN</td>\n",
       "      <td>NaN</td>\n",
       "      <td>NaN</td>\n",
       "      <td>NaN</td>\n",
       "    </tr>\n",
       "    <tr>\n",
       "      <th>368927</th>\n",
       "      <td>2022-01-16</td>\n",
       "      <td>2022-02</td>\n",
       "      <td>Toute région</td>\n",
       "      <td>FRANCE</td>\n",
       "      <td>Tout département</td>\n",
       "      <td>FRANCE</td>\n",
       "      <td>67287193.0</td>\n",
       "      <td>TOUT_AGE</td>\n",
       "      <td>Tout âge</td>\n",
       "      <td>Tout vaccin</td>\n",
       "      <td>...</td>\n",
       "      <td>0.796</td>\n",
       "      <td>0.777</td>\n",
       "      <td>2022-01-16</td>\n",
       "      <td>3225750.0</td>\n",
       "      <td>31617730.0</td>\n",
       "      <td>31160710.0</td>\n",
       "      <td>43673790.0</td>\n",
       "      <td>0.048</td>\n",
       "      <td>0.47</td>\n",
       "      <td>0.713</td>\n",
       "    </tr>\n",
       "    <tr>\n",
       "      <th>368928</th>\n",
       "      <td>\u001a</td>\n",
       "      <td>NaN</td>\n",
       "      <td>NaN</td>\n",
       "      <td>NaN</td>\n",
       "      <td>NaN</td>\n",
       "      <td>NaN</td>\n",
       "      <td>NaN</td>\n",
       "      <td>NaN</td>\n",
       "      <td>NaN</td>\n",
       "      <td>NaN</td>\n",
       "      <td>...</td>\n",
       "      <td>NaN</td>\n",
       "      <td>NaN</td>\n",
       "      <td>NaN</td>\n",
       "      <td>NaN</td>\n",
       "      <td>NaN</td>\n",
       "      <td>NaN</td>\n",
       "      <td>NaN</td>\n",
       "      <td>NaN</td>\n",
       "      <td>NaN</td>\n",
       "      <td>NaN</td>\n",
       "    </tr>\n",
       "  </tbody>\n",
       "</table>\n",
       "<p>368929 rows × 26 columns</p>\n",
       "</div>"
      ],
      "text/plain": [
       "       date_reference semaine_injection region_residence libelle_region  \\\n",
       "0          2022-01-09           2020-52                1     Guadeloupe   \n",
       "1          2022-01-09           2020-52                1     Guadeloupe   \n",
       "2          2022-01-09           2020-52                1     Guadeloupe   \n",
       "3          2022-01-09           2020-52                1     Guadeloupe   \n",
       "4          2022-01-09           2020-52                1     Guadeloupe   \n",
       "...               ...               ...              ...            ...   \n",
       "368924     2022-01-16           2022-02     Toute région         FRANCE   \n",
       "368925     2022-01-16           2022-02     Toute région         FRANCE   \n",
       "368926     2022-01-16           2022-02     Toute région         FRANCE   \n",
       "368927     2022-01-16           2022-02     Toute région         FRANCE   \n",
       "368928              \u001a               NaN              NaN            NaN   \n",
       "\n",
       "       departement_residence libelle_departement  population_insee classe_age  \\\n",
       "0           Tout département              FRANCE           50545.0      00-11   \n",
       "1           Tout département              FRANCE           50545.0      00-11   \n",
       "2           Tout département              FRANCE           50545.0      00-11   \n",
       "3           Tout département              FRANCE           50545.0      00-11   \n",
       "4           Tout département              FRANCE           50545.0      00-11   \n",
       "...                      ...                 ...               ...        ...   \n",
       "368924      Tout département              FRANCE        67287193.0   TOUT_AGE   \n",
       "368925      Tout département              FRANCE        67287193.0   TOUT_AGE   \n",
       "368926      Tout département              FRANCE        67287193.0   TOUT_AGE   \n",
       "368927      Tout département              FRANCE        67287193.0   TOUT_AGE   \n",
       "368928                   NaN                 NaN               NaN        NaN   \n",
       "\n",
       "       libelle_classe_age                            type_vaccin  ...  \\\n",
       "0           de 0 à 11 ans              COMIRNATY Pfizer-BioNTech  ...   \n",
       "1           de 0 à 11 ans               COVID-19 Vaccine Moderna  ...   \n",
       "2           de 0 à 11 ans                  VAXZEVRIA AstraZeneca  ...   \n",
       "3           de 0 à 11 ans               COVID-19 Vaccine Janssen  ...   \n",
       "4           de 0 à 11 ans  COMIRNATY Pfizer-BioNTech pédiatrique  ...   \n",
       "...                   ...                                    ...  ...   \n",
       "368924           Tout âge                  VAXZEVRIA AstraZeneca  ...   \n",
       "368925           Tout âge               COVID-19 Vaccine Janssen  ...   \n",
       "368926           Tout âge  COMIRNATY Pfizer-BioNTech pédiatrique  ...   \n",
       "368927           Tout âge                            Tout vaccin  ...   \n",
       "368928                NaN                                    NaN  ...   \n",
       "\n",
       "        taux_cumu_1_inj  taux_cumu_termine        date  effectif_rappel  \\\n",
       "0                   NaN                NaN  2021-01-03              NaN   \n",
       "1                   NaN                NaN  2021-01-03              NaN   \n",
       "2                   NaN                NaN  2021-01-03              NaN   \n",
       "3                   NaN                NaN  2021-01-03              NaN   \n",
       "4                   NaN                NaN  2021-01-03              NaN   \n",
       "...                 ...                ...         ...              ...   \n",
       "368924            0.065              0.054  2022-01-16              NaN   \n",
       "368925            0.016              0.016  2022-01-16              NaN   \n",
       "368926            0.002              0.000  2022-01-16              NaN   \n",
       "368927            0.796              0.777  2022-01-16        3225750.0   \n",
       "368928              NaN                NaN         NaN              NaN   \n",
       "\n",
       "        effectif_cumu_rappel  effectif_rappel_parmi_eligible  \\\n",
       "0                        NaN                             NaN   \n",
       "1                        NaN                             NaN   \n",
       "2                        NaN                             NaN   \n",
       "3                        NaN                             NaN   \n",
       "4                        NaN                             NaN   \n",
       "...                      ...                             ...   \n",
       "368924                   NaN                             NaN   \n",
       "368925                   NaN                             NaN   \n",
       "368926                   NaN                             NaN   \n",
       "368927            31617730.0                      31160710.0   \n",
       "368928                   NaN                             NaN   \n",
       "\n",
       "        effectif_eligible_au_rappel  taux_rappel taux_cumu_rappel  \\\n",
       "0                               NaN          NaN              NaN   \n",
       "1                               NaN          NaN              NaN   \n",
       "2                               NaN          NaN              NaN   \n",
       "3                               NaN          NaN              NaN   \n",
       "4                               NaN          NaN              NaN   \n",
       "...                             ...          ...              ...   \n",
       "368924                    4249640.0          NaN              NaN   \n",
       "368925                    1043810.0          NaN              NaN   \n",
       "368926                          NaN          NaN              NaN   \n",
       "368927                   43673790.0        0.048             0.47   \n",
       "368928                          NaN          NaN              NaN   \n",
       "\n",
       "        taux_cumu_rappeleli  \n",
       "0                       NaN  \n",
       "1                       NaN  \n",
       "2                       NaN  \n",
       "3                       NaN  \n",
       "4                       NaN  \n",
       "...                     ...  \n",
       "368924                  NaN  \n",
       "368925                  NaN  \n",
       "368926                  NaN  \n",
       "368927                0.713  \n",
       "368928                  NaN  \n",
       "\n",
       "[368929 rows x 26 columns]"
      ]
     },
     "execution_count": 2,
     "metadata": {},
     "output_type": "execute_result"
    }
   ],
   "source": [
    "df = pd.read_csv(r\".\\vaccination-covid\\src\\data\\masterlist.csv\", delimiter=\";\")\n",
    "df"
   ]
  },
  {
   "cell_type": "markdown",
   "metadata": {},
   "source": [
    "#### Affichage du nom des différentes colonnes"
   ]
  },
  {
   "cell_type": "code",
   "execution_count": 22,
   "metadata": {},
   "outputs": [
    {
     "data": {
      "text/plain": [
       "Index(['date_reference', 'semaine_injection', 'region_residence',\n",
       "       'libelle_region', 'departement_residence', 'libelle_departement',\n",
       "       'population_insee', 'classe_age', 'libelle_classe_age', 'type_vaccin',\n",
       "       'effectif_1_inj', 'effectif_termine', 'effectif_cumu_1_inj',\n",
       "       'effectif_cumu_termine', 'taux_1_inj', 'taux_termine',\n",
       "       'taux_cumu_1_inj', 'taux_cumu_termine', 'date', 'effectif_rappel',\n",
       "       'effectif_cumu_rappel', 'effectif_rappel_parmi_eligible',\n",
       "       'effectif_eligible_au_rappel', 'taux_rappel', 'taux_cumu_rappel',\n",
       "       'taux_cumu_rappeleli'],\n",
       "      dtype='object')"
      ]
     },
     "execution_count": 22,
     "metadata": {},
     "output_type": "execute_result"
    }
   ],
   "source": [
    "df.columns"
   ]
  },
  {
   "cell_type": "markdown",
   "metadata": {},
   "source": [
    "### Établir pour chaque variable le nombre de valeurs manquantes et aberrante ainsi que le pourcentage que cela représente."
   ]
  },
  {
   "cell_type": "markdown",
   "metadata": {},
   "source": [
    "#### Détermination des valeurs manquantes"
   ]
  },
  {
   "cell_type": "code",
   "execution_count": 20,
   "metadata": {},
   "outputs": [
    {
     "name": "stdout",
     "output_type": "stream",
     "text": [
      "352566\n"
     ]
    }
   ],
   "source": [
    "x = pd.isnull(df[\"taux_cumu_rappeleli\"]).sum().sum()\n",
    "print(x)"
   ]
  },
  {
   "cell_type": "markdown",
   "metadata": {},
   "source": [
    "#### Détermination des valeurs abérantes\n",
    "\n",
    "Nous réalisons dans un premier temps une boite à moustache pour les valeurs de type [int] et [double]."
   ]
  },
  {
   "cell_type": "code",
   "execution_count": 3,
   "metadata": {},
   "outputs": [
    {
     "name": "stderr",
     "output_type": "stream",
     "text": [
      "C:\\Users\\Louis\\miniconda3\\lib\\site-packages\\seaborn\\_decorators.py:36: FutureWarning: Pass the following variable as a keyword arg: x. From version 0.12, the only valid positional argument will be `data`, and passing other arguments without an explicit keyword will result in an error or misinterpretation.\n",
      "  warnings.warn(\n"
     ]
    },
    {
     "data": {
      "image/png": "[encoded data removed]",
      "text/plain": [
       "<Figure size 432x288 with 1 Axes>"
      ]
     },
     "metadata": {
      "needs_background": "light"
     },
     "output_type": "display_data"
    }
   ],
   "source": [
    "f, axes = plt.subplots()\n",
    "sns.boxplot(df[\"effectif_termine\"])\n",
    "plt.show()"
   ]
  },
  {
   "cell_type": "markdown",
   "metadata": {},
   "source": [
    "#### effectif_1_inj\n",
    "\n",
    "effectif_1_inj[int] Effectif de patients ayant reçu au moins une première injection.\n",
    "\n",
    "On observe qu'en traçant une boite à moustache, aucune boite n'est tracée, on obtient uniquement des points.\n",
    "Celà signifie qu'aucune valeures abérante n'est présente."
   ]
  },
  {
   "cell_type": "code",
   "execution_count": 4,
   "metadata": {},
   "outputs": [
    {
     "name": "stderr",
     "output_type": "stream",
     "text": [
      "C:\\Users\\Louis\\miniconda3\\lib\\site-packages\\seaborn\\_decorators.py:36: FutureWarning: Pass the following variable as a keyword arg: x. From version 0.12, the only valid positional argument will be `data`, and passing other arguments without an explicit keyword will result in an error or misinterpretation.\n",
      "  warnings.warn(\n"
     ]
    },
    {
     "data": {
      "image/png": "[encoded data removed]",
      "text/plain": [
       "<Figure size 432x288 with 1 Axes>"
      ]
     },
     "metadata": {
      "needs_background": "light"
     },
     "output_type": "display_data"
    }
   ],
   "source": [
    "f, axes = plt.subplots()\n",
    "sns.boxplot(df[\"effectif_termine\"])\n",
    "plt.show()"
   ]
  },
  {
   "cell_type": "markdown",
   "metadata": {},
   "source": [
    "#### effectif_termine\n",
    "\n",
    "effectif_termine[int] Effectif de patients dont le schéma vaccinal initial est terminé.\n",
    "\n",
    "On observe qu'en traçant une boite à moustache, aucune boite n'est tracée, on obtient uniquement des points.\n",
    "Celà signifie qu'aucune valeures abérante n'est présente."
   ]
  },
  {
   "cell_type": "code",
   "execution_count": 5,
   "metadata": {},
   "outputs": [
    {
     "name": "stderr",
     "output_type": "stream",
     "text": [
      "C:\\Users\\Louis\\miniconda3\\lib\\site-packages\\seaborn\\_decorators.py:36: FutureWarning: Pass the following variable as a keyword arg: x. From version 0.12, the only valid positional argument will be `data`, and passing other arguments without an explicit keyword will result in an error or misinterpretation.\n",
      "  warnings.warn(\n"
     ]
    },
    {
     "data": {
      "image/png": "[encoded data removed]",
      "text/plain": [
       "<Figure size 432x288 with 1 Axes>"
      ]
     },
     "metadata": {
      "needs_background": "light"
     },
     "output_type": "display_data"
    }
   ],
   "source": [
    "f, axes = plt.subplots()\n",
    "sns.boxplot(df[\"effectif_cumu_1_inj\"])\n",
    "plt.show()"
   ]
  },
  {
   "cell_type": "markdown",
   "metadata": {},
   "source": [
    "#### effectif_cumu_1_inj\n",
    "\n",
    "effectif_cumu_1_inj[int] Effectif cumulé de patients ayant reçu au moins une première injection.\n",
    "On observe qu'en traçant une boite à moustache, aucune boite n'est tracée, on obtient uniquement des points.\n",
    "Celà signifie qu'aucune valeures abérante n'est présente."
   ]
  },
  {
   "cell_type": "code",
   "execution_count": 6,
   "metadata": {},
   "outputs": [
    {
     "name": "stderr",
     "output_type": "stream",
     "text": [
      "C:\\Users\\Louis\\miniconda3\\lib\\site-packages\\seaborn\\_decorators.py:36: FutureWarning: Pass the following variable as a keyword arg: x. From version 0.12, the only valid positional argument will be `data`, and passing other arguments without an explicit keyword will result in an error or misinterpretation.\n",
      "  warnings.warn(\n"
     ]
    },
    {
     "data": {
      "image/png": "[encoded data removed]",
      "text/plain": [
       "<Figure size 432x288 with 1 Axes>"
      ]
     },
     "metadata": {
      "needs_background": "light"
     },
     "output_type": "display_data"
    }
   ],
   "source": [
    "f, axes = plt.subplots()\n",
    "sns.boxplot(df[\"effectif_cumu_termine\"])\n",
    "plt.show()"
   ]
  },
  {
   "cell_type": "markdown",
   "metadata": {},
   "source": [
    "#### effectif_cumu_termine\n",
    "\n",
    "effectif_cumu_termine[int] Effectif cumulé de patients dont le schéma vaccinal initial est terminé.\n",
    "On observe qu'en traçant une boite à moustache, aucune boite n'est tracée, on obtient uniquement des points.\n",
    "Celà signifie qu'aucune valeures abérante n'est présente."
   ]
  },
  {
   "cell_type": "code",
   "execution_count": 7,
   "metadata": {},
   "outputs": [
    {
     "name": "stderr",
     "output_type": "stream",
     "text": [
      "C:\\Users\\Louis\\miniconda3\\lib\\site-packages\\seaborn\\_decorators.py:36: FutureWarning: Pass the following variable as a keyword arg: x. From version 0.12, the only valid positional argument will be `data`, and passing other arguments without an explicit keyword will result in an error or misinterpretation.\n",
      "  warnings.warn(\n"
     ]
    },
    {
     "data": {
      "image/png": "[encoded data removed]",
      "text/plain": [
       "<Figure size 432x288 with 1 Axes>"
      ]
     },
     "metadata": {
      "needs_background": "light"
     },
     "output_type": "display_data"
    }
   ],
   "source": [
    "f, axes = plt.subplots()\n",
    "sns.boxplot(df[\"taux_1_inj\"])\n",
    "plt.show()"
   ]
  },
  {
   "cell_type": "markdown",
   "metadata": {},
   "source": [
    "#### taux_1_inj \n",
    "\n",
    "taux_1_inj[double] Taux de vaccination de patients ayant reçu au moins une première injection.\n",
    "On observe, en traçant une boite à moustache, qu'une boite est tracée. On observe également des points en dehors des moustaches de la boite, plus particulièrement du côté droit; ce sont nos valeurs abérantes."
   ]
  },
  {
   "cell_type": "code",
   "execution_count": 8,
   "metadata": {},
   "outputs": [
    {
     "name": "stderr",
     "output_type": "stream",
     "text": [
      "C:\\Users\\Louis\\miniconda3\\lib\\site-packages\\seaborn\\_decorators.py:36: FutureWarning: Pass the following variable as a keyword arg: x. From version 0.12, the only valid positional argument will be `data`, and passing other arguments without an explicit keyword will result in an error or misinterpretation.\n",
      "  warnings.warn(\n"
     ]
    },
    {
     "data": {
      "image/png": "[encoded data removed]",
      "text/plain": [
       "<Figure size 432x288 with 1 Axes>"
      ]
     },
     "metadata": {
      "needs_background": "light"
     },
     "output_type": "display_data"
    }
   ],
   "source": [
    "f, axes = plt.subplots()\n",
    "sns.boxplot(df[\"taux_termine\"])\n",
    "plt.show()"
   ]
  },
  {
   "cell_type": "code",
   "execution_count": 9,
   "metadata": {},
   "outputs": [
    {
     "name": "stderr",
     "output_type": "stream",
     "text": [
      "C:\\Users\\Louis\\miniconda3\\lib\\site-packages\\seaborn\\_decorators.py:36: FutureWarning: Pass the following variable as a keyword arg: x. From version 0.12, the only valid positional argument will be `data`, and passing other arguments without an explicit keyword will result in an error or misinterpretation.\n",
      "  warnings.warn(\n"
     ]
    },
    {
     "data": {
      "image/png": "[encoded data removed]",
      "text/plain": [
       "<Figure size 432x288 with 1 Axes>"
      ]
     },
     "metadata": {
      "needs_background": "light"
     },
     "output_type": "display_data"
    }
   ],
   "source": [
    "f, axes = plt.subplots()\n",
    "sns.boxplot(df[\"taux_cumu_1_inj\"])\n",
    "plt.show()"
   ]
  },
  {
   "cell_type": "code",
   "execution_count": 10,
   "metadata": {},
   "outputs": [
    {
     "name": "stderr",
     "output_type": "stream",
     "text": [
      "C:\\Users\\Louis\\miniconda3\\lib\\site-packages\\seaborn\\_decorators.py:36: FutureWarning: Pass the following variable as a keyword arg: x. From version 0.12, the only valid positional argument will be `data`, and passing other arguments without an explicit keyword will result in an error or misinterpretation.\n",
      "  warnings.warn(\n"
     ]
    },
    {
     "data": {
      "image/png": "[encoded data removed]",
      "text/plain": [
       "<Figure size 432x288 with 1 Axes>"
      ]
     },
     "metadata": {
      "needs_background": "light"
     },
     "output_type": "display_data"
    }
   ],
   "source": [
    "f, axes = plt.subplots()\n",
    "sns.boxplot(df[\"taux_cumu_termine\"])\n",
    "plt.show()"
   ]
  },
  {
   "cell_type": "code",
   "execution_count": 12,
   "metadata": {},
   "outputs": [
    {
     "name": "stderr",
     "output_type": "stream",
     "text": [
      "C:\\Users\\Louis\\miniconda3\\lib\\site-packages\\seaborn\\_decorators.py:36: FutureWarning: Pass the following variable as a keyword arg: x. From version 0.12, the only valid positional argument will be `data`, and passing other arguments without an explicit keyword will result in an error or misinterpretation.\n",
      "  warnings.warn(\n"
     ]
    },
    {
     "data": {
      "image/png": "[encoded data removed]",
      "text/plain": [
       "<Figure size 432x288 with 1 Axes>"
      ]
     },
     "metadata": {
      "needs_background": "light"
     },
     "output_type": "display_data"
    }
   ],
   "source": [
    "f, axes = plt.subplots()\n",
    "sns.boxplot(df[\"effectif_rappel\"])\n",
    "plt.show()"
   ]
  },
  {
   "cell_type": "code",
   "execution_count": 13,
   "metadata": {},
   "outputs": [
    {
     "name": "stderr",
     "output_type": "stream",
     "text": [
      "C:\\Users\\Louis\\miniconda3\\lib\\site-packages\\seaborn\\_decorators.py:36: FutureWarning: Pass the following variable as a keyword arg: x. From version 0.12, the only valid positional argument will be `data`, and passing other arguments without an explicit keyword will result in an error or misinterpretation.\n",
      "  warnings.warn(\n"
     ]
    },
    {
     "data": {
      "image/png": "[encoded data removed]",
      "text/plain": [
       "<Figure size 432x288 with 1 Axes>"
      ]
     },
     "metadata": {
      "needs_background": "light"
     },
     "output_type": "display_data"
    }
   ],
   "source": [
    "f, axes = plt.subplots()\n",
    "sns.boxplot(df[\"effectif_cumu_rappel\"])\n",
    "plt.show()"
   ]
  },
  {
   "cell_type": "code",
   "execution_count": 14,
   "metadata": {},
   "outputs": [
    {
     "name": "stderr",
     "output_type": "stream",
     "text": [
      "C:\\Users\\Louis\\miniconda3\\lib\\site-packages\\seaborn\\_decorators.py:36: FutureWarning: Pass the following variable as a keyword arg: x. From version 0.12, the only valid positional argument will be `data`, and passing other arguments without an explicit keyword will result in an error or misinterpretation.\n",
      "  warnings.warn(\n"
     ]
    },
    {
     "data": {
      "image/png": "[encoded data removed]",
      "text/plain": [
       "<Figure size 432x288 with 1 Axes>"
      ]
     },
     "metadata": {
      "needs_background": "light"
     },
     "output_type": "display_data"
    }
   ],
   "source": [
    "f, axes = plt.subplots()\n",
    "sns.boxplot(df[\"effectif_rappel_parmi_eligible\"])\n",
    "plt.show()"
   ]
  },
  {
   "cell_type": "code",
   "execution_count": 15,
   "metadata": {},
   "outputs": [
    {
     "name": "stderr",
     "output_type": "stream",
     "text": [
      "C:\\Users\\Louis\\miniconda3\\lib\\site-packages\\seaborn\\_decorators.py:36: FutureWarning: Pass the following variable as a keyword arg: x. From version 0.12, the only valid positional argument will be `data`, and passing other arguments without an explicit keyword will result in an error or misinterpretation.\n",
      "  warnings.warn(\n"
     ]
    },
    {
     "data": {
      "image/png": "[encoded data removed]",
      "text/plain": [
       "<Figure size 432x288 with 1 Axes>"
      ]
     },
     "metadata": {
      "needs_background": "light"
     },
     "output_type": "display_data"
    }
   ],
   "source": [
    "f, axes = plt.subplots()\n",
    "sns.boxplot(df[\"effectif_eligible_au_rappel\"])\n",
    "plt.show()"
   ]
  },
  {
   "cell_type": "code",
   "execution_count": 17,
   "metadata": {},
   "outputs": [
    {
     "name": "stderr",
     "output_type": "stream",
     "text": [
      "C:\\Users\\Louis\\miniconda3\\lib\\site-packages\\seaborn\\_decorators.py:36: FutureWarning: Pass the following variable as a keyword arg: x. From version 0.12, the only valid positional argument will be `data`, and passing other arguments without an explicit keyword will result in an error or misinterpretation.\n",
      "  warnings.warn(\n"
     ]
    },
    {
     "data": {
      "image/png": "[encoded data removed]",
      "text/plain": [
       "<Figure size 432x288 with 1 Axes>"
      ]
     },
     "metadata": {
      "needs_background": "light"
     },
     "output_type": "display_data"
    }
   ],
   "source": [
    "f, axes = plt.subplots()\n",
    "sns.boxplot(df[\"taux_rappel\"])\n",
    "plt.show()"
   ]
  },
  {
   "cell_type": "code",
   "execution_count": 18,
   "metadata": {},
   "outputs": [
    {
     "name": "stderr",
     "output_type": "stream",
     "text": [
      "C:\\Users\\Louis\\miniconda3\\lib\\site-packages\\seaborn\\_decorators.py:36: FutureWarning: Pass the following variable as a keyword arg: x. From version 0.12, the only valid positional argument will be `data`, and passing other arguments without an explicit keyword will result in an error or misinterpretation.\n",
      "  warnings.warn(\n"
     ]
    },
    {
     "data": {
      "image/png": "[encoded data removed]",
      "text/plain": [
       "<Figure size 432x288 with 1 Axes>"
      ]
     },
     "metadata": {
      "needs_background": "light"
     },
     "output_type": "display_data"
    }
   ],
   "source": [
    "f, axes = plt.subplots()\n",
    "sns.boxplot(df[\"taux_cumu_rappel\"])\n",
    "plt.show()"
   ]
  },
  {
   "cell_type": "code",
   "execution_count": 19,
   "metadata": {},
   "outputs": [
    {
     "name": "stderr",
     "output_type": "stream",
     "text": [
      "C:\\Users\\Louis\\miniconda3\\lib\\site-packages\\seaborn\\_decorators.py:36: FutureWarning: Pass the following variable as a keyword arg: x. From version 0.12, the only valid positional argument will be `data`, and passing other arguments without an explicit keyword will result in an error or misinterpretation.\n",
      "  warnings.warn(\n"
     ]
    },
    {
     "data": {
      "image/png": "[encoded data removed]",
      "text/plain": [
       "<Figure size 432x288 with 1 Axes>"
      ]
     },
     "metadata": {
      "needs_background": "light"
     },
     "output_type": "display_data"
    }
   ],
   "source": [
    "f, axes = plt.subplots()\n",
    "sns.boxplot(df[\"taux_cumu_rappeleli\"])\n",
    "plt.show()"
   ]
  },
  {
   "cell_type": "markdown",
   "metadata": {},
   "source": [
    "##### Détermination de la médiane "
   ]
  },
  {
   "cell_type": "code",
   "execution_count": 21,
   "metadata": {},
   "outputs": [
    {
     "name": "stdout",
     "output_type": "stream",
     "text": [
      "population_insee                  77802.500\n",
      "effectif_1_inj                      310.000\n",
      "effectif_termine                    310.000\n",
      "effectif_cumu_1_inj                6420.000\n",
      "effectif_cumu_termine              4880.000\n",
      "taux_1_inj                            0.003\n",
      "taux_termine                          0.003\n",
      "taux_cumu_1_inj                       0.059\n",
      "taux_cumu_termine                     0.048\n",
      "effectif_rappel                    1380.000\n",
      "effectif_cumu_rappel               4190.000\n",
      "effectif_rappel_parmi_eligible     6320.000\n",
      "effectif_eligible_au_rappel        7540.000\n",
      "taux_rappel                           0.014\n",
      "taux_cumu_rappel                      0.040\n",
      "taux_cumu_rappeleli                   0.116\n",
      "dtype: float64\n"
     ]
    },
    {
     "name": "stderr",
     "output_type": "stream",
     "text": [
      "C:\\Users\\Louis\\AppData\\Local\\Temp\\ipykernel_122020\\2986268782.py:1: FutureWarning: Dropping of nuisance columns in DataFrame reductions (with 'numeric_only=None') is deprecated; in a future version this will raise TypeError.  Select only valid columns before calling the reduction.\n",
      "  y = df.median(axis = 0)\n"
     ]
    }
   ],
   "source": [
    "y = df.median(axis = 0)\n",
    "print(y)"
   ]
  }
 ],
 "metadata": {
  "interpreter": {
   "hash": "12591095ea80cdf9ee0a47fec3a1acd2553474dbc7fd082bab12b6575277a35b"
  },
  "kernelspec": {
   "display_name": "Python 3.9.5 64-bit ('base': conda)",
   "language": "python",
   "name": "python3"
  },
  "language_info": {
   "codemirror_mode": {
    "name": "ipython",
    "version": 3
   },
   "file_extension": ".py",
   "mimetype": "text/x-python",
   "name": "python",
   "nbconvert_exporter": "python",
   "pygments_lexer": "ipython3",
   "version": "3.9.5"
  },
  "orig_nbformat": 4
 },
 "nbformat": 4,
 "nbformat_minor": 2
}
