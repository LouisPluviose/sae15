{
 "cells": [
  {
   "cell_type": "code",
   "execution_count": 2,
   "metadata": {},
   "outputs": [],
   "source": [
    "import numpy as np\n",
    "import pandas as pd \n",
    "import matplotlib.pyplot as plt \n",
    "import seaborn as sns\n",
    "import os"
   ]
  },
  {
   "cell_type": "code",
   "execution_count": 10,
   "metadata": {},
   "outputs": [
    {
     "name": "stderr",
     "output_type": "stream",
     "text": [
      "C:\\Users\\louis\\AppData\\Local\\Temp\\ipykernel_9740\\3632758455.py:1: DtypeWarning: Columns (2) have mixed types. Specify dtype option on import or set low_memory=False.\n",
      "  df = pd.read_csv(r\".\\vaccination-covid\\data\\raw\\masterlist.csv\", delimiter=\";\")\n"
     ]
    },
    {
     "data": {
      "text/html": [
       "<div>\n",
       "<style scoped>\n",
       "    .dataframe tbody tr th:only-of-type {\n",
       "        vertical-align: middle;\n",
       "    }\n",
       "\n",
       "    .dataframe tbody tr th {\n",
       "        vertical-align: top;\n",
       "    }\n",
       "\n",
       "    .dataframe thead th {\n",
       "        text-align: right;\n",
       "    }\n",
       "</style>\n",
       "<table border=\"1\" class=\"dataframe\">\n",
       "  <thead>\n",
       "    <tr style=\"text-align: right;\">\n",
       "      <th></th>\n",
       "      <th>date_reference</th>\n",
       "      <th>semaine_injection</th>\n",
       "      <th>region_residence</th>\n",
       "      <th>libelle_region</th>\n",
       "      <th>departement_residence</th>\n",
       "      <th>libelle_departement</th>\n",
       "      <th>population_insee</th>\n",
       "      <th>classe_age</th>\n",
       "      <th>libelle_classe_age</th>\n",
       "      <th>type_vaccin</th>\n",
       "      <th>...</th>\n",
       "      <th>taux_cumu_1_inj</th>\n",
       "      <th>taux_cumu_termine</th>\n",
       "      <th>date</th>\n",
       "      <th>effectif_rappel</th>\n",
       "      <th>effectif_cumu_rappel</th>\n",
       "      <th>effectif_rappel_parmi_eligible</th>\n",
       "      <th>effectif_eligible_au_rappel</th>\n",
       "      <th>taux_rappel</th>\n",
       "      <th>taux_cumu_rappel</th>\n",
       "      <th>taux_cumu_rappeleli</th>\n",
       "    </tr>\n",
       "  </thead>\n",
       "  <tbody>\n",
       "    <tr>\n",
       "      <th>0</th>\n",
       "      <td>2022-01-09</td>\n",
       "      <td>2020-52</td>\n",
       "      <td>1</td>\n",
       "      <td>Guadeloupe</td>\n",
       "      <td>Tout département</td>\n",
       "      <td>FRANCE</td>\n",
       "      <td>50545.0</td>\n",
       "      <td>00-11</td>\n",
       "      <td>de 0 à 11 ans</td>\n",
       "      <td>COMIRNATY Pfizer-BioNTech</td>\n",
       "      <td>...</td>\n",
       "      <td>NaN</td>\n",
       "      <td>NaN</td>\n",
       "      <td>2021-01-03</td>\n",
       "      <td>NaN</td>\n",
       "      <td>NaN</td>\n",
       "      <td>NaN</td>\n",
       "      <td>NaN</td>\n",
       "      <td>NaN</td>\n",
       "      <td>NaN</td>\n",
       "      <td>NaN</td>\n",
       "    </tr>\n",
       "    <tr>\n",
       "      <th>1</th>\n",
       "      <td>2022-01-09</td>\n",
       "      <td>2020-52</td>\n",
       "      <td>1</td>\n",
       "      <td>Guadeloupe</td>\n",
       "      <td>Tout département</td>\n",
       "      <td>FRANCE</td>\n",
       "      <td>50545.0</td>\n",
       "      <td>00-11</td>\n",
       "      <td>de 0 à 11 ans</td>\n",
       "      <td>COVID-19 Vaccine Moderna</td>\n",
       "      <td>...</td>\n",
       "      <td>NaN</td>\n",
       "      <td>NaN</td>\n",
       "      <td>2021-01-03</td>\n",
       "      <td>NaN</td>\n",
       "      <td>NaN</td>\n",
       "      <td>NaN</td>\n",
       "      <td>NaN</td>\n",
       "      <td>NaN</td>\n",
       "      <td>NaN</td>\n",
       "      <td>NaN</td>\n",
       "    </tr>\n",
       "    <tr>\n",
       "      <th>2</th>\n",
       "      <td>2022-01-09</td>\n",
       "      <td>2020-52</td>\n",
       "      <td>1</td>\n",
       "      <td>Guadeloupe</td>\n",
       "      <td>Tout département</td>\n",
       "      <td>FRANCE</td>\n",
       "      <td>50545.0</td>\n",
       "      <td>00-11</td>\n",
       "      <td>de 0 à 11 ans</td>\n",
       "      <td>VAXZEVRIA AstraZeneca</td>\n",
       "      <td>...</td>\n",
       "      <td>NaN</td>\n",
       "      <td>NaN</td>\n",
       "      <td>2021-01-03</td>\n",
       "      <td>NaN</td>\n",
       "      <td>NaN</td>\n",
       "      <td>NaN</td>\n",
       "      <td>NaN</td>\n",
       "      <td>NaN</td>\n",
       "      <td>NaN</td>\n",
       "      <td>NaN</td>\n",
       "    </tr>\n",
       "    <tr>\n",
       "      <th>3</th>\n",
       "      <td>2022-01-09</td>\n",
       "      <td>2020-52</td>\n",
       "      <td>1</td>\n",
       "      <td>Guadeloupe</td>\n",
       "      <td>Tout département</td>\n",
       "      <td>FRANCE</td>\n",
       "      <td>50545.0</td>\n",
       "      <td>00-11</td>\n",
       "      <td>de 0 à 11 ans</td>\n",
       "      <td>COVID-19 Vaccine Janssen</td>\n",
       "      <td>...</td>\n",
       "      <td>NaN</td>\n",
       "      <td>NaN</td>\n",
       "      <td>2021-01-03</td>\n",
       "      <td>NaN</td>\n",
       "      <td>NaN</td>\n",
       "      <td>NaN</td>\n",
       "      <td>NaN</td>\n",
       "      <td>NaN</td>\n",
       "      <td>NaN</td>\n",
       "      <td>NaN</td>\n",
       "    </tr>\n",
       "    <tr>\n",
       "      <th>4</th>\n",
       "      <td>2022-01-09</td>\n",
       "      <td>2020-52</td>\n",
       "      <td>1</td>\n",
       "      <td>Guadeloupe</td>\n",
       "      <td>Tout département</td>\n",
       "      <td>FRANCE</td>\n",
       "      <td>50545.0</td>\n",
       "      <td>00-11</td>\n",
       "      <td>de 0 à 11 ans</td>\n",
       "      <td>COMIRNATY Pfizer-BioNTech pédiatrique</td>\n",
       "      <td>...</td>\n",
       "      <td>NaN</td>\n",
       "      <td>NaN</td>\n",
       "      <td>2021-01-03</td>\n",
       "      <td>NaN</td>\n",
       "      <td>NaN</td>\n",
       "      <td>NaN</td>\n",
       "      <td>NaN</td>\n",
       "      <td>NaN</td>\n",
       "      <td>NaN</td>\n",
       "      <td>NaN</td>\n",
       "    </tr>\n",
       "    <tr>\n",
       "      <th>...</th>\n",
       "      <td>...</td>\n",
       "      <td>...</td>\n",
       "      <td>...</td>\n",
       "      <td>...</td>\n",
       "      <td>...</td>\n",
       "      <td>...</td>\n",
       "      <td>...</td>\n",
       "      <td>...</td>\n",
       "      <td>...</td>\n",
       "      <td>...</td>\n",
       "      <td>...</td>\n",
       "      <td>...</td>\n",
       "      <td>...</td>\n",
       "      <td>...</td>\n",
       "      <td>...</td>\n",
       "      <td>...</td>\n",
       "      <td>...</td>\n",
       "      <td>...</td>\n",
       "      <td>...</td>\n",
       "      <td>...</td>\n",
       "      <td>...</td>\n",
       "    </tr>\n",
       "    <tr>\n",
       "      <th>368924</th>\n",
       "      <td>2022-01-16</td>\n",
       "      <td>2022-02</td>\n",
       "      <td>Toute région</td>\n",
       "      <td>FRANCE</td>\n",
       "      <td>Tout département</td>\n",
       "      <td>FRANCE</td>\n",
       "      <td>67287193.0</td>\n",
       "      <td>TOUT_AGE</td>\n",
       "      <td>Tout âge</td>\n",
       "      <td>VAXZEVRIA AstraZeneca</td>\n",
       "      <td>...</td>\n",
       "      <td>0.065</td>\n",
       "      <td>0.054</td>\n",
       "      <td>2022-01-16</td>\n",
       "      <td>NaN</td>\n",
       "      <td>NaN</td>\n",
       "      <td>NaN</td>\n",
       "      <td>4249640.0</td>\n",
       "      <td>NaN</td>\n",
       "      <td>NaN</td>\n",
       "      <td>NaN</td>\n",
       "    </tr>\n",
       "    <tr>\n",
       "      <th>368925</th>\n",
       "      <td>2022-01-16</td>\n",
       "      <td>2022-02</td>\n",
       "      <td>Toute région</td>\n",
       "      <td>FRANCE</td>\n",
       "      <td>Tout département</td>\n",
       "      <td>FRANCE</td>\n",
       "      <td>67287193.0</td>\n",
       "      <td>TOUT_AGE</td>\n",
       "      <td>Tout âge</td>\n",
       "      <td>COVID-19 Vaccine Janssen</td>\n",
       "      <td>...</td>\n",
       "      <td>0.016</td>\n",
       "      <td>0.016</td>\n",
       "      <td>2022-01-16</td>\n",
       "      <td>NaN</td>\n",
       "      <td>NaN</td>\n",
       "      <td>NaN</td>\n",
       "      <td>1043810.0</td>\n",
       "      <td>NaN</td>\n",
       "      <td>NaN</td>\n",
       "      <td>NaN</td>\n",
       "    </tr>\n",
       "    <tr>\n",
       "      <th>368926</th>\n",
       "      <td>2022-01-16</td>\n",
       "      <td>2022-02</td>\n",
       "      <td>Toute région</td>\n",
       "      <td>FRANCE</td>\n",
       "      <td>Tout département</td>\n",
       "      <td>FRANCE</td>\n",
       "      <td>67287193.0</td>\n",
       "      <td>TOUT_AGE</td>\n",
       "      <td>Tout âge</td>\n",
       "      <td>COMIRNATY Pfizer-BioNTech pédiatrique</td>\n",
       "      <td>...</td>\n",
       "      <td>0.002</td>\n",
       "      <td>0.000</td>\n",
       "      <td>2022-01-16</td>\n",
       "      <td>NaN</td>\n",
       "      <td>NaN</td>\n",
       "      <td>NaN</td>\n",
       "      <td>NaN</td>\n",
       "      <td>NaN</td>\n",
       "      <td>NaN</td>\n",
       "      <td>NaN</td>\n",
       "    </tr>\n",
       "    <tr>\n",
       "      <th>368927</th>\n",
       "      <td>2022-01-16</td>\n",
       "      <td>2022-02</td>\n",
       "      <td>Toute région</td>\n",
       "      <td>FRANCE</td>\n",
       "      <td>Tout département</td>\n",
       "      <td>FRANCE</td>\n",
       "      <td>67287193.0</td>\n",
       "      <td>TOUT_AGE</td>\n",
       "      <td>Tout âge</td>\n",
       "      <td>Tout vaccin</td>\n",
       "      <td>...</td>\n",
       "      <td>0.796</td>\n",
       "      <td>0.777</td>\n",
       "      <td>2022-01-16</td>\n",
       "      <td>3225750.0</td>\n",
       "      <td>31617730.0</td>\n",
       "      <td>31160710.0</td>\n",
       "      <td>43673790.0</td>\n",
       "      <td>0.048</td>\n",
       "      <td>0.47</td>\n",
       "      <td>0.713</td>\n",
       "    </tr>\n",
       "    <tr>\n",
       "      <th>368928</th>\n",
       "      <td>\u001a</td>\n",
       "      <td>NaN</td>\n",
       "      <td>NaN</td>\n",
       "      <td>NaN</td>\n",
       "      <td>NaN</td>\n",
       "      <td>NaN</td>\n",
       "      <td>NaN</td>\n",
       "      <td>NaN</td>\n",
       "      <td>NaN</td>\n",
       "      <td>NaN</td>\n",
       "      <td>...</td>\n",
       "      <td>NaN</td>\n",
       "      <td>NaN</td>\n",
       "      <td>NaN</td>\n",
       "      <td>NaN</td>\n",
       "      <td>NaN</td>\n",
       "      <td>NaN</td>\n",
       "      <td>NaN</td>\n",
       "      <td>NaN</td>\n",
       "      <td>NaN</td>\n",
       "      <td>NaN</td>\n",
       "    </tr>\n",
       "  </tbody>\n",
       "</table>\n",
       "<p>368929 rows × 26 columns</p>\n",
       "</div>"
      ],
      "text/plain": [
       "       date_reference semaine_injection region_residence libelle_region  \\\n",
       "0          2022-01-09           2020-52                1     Guadeloupe   \n",
       "1          2022-01-09           2020-52                1     Guadeloupe   \n",
       "2          2022-01-09           2020-52                1     Guadeloupe   \n",
       "3          2022-01-09           2020-52                1     Guadeloupe   \n",
       "4          2022-01-09           2020-52                1     Guadeloupe   \n",
       "...               ...               ...              ...            ...   \n",
       "368924     2022-01-16           2022-02     Toute région         FRANCE   \n",
       "368925     2022-01-16           2022-02     Toute région         FRANCE   \n",
       "368926     2022-01-16           2022-02     Toute région         FRANCE   \n",
       "368927     2022-01-16           2022-02     Toute région         FRANCE   \n",
       "368928              \u001a               NaN              NaN            NaN   \n",
       "\n",
       "       departement_residence libelle_departement  population_insee classe_age  \\\n",
       "0           Tout département              FRANCE           50545.0      00-11   \n",
       "1           Tout département              FRANCE           50545.0      00-11   \n",
       "2           Tout département              FRANCE           50545.0      00-11   \n",
       "3           Tout département              FRANCE           50545.0      00-11   \n",
       "4           Tout département              FRANCE           50545.0      00-11   \n",
       "...                      ...                 ...               ...        ...   \n",
       "368924      Tout département              FRANCE        67287193.0   TOUT_AGE   \n",
       "368925      Tout département              FRANCE        67287193.0   TOUT_AGE   \n",
       "368926      Tout département              FRANCE        67287193.0   TOUT_AGE   \n",
       "368927      Tout département              FRANCE        67287193.0   TOUT_AGE   \n",
       "368928                   NaN                 NaN               NaN        NaN   \n",
       "\n",
       "       libelle_classe_age                            type_vaccin  ...  \\\n",
       "0           de 0 à 11 ans              COMIRNATY Pfizer-BioNTech  ...   \n",
       "1           de 0 à 11 ans               COVID-19 Vaccine Moderna  ...   \n",
       "2           de 0 à 11 ans                  VAXZEVRIA AstraZeneca  ...   \n",
       "3           de 0 à 11 ans               COVID-19 Vaccine Janssen  ...   \n",
       "4           de 0 à 11 ans  COMIRNATY Pfizer-BioNTech pédiatrique  ...   \n",
       "...                   ...                                    ...  ...   \n",
       "368924           Tout âge                  VAXZEVRIA AstraZeneca  ...   \n",
       "368925           Tout âge               COVID-19 Vaccine Janssen  ...   \n",
       "368926           Tout âge  COMIRNATY Pfizer-BioNTech pédiatrique  ...   \n",
       "368927           Tout âge                            Tout vaccin  ...   \n",
       "368928                NaN                                    NaN  ...   \n",
       "\n",
       "        taux_cumu_1_inj  taux_cumu_termine        date  effectif_rappel  \\\n",
       "0                   NaN                NaN  2021-01-03              NaN   \n",
       "1                   NaN                NaN  2021-01-03              NaN   \n",
       "2                   NaN                NaN  2021-01-03              NaN   \n",
       "3                   NaN                NaN  2021-01-03              NaN   \n",
       "4                   NaN                NaN  2021-01-03              NaN   \n",
       "...                 ...                ...         ...              ...   \n",
       "368924            0.065              0.054  2022-01-16              NaN   \n",
       "368925            0.016              0.016  2022-01-16              NaN   \n",
       "368926            0.002              0.000  2022-01-16              NaN   \n",
       "368927            0.796              0.777  2022-01-16        3225750.0   \n",
       "368928              NaN                NaN         NaN              NaN   \n",
       "\n",
       "        effectif_cumu_rappel  effectif_rappel_parmi_eligible  \\\n",
       "0                        NaN                             NaN   \n",
       "1                        NaN                             NaN   \n",
       "2                        NaN                             NaN   \n",
       "3                        NaN                             NaN   \n",
       "4                        NaN                             NaN   \n",
       "...                      ...                             ...   \n",
       "368924                   NaN                             NaN   \n",
       "368925                   NaN                             NaN   \n",
       "368926                   NaN                             NaN   \n",
       "368927            31617730.0                      31160710.0   \n",
       "368928                   NaN                             NaN   \n",
       "\n",
       "        effectif_eligible_au_rappel  taux_rappel taux_cumu_rappel  \\\n",
       "0                               NaN          NaN              NaN   \n",
       "1                               NaN          NaN              NaN   \n",
       "2                               NaN          NaN              NaN   \n",
       "3                               NaN          NaN              NaN   \n",
       "4                               NaN          NaN              NaN   \n",
       "...                             ...          ...              ...   \n",
       "368924                    4249640.0          NaN              NaN   \n",
       "368925                    1043810.0          NaN              NaN   \n",
       "368926                          NaN          NaN              NaN   \n",
       "368927                   43673790.0        0.048             0.47   \n",
       "368928                          NaN          NaN              NaN   \n",
       "\n",
       "        taux_cumu_rappeleli  \n",
       "0                       NaN  \n",
       "1                       NaN  \n",
       "2                       NaN  \n",
       "3                       NaN  \n",
       "4                       NaN  \n",
       "...                     ...  \n",
       "368924                  NaN  \n",
       "368925                  NaN  \n",
       "368926                  NaN  \n",
       "368927                0.713  \n",
       "368928                  NaN  \n",
       "\n",
       "[368929 rows x 26 columns]"
      ]
     },
     "execution_count": 10,
     "metadata": {},
     "output_type": "execute_result"
    }
   ],
   "source": [
    "df = pd.read_csv(r\".\\vaccination-covid\\data\\raw\\masterlist.csv\", delimiter=\";\")\n",
    "df"
   ]
  },
  {
   "cell_type": "code",
   "execution_count": 9,
   "metadata": {},
   "outputs": [
    {
     "data": {
      "text/plain": [
       "(368929, 26)"
      ]
     },
     "execution_count": 9,
     "metadata": {},
     "output_type": "execute_result"
    }
   ],
   "source": [
    "df.shape"
   ]
  },
  {
   "cell_type": "code",
   "execution_count": 10,
   "metadata": {},
   "outputs": [
    {
     "data": {
      "text/plain": [
       "Index(['date_reference', 'semaine_injection', 'region_residence',\n",
       "       'libelle_region', 'departement_residence', 'libelle_departement',\n",
       "       'population_insee', 'classe_age', 'libelle_classe_age', 'type_vaccin',\n",
       "       'effectif_1_inj', 'effectif_termine', 'effectif_cumu_1_inj',\n",
       "       'effectif_cumu_termine', 'taux_1_inj', 'taux_termine',\n",
       "       'taux_cumu_1_inj', 'taux_cumu_termine', 'date', 'effectif_rappel',\n",
       "       'effectif_cumu_rappel', 'effectif_rappel_parmi_eligible',\n",
       "       'effectif_eligible_au_rappel', 'taux_rappel', 'taux_cumu_rappel',\n",
       "       'taux_cumu_rappeleli'],\n",
       "      dtype='object')"
      ]
     },
     "execution_count": 10,
     "metadata": {},
     "output_type": "execute_result"
    }
   ],
   "source": [
    "df.columns"
   ]
  },
  {
   "cell_type": "code",
   "execution_count": 11,
   "metadata": {},
   "outputs": [
    {
     "name": "stdout",
     "output_type": "stream",
     "text": [
      "<class 'pandas.core.frame.DataFrame'>\n",
      "RangeIndex: 368929 entries, 0 to 368928\n",
      "Data columns (total 26 columns):\n",
      " #   Column                          Non-Null Count   Dtype  \n",
      "---  ------                          --------------   -----  \n",
      " 0   date_reference                  368929 non-null  object \n",
      " 1   semaine_injection               368928 non-null  object \n",
      " 2   region_residence                368928 non-null  object \n",
      " 3   libelle_region                  362880 non-null  object \n",
      " 4   departement_residence           368928 non-null  object \n",
      " 5   libelle_departement             365904 non-null  object \n",
      " 6   population_insee                362880 non-null  float64\n",
      " 7   classe_age                      368928 non-null  object \n",
      " 8   libelle_classe_age              368928 non-null  object \n",
      " 9   type_vaccin                     368928 non-null  object \n",
      " 10  effectif_1_inj                  170557 non-null  float64\n",
      " 11  effectif_termine                162210 non-null  float64\n",
      " 12  effectif_cumu_1_inj             235771 non-null  float64\n",
      " 13  effectif_cumu_termine           219338 non-null  float64\n",
      " 14  taux_1_inj                      166595 non-null  float64\n",
      " 15  taux_termine                    158434 non-null  float64\n",
      " 16  taux_cumu_1_inj                 231167 non-null  float64\n",
      " 17  taux_cumu_termine               214964 non-null  float64\n",
      " 18  date                            368928 non-null  object \n",
      " 19  effectif_rappel                 17053 non-null   float64\n",
      " 20  effectif_cumu_rappel            18327 non-null   float64\n",
      " 21  effectif_rappel_parmi_eligible  16363 non-null   float64\n",
      " 22  effectif_eligible_au_rappel     84292 non-null   float64\n",
      " 23  taux_rappel                     16709 non-null   float64\n",
      " 24  taux_cumu_rappel                17945 non-null   float64\n",
      " 25  taux_cumu_rappeleli             16363 non-null   float64\n",
      "dtypes: float64(16), object(10)\n",
      "memory usage: 73.2+ MB\n"
     ]
    }
   ],
   "source": [
    "df.info()"
   ]
  },
  {
   "cell_type": "code",
   "execution_count": 13,
   "metadata": {},
   "outputs": [
    {
     "data": {
      "text/html": [
       "<div>\n",
       "<style scoped>\n",
       "    .dataframe tbody tr th:only-of-type {\n",
       "        vertical-align: middle;\n",
       "    }\n",
       "\n",
       "    .dataframe tbody tr th {\n",
       "        vertical-align: top;\n",
       "    }\n",
       "\n",
       "    .dataframe thead th {\n",
       "        text-align: right;\n",
       "    }\n",
       "</style>\n",
       "<table border=\"1\" class=\"dataframe\">\n",
       "  <thead>\n",
       "    <tr style=\"text-align: right;\">\n",
       "      <th></th>\n",
       "      <th>0</th>\n",
       "      <th>1</th>\n",
       "      <th>2</th>\n",
       "      <th>3</th>\n",
       "      <th>4</th>\n",
       "      <th>5</th>\n",
       "      <th>6</th>\n",
       "      <th>7</th>\n",
       "      <th>8</th>\n",
       "      <th>9</th>\n",
       "    </tr>\n",
       "  </thead>\n",
       "  <tbody>\n",
       "    <tr>\n",
       "      <th>date_reference</th>\n",
       "      <td>2022-01-09</td>\n",
       "      <td>2022-01-09</td>\n",
       "      <td>2022-01-09</td>\n",
       "      <td>2022-01-09</td>\n",
       "      <td>2022-01-09</td>\n",
       "      <td>2022-01-09</td>\n",
       "      <td>2022-01-09</td>\n",
       "      <td>2022-01-09</td>\n",
       "      <td>2022-01-09</td>\n",
       "      <td>2022-01-09</td>\n",
       "    </tr>\n",
       "    <tr>\n",
       "      <th>semaine_injection</th>\n",
       "      <td>2020-52</td>\n",
       "      <td>2020-52</td>\n",
       "      <td>2020-52</td>\n",
       "      <td>2020-52</td>\n",
       "      <td>2020-52</td>\n",
       "      <td>2020-52</td>\n",
       "      <td>2020-52</td>\n",
       "      <td>2020-52</td>\n",
       "      <td>2020-52</td>\n",
       "      <td>2020-52</td>\n",
       "    </tr>\n",
       "    <tr>\n",
       "      <th>region_residence</th>\n",
       "      <td>1</td>\n",
       "      <td>1</td>\n",
       "      <td>1</td>\n",
       "      <td>1</td>\n",
       "      <td>1</td>\n",
       "      <td>1</td>\n",
       "      <td>1</td>\n",
       "      <td>1</td>\n",
       "      <td>1</td>\n",
       "      <td>1</td>\n",
       "    </tr>\n",
       "    <tr>\n",
       "      <th>libelle_region</th>\n",
       "      <td>Guadeloupe</td>\n",
       "      <td>Guadeloupe</td>\n",
       "      <td>Guadeloupe</td>\n",
       "      <td>Guadeloupe</td>\n",
       "      <td>Guadeloupe</td>\n",
       "      <td>Guadeloupe</td>\n",
       "      <td>Guadeloupe</td>\n",
       "      <td>Guadeloupe</td>\n",
       "      <td>Guadeloupe</td>\n",
       "      <td>Guadeloupe</td>\n",
       "    </tr>\n",
       "    <tr>\n",
       "      <th>departement_residence</th>\n",
       "      <td>Tout département</td>\n",
       "      <td>Tout département</td>\n",
       "      <td>Tout département</td>\n",
       "      <td>Tout département</td>\n",
       "      <td>Tout département</td>\n",
       "      <td>Tout département</td>\n",
       "      <td>Tout département</td>\n",
       "      <td>Tout département</td>\n",
       "      <td>Tout département</td>\n",
       "      <td>Tout département</td>\n",
       "    </tr>\n",
       "    <tr>\n",
       "      <th>libelle_departement</th>\n",
       "      <td>FRANCE</td>\n",
       "      <td>FRANCE</td>\n",
       "      <td>FRANCE</td>\n",
       "      <td>FRANCE</td>\n",
       "      <td>FRANCE</td>\n",
       "      <td>FRANCE</td>\n",
       "      <td>FRANCE</td>\n",
       "      <td>FRANCE</td>\n",
       "      <td>FRANCE</td>\n",
       "      <td>FRANCE</td>\n",
       "    </tr>\n",
       "    <tr>\n",
       "      <th>population_insee</th>\n",
       "      <td>50545.0</td>\n",
       "      <td>50545.0</td>\n",
       "      <td>50545.0</td>\n",
       "      <td>50545.0</td>\n",
       "      <td>50545.0</td>\n",
       "      <td>50545.0</td>\n",
       "      <td>31882.0</td>\n",
       "      <td>31882.0</td>\n",
       "      <td>31882.0</td>\n",
       "      <td>31882.0</td>\n",
       "    </tr>\n",
       "    <tr>\n",
       "      <th>classe_age</th>\n",
       "      <td>00-11</td>\n",
       "      <td>00-11</td>\n",
       "      <td>00-11</td>\n",
       "      <td>00-11</td>\n",
       "      <td>00-11</td>\n",
       "      <td>00-11</td>\n",
       "      <td>12-17</td>\n",
       "      <td>12-17</td>\n",
       "      <td>12-17</td>\n",
       "      <td>12-17</td>\n",
       "    </tr>\n",
       "    <tr>\n",
       "      <th>libelle_classe_age</th>\n",
       "      <td>de 0 à 11 ans</td>\n",
       "      <td>de 0 à 11 ans</td>\n",
       "      <td>de 0 à 11 ans</td>\n",
       "      <td>de 0 à 11 ans</td>\n",
       "      <td>de 0 à 11 ans</td>\n",
       "      <td>de 0 à 11 ans</td>\n",
       "      <td>de 12 à 17 ans</td>\n",
       "      <td>de 12 à 17 ans</td>\n",
       "      <td>de 12 à 17 ans</td>\n",
       "      <td>de 12 à 17 ans</td>\n",
       "    </tr>\n",
       "    <tr>\n",
       "      <th>type_vaccin</th>\n",
       "      <td>COMIRNATY Pfizer-BioNTech</td>\n",
       "      <td>COVID-19 Vaccine Moderna</td>\n",
       "      <td>VAXZEVRIA AstraZeneca</td>\n",
       "      <td>COVID-19 Vaccine Janssen</td>\n",
       "      <td>COMIRNATY Pfizer-BioNTech pédiatrique</td>\n",
       "      <td>Tout vaccin</td>\n",
       "      <td>COMIRNATY Pfizer-BioNTech</td>\n",
       "      <td>COVID-19 Vaccine Moderna</td>\n",
       "      <td>VAXZEVRIA AstraZeneca</td>\n",
       "      <td>COVID-19 Vaccine Janssen</td>\n",
       "    </tr>\n",
       "    <tr>\n",
       "      <th>effectif_1_inj</th>\n",
       "      <td>NaN</td>\n",
       "      <td>NaN</td>\n",
       "      <td>NaN</td>\n",
       "      <td>NaN</td>\n",
       "      <td>NaN</td>\n",
       "      <td>NaN</td>\n",
       "      <td>NaN</td>\n",
       "      <td>NaN</td>\n",
       "      <td>NaN</td>\n",
       "      <td>NaN</td>\n",
       "    </tr>\n",
       "    <tr>\n",
       "      <th>effectif_termine</th>\n",
       "      <td>NaN</td>\n",
       "      <td>NaN</td>\n",
       "      <td>NaN</td>\n",
       "      <td>NaN</td>\n",
       "      <td>NaN</td>\n",
       "      <td>NaN</td>\n",
       "      <td>NaN</td>\n",
       "      <td>NaN</td>\n",
       "      <td>NaN</td>\n",
       "      <td>NaN</td>\n",
       "    </tr>\n",
       "    <tr>\n",
       "      <th>effectif_cumu_1_inj</th>\n",
       "      <td>NaN</td>\n",
       "      <td>NaN</td>\n",
       "      <td>NaN</td>\n",
       "      <td>NaN</td>\n",
       "      <td>NaN</td>\n",
       "      <td>NaN</td>\n",
       "      <td>NaN</td>\n",
       "      <td>NaN</td>\n",
       "      <td>NaN</td>\n",
       "      <td>NaN</td>\n",
       "    </tr>\n",
       "    <tr>\n",
       "      <th>effectif_cumu_termine</th>\n",
       "      <td>NaN</td>\n",
       "      <td>NaN</td>\n",
       "      <td>NaN</td>\n",
       "      <td>NaN</td>\n",
       "      <td>NaN</td>\n",
       "      <td>NaN</td>\n",
       "      <td>NaN</td>\n",
       "      <td>NaN</td>\n",
       "      <td>NaN</td>\n",
       "      <td>NaN</td>\n",
       "    </tr>\n",
       "    <tr>\n",
       "      <th>taux_1_inj</th>\n",
       "      <td>NaN</td>\n",
       "      <td>NaN</td>\n",
       "      <td>NaN</td>\n",
       "      <td>NaN</td>\n",
       "      <td>NaN</td>\n",
       "      <td>NaN</td>\n",
       "      <td>NaN</td>\n",
       "      <td>NaN</td>\n",
       "      <td>NaN</td>\n",
       "      <td>NaN</td>\n",
       "    </tr>\n",
       "    <tr>\n",
       "      <th>taux_termine</th>\n",
       "      <td>NaN</td>\n",
       "      <td>NaN</td>\n",
       "      <td>NaN</td>\n",
       "      <td>NaN</td>\n",
       "      <td>NaN</td>\n",
       "      <td>NaN</td>\n",
       "      <td>NaN</td>\n",
       "      <td>NaN</td>\n",
       "      <td>NaN</td>\n",
       "      <td>NaN</td>\n",
       "    </tr>\n",
       "    <tr>\n",
       "      <th>taux_cumu_1_inj</th>\n",
       "      <td>NaN</td>\n",
       "      <td>NaN</td>\n",
       "      <td>NaN</td>\n",
       "      <td>NaN</td>\n",
       "      <td>NaN</td>\n",
       "      <td>NaN</td>\n",
       "      <td>NaN</td>\n",
       "      <td>NaN</td>\n",
       "      <td>NaN</td>\n",
       "      <td>NaN</td>\n",
       "    </tr>\n",
       "    <tr>\n",
       "      <th>taux_cumu_termine</th>\n",
       "      <td>NaN</td>\n",
       "      <td>NaN</td>\n",
       "      <td>NaN</td>\n",
       "      <td>NaN</td>\n",
       "      <td>NaN</td>\n",
       "      <td>NaN</td>\n",
       "      <td>NaN</td>\n",
       "      <td>NaN</td>\n",
       "      <td>NaN</td>\n",
       "      <td>NaN</td>\n",
       "    </tr>\n",
       "    <tr>\n",
       "      <th>date</th>\n",
       "      <td>2021-01-03</td>\n",
       "      <td>2021-01-03</td>\n",
       "      <td>2021-01-03</td>\n",
       "      <td>2021-01-03</td>\n",
       "      <td>2021-01-03</td>\n",
       "      <td>2021-01-03</td>\n",
       "      <td>2021-01-03</td>\n",
       "      <td>2021-01-03</td>\n",
       "      <td>2021-01-03</td>\n",
       "      <td>2021-01-03</td>\n",
       "    </tr>\n",
       "    <tr>\n",
       "      <th>effectif_rappel</th>\n",
       "      <td>NaN</td>\n",
       "      <td>NaN</td>\n",
       "      <td>NaN</td>\n",
       "      <td>NaN</td>\n",
       "      <td>NaN</td>\n",
       "      <td>NaN</td>\n",
       "      <td>NaN</td>\n",
       "      <td>NaN</td>\n",
       "      <td>NaN</td>\n",
       "      <td>NaN</td>\n",
       "    </tr>\n",
       "    <tr>\n",
       "      <th>effectif_cumu_rappel</th>\n",
       "      <td>NaN</td>\n",
       "      <td>NaN</td>\n",
       "      <td>NaN</td>\n",
       "      <td>NaN</td>\n",
       "      <td>NaN</td>\n",
       "      <td>NaN</td>\n",
       "      <td>NaN</td>\n",
       "      <td>NaN</td>\n",
       "      <td>NaN</td>\n",
       "      <td>NaN</td>\n",
       "    </tr>\n",
       "    <tr>\n",
       "      <th>effectif_rappel_parmi_eligible</th>\n",
       "      <td>NaN</td>\n",
       "      <td>NaN</td>\n",
       "      <td>NaN</td>\n",
       "      <td>NaN</td>\n",
       "      <td>NaN</td>\n",
       "      <td>NaN</td>\n",
       "      <td>NaN</td>\n",
       "      <td>NaN</td>\n",
       "      <td>NaN</td>\n",
       "      <td>NaN</td>\n",
       "    </tr>\n",
       "    <tr>\n",
       "      <th>effectif_eligible_au_rappel</th>\n",
       "      <td>NaN</td>\n",
       "      <td>NaN</td>\n",
       "      <td>NaN</td>\n",
       "      <td>NaN</td>\n",
       "      <td>NaN</td>\n",
       "      <td>NaN</td>\n",
       "      <td>NaN</td>\n",
       "      <td>NaN</td>\n",
       "      <td>NaN</td>\n",
       "      <td>NaN</td>\n",
       "    </tr>\n",
       "    <tr>\n",
       "      <th>taux_rappel</th>\n",
       "      <td>NaN</td>\n",
       "      <td>NaN</td>\n",
       "      <td>NaN</td>\n",
       "      <td>NaN</td>\n",
       "      <td>NaN</td>\n",
       "      <td>NaN</td>\n",
       "      <td>NaN</td>\n",
       "      <td>NaN</td>\n",
       "      <td>NaN</td>\n",
       "      <td>NaN</td>\n",
       "    </tr>\n",
       "    <tr>\n",
       "      <th>taux_cumu_rappel</th>\n",
       "      <td>NaN</td>\n",
       "      <td>NaN</td>\n",
       "      <td>NaN</td>\n",
       "      <td>NaN</td>\n",
       "      <td>NaN</td>\n",
       "      <td>NaN</td>\n",
       "      <td>NaN</td>\n",
       "      <td>NaN</td>\n",
       "      <td>NaN</td>\n",
       "      <td>NaN</td>\n",
       "    </tr>\n",
       "    <tr>\n",
       "      <th>taux_cumu_rappeleli</th>\n",
       "      <td>NaN</td>\n",
       "      <td>NaN</td>\n",
       "      <td>NaN</td>\n",
       "      <td>NaN</td>\n",
       "      <td>NaN</td>\n",
       "      <td>NaN</td>\n",
       "      <td>NaN</td>\n",
       "      <td>NaN</td>\n",
       "      <td>NaN</td>\n",
       "      <td>NaN</td>\n",
       "    </tr>\n",
       "  </tbody>\n",
       "</table>\n",
       "</div>"
      ],
      "text/plain": [
       "                                                        0  \\\n",
       "date_reference                                 2022-01-09   \n",
       "semaine_injection                                 2020-52   \n",
       "region_residence                                        1   \n",
       "libelle_region                                 Guadeloupe   \n",
       "departement_residence                    Tout département   \n",
       "libelle_departement                                FRANCE   \n",
       "population_insee                                  50545.0   \n",
       "classe_age                                          00-11   \n",
       "libelle_classe_age                          de 0 à 11 ans   \n",
       "type_vaccin                     COMIRNATY Pfizer-BioNTech   \n",
       "effectif_1_inj                                        NaN   \n",
       "effectif_termine                                      NaN   \n",
       "effectif_cumu_1_inj                                   NaN   \n",
       "effectif_cumu_termine                                 NaN   \n",
       "taux_1_inj                                            NaN   \n",
       "taux_termine                                          NaN   \n",
       "taux_cumu_1_inj                                       NaN   \n",
       "taux_cumu_termine                                     NaN   \n",
       "date                                           2021-01-03   \n",
       "effectif_rappel                                       NaN   \n",
       "effectif_cumu_rappel                                  NaN   \n",
       "effectif_rappel_parmi_eligible                        NaN   \n",
       "effectif_eligible_au_rappel                           NaN   \n",
       "taux_rappel                                           NaN   \n",
       "taux_cumu_rappel                                      NaN   \n",
       "taux_cumu_rappeleli                                   NaN   \n",
       "\n",
       "                                                       1  \\\n",
       "date_reference                                2022-01-09   \n",
       "semaine_injection                                2020-52   \n",
       "region_residence                                       1   \n",
       "libelle_region                                Guadeloupe   \n",
       "departement_residence                   Tout département   \n",
       "libelle_departement                               FRANCE   \n",
       "population_insee                                 50545.0   \n",
       "classe_age                                         00-11   \n",
       "libelle_classe_age                         de 0 à 11 ans   \n",
       "type_vaccin                     COVID-19 Vaccine Moderna   \n",
       "effectif_1_inj                                       NaN   \n",
       "effectif_termine                                     NaN   \n",
       "effectif_cumu_1_inj                                  NaN   \n",
       "effectif_cumu_termine                                NaN   \n",
       "taux_1_inj                                           NaN   \n",
       "taux_termine                                         NaN   \n",
       "taux_cumu_1_inj                                      NaN   \n",
       "taux_cumu_termine                                    NaN   \n",
       "date                                          2021-01-03   \n",
       "effectif_rappel                                      NaN   \n",
       "effectif_cumu_rappel                                 NaN   \n",
       "effectif_rappel_parmi_eligible                       NaN   \n",
       "effectif_eligible_au_rappel                          NaN   \n",
       "taux_rappel                                          NaN   \n",
       "taux_cumu_rappel                                     NaN   \n",
       "taux_cumu_rappeleli                                  NaN   \n",
       "\n",
       "                                                    2  \\\n",
       "date_reference                             2022-01-09   \n",
       "semaine_injection                             2020-52   \n",
       "region_residence                                    1   \n",
       "libelle_region                             Guadeloupe   \n",
       "departement_residence                Tout département   \n",
       "libelle_departement                            FRANCE   \n",
       "population_insee                              50545.0   \n",
       "classe_age                                      00-11   \n",
       "libelle_classe_age                      de 0 à 11 ans   \n",
       "type_vaccin                     VAXZEVRIA AstraZeneca   \n",
       "effectif_1_inj                                    NaN   \n",
       "effectif_termine                                  NaN   \n",
       "effectif_cumu_1_inj                               NaN   \n",
       "effectif_cumu_termine                             NaN   \n",
       "taux_1_inj                                        NaN   \n",
       "taux_termine                                      NaN   \n",
       "taux_cumu_1_inj                                   NaN   \n",
       "taux_cumu_termine                                 NaN   \n",
       "date                                       2021-01-03   \n",
       "effectif_rappel                                   NaN   \n",
       "effectif_cumu_rappel                              NaN   \n",
       "effectif_rappel_parmi_eligible                    NaN   \n",
       "effectif_eligible_au_rappel                       NaN   \n",
       "taux_rappel                                       NaN   \n",
       "taux_cumu_rappel                                  NaN   \n",
       "taux_cumu_rappeleli                               NaN   \n",
       "\n",
       "                                                       3  \\\n",
       "date_reference                                2022-01-09   \n",
       "semaine_injection                                2020-52   \n",
       "region_residence                                       1   \n",
       "libelle_region                                Guadeloupe   \n",
       "departement_residence                   Tout département   \n",
       "libelle_departement                               FRANCE   \n",
       "population_insee                                 50545.0   \n",
       "classe_age                                         00-11   \n",
       "libelle_classe_age                         de 0 à 11 ans   \n",
       "type_vaccin                     COVID-19 Vaccine Janssen   \n",
       "effectif_1_inj                                       NaN   \n",
       "effectif_termine                                     NaN   \n",
       "effectif_cumu_1_inj                                  NaN   \n",
       "effectif_cumu_termine                                NaN   \n",
       "taux_1_inj                                           NaN   \n",
       "taux_termine                                         NaN   \n",
       "taux_cumu_1_inj                                      NaN   \n",
       "taux_cumu_termine                                    NaN   \n",
       "date                                          2021-01-03   \n",
       "effectif_rappel                                      NaN   \n",
       "effectif_cumu_rappel                                 NaN   \n",
       "effectif_rappel_parmi_eligible                       NaN   \n",
       "effectif_eligible_au_rappel                          NaN   \n",
       "taux_rappel                                          NaN   \n",
       "taux_cumu_rappel                                     NaN   \n",
       "taux_cumu_rappeleli                                  NaN   \n",
       "\n",
       "                                                                    4  \\\n",
       "date_reference                                             2022-01-09   \n",
       "semaine_injection                                             2020-52   \n",
       "region_residence                                                    1   \n",
       "libelle_region                                             Guadeloupe   \n",
       "departement_residence                                Tout département   \n",
       "libelle_departement                                            FRANCE   \n",
       "population_insee                                              50545.0   \n",
       "classe_age                                                      00-11   \n",
       "libelle_classe_age                                      de 0 à 11 ans   \n",
       "type_vaccin                     COMIRNATY Pfizer-BioNTech pédiatrique   \n",
       "effectif_1_inj                                                    NaN   \n",
       "effectif_termine                                                  NaN   \n",
       "effectif_cumu_1_inj                                               NaN   \n",
       "effectif_cumu_termine                                             NaN   \n",
       "taux_1_inj                                                        NaN   \n",
       "taux_termine                                                      NaN   \n",
       "taux_cumu_1_inj                                                   NaN   \n",
       "taux_cumu_termine                                                 NaN   \n",
       "date                                                       2021-01-03   \n",
       "effectif_rappel                                                   NaN   \n",
       "effectif_cumu_rappel                                              NaN   \n",
       "effectif_rappel_parmi_eligible                                    NaN   \n",
       "effectif_eligible_au_rappel                                       NaN   \n",
       "taux_rappel                                                       NaN   \n",
       "taux_cumu_rappel                                                  NaN   \n",
       "taux_cumu_rappeleli                                               NaN   \n",
       "\n",
       "                                               5                          6  \\\n",
       "date_reference                        2022-01-09                 2022-01-09   \n",
       "semaine_injection                        2020-52                    2020-52   \n",
       "region_residence                               1                          1   \n",
       "libelle_region                        Guadeloupe                 Guadeloupe   \n",
       "departement_residence           Tout département           Tout département   \n",
       "libelle_departement                       FRANCE                     FRANCE   \n",
       "population_insee                         50545.0                    31882.0   \n",
       "classe_age                                 00-11                      12-17   \n",
       "libelle_classe_age                 de 0 à 11 ans             de 12 à 17 ans   \n",
       "type_vaccin                          Tout vaccin  COMIRNATY Pfizer-BioNTech   \n",
       "effectif_1_inj                               NaN                        NaN   \n",
       "effectif_termine                             NaN                        NaN   \n",
       "effectif_cumu_1_inj                          NaN                        NaN   \n",
       "effectif_cumu_termine                        NaN                        NaN   \n",
       "taux_1_inj                                   NaN                        NaN   \n",
       "taux_termine                                 NaN                        NaN   \n",
       "taux_cumu_1_inj                              NaN                        NaN   \n",
       "taux_cumu_termine                            NaN                        NaN   \n",
       "date                                  2021-01-03                 2021-01-03   \n",
       "effectif_rappel                              NaN                        NaN   \n",
       "effectif_cumu_rappel                         NaN                        NaN   \n",
       "effectif_rappel_parmi_eligible               NaN                        NaN   \n",
       "effectif_eligible_au_rappel                  NaN                        NaN   \n",
       "taux_rappel                                  NaN                        NaN   \n",
       "taux_cumu_rappel                             NaN                        NaN   \n",
       "taux_cumu_rappeleli                          NaN                        NaN   \n",
       "\n",
       "                                                       7  \\\n",
       "date_reference                                2022-01-09   \n",
       "semaine_injection                                2020-52   \n",
       "region_residence                                       1   \n",
       "libelle_region                                Guadeloupe   \n",
       "departement_residence                   Tout département   \n",
       "libelle_departement                               FRANCE   \n",
       "population_insee                                 31882.0   \n",
       "classe_age                                         12-17   \n",
       "libelle_classe_age                        de 12 à 17 ans   \n",
       "type_vaccin                     COVID-19 Vaccine Moderna   \n",
       "effectif_1_inj                                       NaN   \n",
       "effectif_termine                                     NaN   \n",
       "effectif_cumu_1_inj                                  NaN   \n",
       "effectif_cumu_termine                                NaN   \n",
       "taux_1_inj                                           NaN   \n",
       "taux_termine                                         NaN   \n",
       "taux_cumu_1_inj                                      NaN   \n",
       "taux_cumu_termine                                    NaN   \n",
       "date                                          2021-01-03   \n",
       "effectif_rappel                                      NaN   \n",
       "effectif_cumu_rappel                                 NaN   \n",
       "effectif_rappel_parmi_eligible                       NaN   \n",
       "effectif_eligible_au_rappel                          NaN   \n",
       "taux_rappel                                          NaN   \n",
       "taux_cumu_rappel                                     NaN   \n",
       "taux_cumu_rappeleli                                  NaN   \n",
       "\n",
       "                                                    8  \\\n",
       "date_reference                             2022-01-09   \n",
       "semaine_injection                             2020-52   \n",
       "region_residence                                    1   \n",
       "libelle_region                             Guadeloupe   \n",
       "departement_residence                Tout département   \n",
       "libelle_departement                            FRANCE   \n",
       "population_insee                              31882.0   \n",
       "classe_age                                      12-17   \n",
       "libelle_classe_age                     de 12 à 17 ans   \n",
       "type_vaccin                     VAXZEVRIA AstraZeneca   \n",
       "effectif_1_inj                                    NaN   \n",
       "effectif_termine                                  NaN   \n",
       "effectif_cumu_1_inj                               NaN   \n",
       "effectif_cumu_termine                             NaN   \n",
       "taux_1_inj                                        NaN   \n",
       "taux_termine                                      NaN   \n",
       "taux_cumu_1_inj                                   NaN   \n",
       "taux_cumu_termine                                 NaN   \n",
       "date                                       2021-01-03   \n",
       "effectif_rappel                                   NaN   \n",
       "effectif_cumu_rappel                              NaN   \n",
       "effectif_rappel_parmi_eligible                    NaN   \n",
       "effectif_eligible_au_rappel                       NaN   \n",
       "taux_rappel                                       NaN   \n",
       "taux_cumu_rappel                                  NaN   \n",
       "taux_cumu_rappeleli                               NaN   \n",
       "\n",
       "                                                       9  \n",
       "date_reference                                2022-01-09  \n",
       "semaine_injection                                2020-52  \n",
       "region_residence                                       1  \n",
       "libelle_region                                Guadeloupe  \n",
       "departement_residence                   Tout département  \n",
       "libelle_departement                               FRANCE  \n",
       "population_insee                                 31882.0  \n",
       "classe_age                                         12-17  \n",
       "libelle_classe_age                        de 12 à 17 ans  \n",
       "type_vaccin                     COVID-19 Vaccine Janssen  \n",
       "effectif_1_inj                                       NaN  \n",
       "effectif_termine                                     NaN  \n",
       "effectif_cumu_1_inj                                  NaN  \n",
       "effectif_cumu_termine                                NaN  \n",
       "taux_1_inj                                           NaN  \n",
       "taux_termine                                         NaN  \n",
       "taux_cumu_1_inj                                      NaN  \n",
       "taux_cumu_termine                                    NaN  \n",
       "date                                          2021-01-03  \n",
       "effectif_rappel                                      NaN  \n",
       "effectif_cumu_rappel                                 NaN  \n",
       "effectif_rappel_parmi_eligible                       NaN  \n",
       "effectif_eligible_au_rappel                          NaN  \n",
       "taux_rappel                                          NaN  \n",
       "taux_cumu_rappel                                     NaN  \n",
       "taux_cumu_rappeleli                                  NaN  "
      ]
     },
     "execution_count": 13,
     "metadata": {},
     "output_type": "execute_result"
    }
   ],
   "source": [
    "df.head(10).T"
   ]
  },
  {
   "cell_type": "code",
   "execution_count": 63,
   "metadata": {},
   "outputs": [
    {
     "data": {
      "text/html": [
       "<div>\n",
       "<style scoped>\n",
       "    .dataframe tbody tr th:only-of-type {\n",
       "        vertical-align: middle;\n",
       "    }\n",
       "\n",
       "    .dataframe tbody tr th {\n",
       "        vertical-align: top;\n",
       "    }\n",
       "\n",
       "    .dataframe thead th {\n",
       "        text-align: right;\n",
       "    }\n",
       "</style>\n",
       "<table border=\"1\" class=\"dataframe\">\n",
       "  <thead>\n",
       "    <tr style=\"text-align: right;\">\n",
       "      <th></th>\n",
       "      <th>count</th>\n",
       "      <th>mean</th>\n",
       "      <th>std</th>\n",
       "      <th>min</th>\n",
       "      <th>25%</th>\n",
       "      <th>50%</th>\n",
       "      <th>75%</th>\n",
       "      <th>max</th>\n",
       "    </tr>\n",
       "  </thead>\n",
       "  <tbody>\n",
       "    <tr>\n",
       "      <th>population_insee</th>\n",
       "      <td>362880.0</td>\n",
       "      <td>373817.738889</td>\n",
       "      <td>2.272600e+06</td>\n",
       "      <td>2517.000</td>\n",
       "      <td>40108.500</td>\n",
       "      <td>77802.500</td>\n",
       "      <td>204474.750</td>\n",
       "      <td>6.728719e+07</td>\n",
       "    </tr>\n",
       "    <tr>\n",
       "      <th>effectif_1_inj</th>\n",
       "      <td>170557.0</td>\n",
       "      <td>3768.615653</td>\n",
       "      <td>3.493032e+04</td>\n",
       "      <td>10.000</td>\n",
       "      <td>80.000</td>\n",
       "      <td>310.000</td>\n",
       "      <td>1370.000</td>\n",
       "      <td>2.804760e+06</td>\n",
       "    </tr>\n",
       "    <tr>\n",
       "      <th>effectif_termine</th>\n",
       "      <td>162210.0</td>\n",
       "      <td>3865.105049</td>\n",
       "      <td>3.680896e+04</td>\n",
       "      <td>10.000</td>\n",
       "      <td>80.000</td>\n",
       "      <td>310.000</td>\n",
       "      <td>1420.000</td>\n",
       "      <td>3.179680e+06</td>\n",
       "    </tr>\n",
       "    <tr>\n",
       "      <th>effectif_cumu_1_inj</th>\n",
       "      <td>235771.0</td>\n",
       "      <td>88276.694080</td>\n",
       "      <td>8.253663e+05</td>\n",
       "      <td>10.000</td>\n",
       "      <td>720.000</td>\n",
       "      <td>6420.000</td>\n",
       "      <td>35810.000</td>\n",
       "      <td>5.356999e+07</td>\n",
       "    </tr>\n",
       "    <tr>\n",
       "      <th>effectif_cumu_termine</th>\n",
       "      <td>219338.0</td>\n",
       "      <td>80784.475376</td>\n",
       "      <td>7.850069e+05</td>\n",
       "      <td>10.000</td>\n",
       "      <td>430.000</td>\n",
       "      <td>4880.000</td>\n",
       "      <td>30990.000</td>\n",
       "      <td>5.225311e+07</td>\n",
       "    </tr>\n",
       "    <tr>\n",
       "      <th>taux_1_inj</th>\n",
       "      <td>166595.0</td>\n",
       "      <td>0.009862</td>\n",
       "      <td>1.674884e-02</td>\n",
       "      <td>0.000</td>\n",
       "      <td>0.001</td>\n",
       "      <td>0.003</td>\n",
       "      <td>0.010</td>\n",
       "      <td>1.610000e-01</td>\n",
       "    </tr>\n",
       "    <tr>\n",
       "      <th>taux_termine</th>\n",
       "      <td>158434.0</td>\n",
       "      <td>0.010121</td>\n",
       "      <td>1.682543e-02</td>\n",
       "      <td>0.000</td>\n",
       "      <td>0.001</td>\n",
       "      <td>0.003</td>\n",
       "      <td>0.010</td>\n",
       "      <td>1.300000e-01</td>\n",
       "    </tr>\n",
       "    <tr>\n",
       "      <th>taux_cumu_1_inj</th>\n",
       "      <td>231167.0</td>\n",
       "      <td>0.230360</td>\n",
       "      <td>3.045572e-01</td>\n",
       "      <td>0.000</td>\n",
       "      <td>0.009</td>\n",
       "      <td>0.059</td>\n",
       "      <td>0.450</td>\n",
       "      <td>1.000000e+00</td>\n",
       "    </tr>\n",
       "    <tr>\n",
       "      <th>taux_cumu_termine</th>\n",
       "      <td>214964.0</td>\n",
       "      <td>0.211592</td>\n",
       "      <td>2.956774e-01</td>\n",
       "      <td>0.000</td>\n",
       "      <td>0.004</td>\n",
       "      <td>0.048</td>\n",
       "      <td>0.362</td>\n",
       "      <td>1.000000e+00</td>\n",
       "    </tr>\n",
       "    <tr>\n",
       "      <th>effectif_rappel</th>\n",
       "      <td>17053.0</td>\n",
       "      <td>11124.443206</td>\n",
       "      <td>8.576251e+04</td>\n",
       "      <td>10.000</td>\n",
       "      <td>230.000</td>\n",
       "      <td>1380.000</td>\n",
       "      <td>5090.000</td>\n",
       "      <td>4.713440e+06</td>\n",
       "    </tr>\n",
       "    <tr>\n",
       "      <th>effectif_cumu_rappel</th>\n",
       "      <td>18327.0</td>\n",
       "      <td>60415.716156</td>\n",
       "      <td>5.159544e+05</td>\n",
       "      <td>10.000</td>\n",
       "      <td>360.000</td>\n",
       "      <td>4190.000</td>\n",
       "      <td>26510.000</td>\n",
       "      <td>3.161773e+07</td>\n",
       "    </tr>\n",
       "    <tr>\n",
       "      <th>effectif_rappel_parmi_eligible</th>\n",
       "      <td>16363.0</td>\n",
       "      <td>66960.239565</td>\n",
       "      <td>5.402691e+05</td>\n",
       "      <td>10.000</td>\n",
       "      <td>650.000</td>\n",
       "      <td>6320.000</td>\n",
       "      <td>31145.000</td>\n",
       "      <td>3.116071e+07</td>\n",
       "    </tr>\n",
       "    <tr>\n",
       "      <th>effectif_eligible_au_rappel</th>\n",
       "      <td>84292.0</td>\n",
       "      <td>77499.854553</td>\n",
       "      <td>6.614132e+05</td>\n",
       "      <td>10.000</td>\n",
       "      <td>1360.000</td>\n",
       "      <td>7540.000</td>\n",
       "      <td>34402.500</td>\n",
       "      <td>4.367379e+07</td>\n",
       "    </tr>\n",
       "    <tr>\n",
       "      <th>taux_rappel</th>\n",
       "      <td>16709.0</td>\n",
       "      <td>0.028473</td>\n",
       "      <td>3.214593e-02</td>\n",
       "      <td>0.000</td>\n",
       "      <td>0.003</td>\n",
       "      <td>0.014</td>\n",
       "      <td>0.047</td>\n",
       "      <td>1.570000e-01</td>\n",
       "    </tr>\n",
       "    <tr>\n",
       "      <th>taux_cumu_rappel</th>\n",
       "      <td>17945.0</td>\n",
       "      <td>0.162571</td>\n",
       "      <td>2.232186e-01</td>\n",
       "      <td>0.000</td>\n",
       "      <td>0.004</td>\n",
       "      <td>0.040</td>\n",
       "      <td>0.266</td>\n",
       "      <td>8.800000e-01</td>\n",
       "    </tr>\n",
       "    <tr>\n",
       "      <th>taux_cumu_rappeleli</th>\n",
       "      <td>16363.0</td>\n",
       "      <td>0.247536</td>\n",
       "      <td>2.748688e-01</td>\n",
       "      <td>0.001</td>\n",
       "      <td>0.022</td>\n",
       "      <td>0.116</td>\n",
       "      <td>0.435</td>\n",
       "      <td>9.340000e-01</td>\n",
       "    </tr>\n",
       "  </tbody>\n",
       "</table>\n",
       "</div>"
      ],
      "text/plain": [
       "                                   count           mean           std  \\\n",
       "population_insee                362880.0  373817.738889  2.272600e+06   \n",
       "effectif_1_inj                  170557.0    3768.615653  3.493032e+04   \n",
       "effectif_termine                162210.0    3865.105049  3.680896e+04   \n",
       "effectif_cumu_1_inj             235771.0   88276.694080  8.253663e+05   \n",
       "effectif_cumu_termine           219338.0   80784.475376  7.850069e+05   \n",
       "taux_1_inj                      166595.0       0.009862  1.674884e-02   \n",
       "taux_termine                    158434.0       0.010121  1.682543e-02   \n",
       "taux_cumu_1_inj                 231167.0       0.230360  3.045572e-01   \n",
       "taux_cumu_termine               214964.0       0.211592  2.956774e-01   \n",
       "effectif_rappel                  17053.0   11124.443206  8.576251e+04   \n",
       "effectif_cumu_rappel             18327.0   60415.716156  5.159544e+05   \n",
       "effectif_rappel_parmi_eligible   16363.0   66960.239565  5.402691e+05   \n",
       "effectif_eligible_au_rappel      84292.0   77499.854553  6.614132e+05   \n",
       "taux_rappel                      16709.0       0.028473  3.214593e-02   \n",
       "taux_cumu_rappel                 17945.0       0.162571  2.232186e-01   \n",
       "taux_cumu_rappeleli              16363.0       0.247536  2.748688e-01   \n",
       "\n",
       "                                     min        25%        50%         75%  \\\n",
       "population_insee                2517.000  40108.500  77802.500  204474.750   \n",
       "effectif_1_inj                    10.000     80.000    310.000    1370.000   \n",
       "effectif_termine                  10.000     80.000    310.000    1420.000   \n",
       "effectif_cumu_1_inj               10.000    720.000   6420.000   35810.000   \n",
       "effectif_cumu_termine             10.000    430.000   4880.000   30990.000   \n",
       "taux_1_inj                         0.000      0.001      0.003       0.010   \n",
       "taux_termine                       0.000      0.001      0.003       0.010   \n",
       "taux_cumu_1_inj                    0.000      0.009      0.059       0.450   \n",
       "taux_cumu_termine                  0.000      0.004      0.048       0.362   \n",
       "effectif_rappel                   10.000    230.000   1380.000    5090.000   \n",
       "effectif_cumu_rappel              10.000    360.000   4190.000   26510.000   \n",
       "effectif_rappel_parmi_eligible    10.000    650.000   6320.000   31145.000   \n",
       "effectif_eligible_au_rappel       10.000   1360.000   7540.000   34402.500   \n",
       "taux_rappel                        0.000      0.003      0.014       0.047   \n",
       "taux_cumu_rappel                   0.000      0.004      0.040       0.266   \n",
       "taux_cumu_rappeleli                0.001      0.022      0.116       0.435   \n",
       "\n",
       "                                         max  \n",
       "population_insee                6.728719e+07  \n",
       "effectif_1_inj                  2.804760e+06  \n",
       "effectif_termine                3.179680e+06  \n",
       "effectif_cumu_1_inj             5.356999e+07  \n",
       "effectif_cumu_termine           5.225311e+07  \n",
       "taux_1_inj                      1.610000e-01  \n",
       "taux_termine                    1.300000e-01  \n",
       "taux_cumu_1_inj                 1.000000e+00  \n",
       "taux_cumu_termine               1.000000e+00  \n",
       "effectif_rappel                 4.713440e+06  \n",
       "effectif_cumu_rappel            3.161773e+07  \n",
       "effectif_rappel_parmi_eligible  3.116071e+07  \n",
       "effectif_eligible_au_rappel     4.367379e+07  \n",
       "taux_rappel                     1.570000e-01  \n",
       "taux_cumu_rappel                8.800000e-01  \n",
       "taux_cumu_rappeleli             9.340000e-01  "
      ]
     },
     "execution_count": 63,
     "metadata": {},
     "output_type": "execute_result"
    }
   ],
   "source": [
    "df.describe().T"
   ]
  },
  {
   "cell_type": "code",
   "execution_count": 67,
   "metadata": {},
   "outputs": [],
   "source": [
    "x = pd.isnull(df[\"taux_cumu_rappeleli\"]).sum().sum()\n",
    "print(x)"
   ]
  },
  {
   "cell_type": "code",
   "execution_count": 59,
   "metadata": {},
   "outputs": [
    {
     "name": "stdout",
     "output_type": "stream",
     "text": [
      "population_insee                  77802.500\n",
      "effectif_1_inj                      310.000\n",
      "effectif_termine                    310.000\n",
      "effectif_cumu_1_inj                6420.000\n",
      "effectif_cumu_termine              4880.000\n",
      "taux_1_inj                            0.003\n",
      "taux_termine                          0.003\n",
      "taux_cumu_1_inj                       0.059\n",
      "taux_cumu_termine                     0.048\n",
      "effectif_rappel                    1380.000\n",
      "effectif_cumu_rappel               4190.000\n",
      "effectif_rappel_parmi_eligible     6320.000\n",
      "effectif_eligible_au_rappel        7540.000\n",
      "taux_rappel                           0.014\n",
      "taux_cumu_rappel                      0.040\n",
      "taux_cumu_rappeleli                   0.116\n",
      "dtype: float64\n"
     ]
    },
    {
     "name": "stderr",
     "output_type": "stream",
     "text": [
      "C:\\Users\\Louis\\AppData\\Local\\Temp\\ipykernel_107896\\2986268782.py:1: FutureWarning: Dropping of nuisance columns in DataFrame reductions (with 'numeric_only=None') is deprecated; in a future version this will raise TypeError.  Select only valid columns before calling the reduction.\n",
      "  y = df.median(axis = 0)\n"
     ]
    }
   ],
   "source": [
    "y = df.median(axis = 0)\n",
    "print(y)"
   ]
  },
  {
   "cell_type": "code",
   "execution_count": 10,
   "metadata": {},
   "outputs": [
    {
     "name": "stdout",
     "output_type": "stream",
     "text": [
      "<bound method NDFrame._add_numeric_operations.<locals>.max of 0              NaN\n",
      "1              NaN\n",
      "2              NaN\n",
      "3              NaN\n",
      "4              NaN\n",
      "            ...   \n",
      "368924        10.0\n",
      "368925       100.0\n",
      "368926     57550.0\n",
      "368927    262930.0\n",
      "368928         NaN\n",
      "Name: effectif_1_inj, Length: 368929, dtype: float64>\n"
     ]
    }
   ],
   "source": [
    "print(df[\"effectif_1_inj\"].max)"
   ]
  },
  {
   "cell_type": "code",
   "execution_count": 11,
   "metadata": {},
   "outputs": [
    {
     "ename": "KeyboardInterrupt",
     "evalue": "",
     "output_type": "error",
     "traceback": [
      "\u001b[1;31m---------------------------------------------------------------------------\u001b[0m",
      "\u001b[1;31mKeyboardInterrupt\u001b[0m                         Traceback (most recent call last)",
      "Input \u001b[1;32mIn [11]\u001b[0m, in \u001b[0;36m<module>\u001b[1;34m\u001b[0m\n\u001b[0;32m      2\u001b[0m VP \u001b[38;5;241m=\u001b[39m ax\u001b[38;5;241m.\u001b[39mboxplot(df[\u001b[38;5;124m\"\u001b[39m\u001b[38;5;124meffectif_1_inj\u001b[39m\u001b[38;5;124m\"\u001b[39m], patch_artist\u001b[38;5;241m=\u001b[39m\u001b[38;5;28;01mTrue\u001b[39;00m,\n\u001b[0;32m      3\u001b[0m                 showmeans\u001b[38;5;241m=\u001b[39m\u001b[38;5;28;01mFalse\u001b[39;00m, showfliers\u001b[38;5;241m=\u001b[39m\u001b[38;5;28;01mFalse\u001b[39;00m,\n\u001b[0;32m      4\u001b[0m                 medianprops\u001b[38;5;241m=\u001b[39m{\u001b[38;5;124m\"\u001b[39m\u001b[38;5;124mcolor\u001b[39m\u001b[38;5;124m\"\u001b[39m: \u001b[38;5;124m\"\u001b[39m\u001b[38;5;124mwhite\u001b[39m\u001b[38;5;124m\"\u001b[39m, \u001b[38;5;124m\"\u001b[39m\u001b[38;5;124mlinewidth\u001b[39m\u001b[38;5;124m\"\u001b[39m: \u001b[38;5;241m0.5\u001b[39m},\n\u001b[1;32m   (...)\u001b[0m\n\u001b[0;32m      7\u001b[0m                 whiskerprops\u001b[38;5;241m=\u001b[39m{\u001b[38;5;124m\"\u001b[39m\u001b[38;5;124mcolor\u001b[39m\u001b[38;5;124m\"\u001b[39m: \u001b[38;5;124m\"\u001b[39m\u001b[38;5;124mC0\u001b[39m\u001b[38;5;124m\"\u001b[39m, \u001b[38;5;124m\"\u001b[39m\u001b[38;5;124mlinewidth\u001b[39m\u001b[38;5;124m\"\u001b[39m: \u001b[38;5;241m1.5\u001b[39m},\n\u001b[0;32m      8\u001b[0m                 capprops\u001b[38;5;241m=\u001b[39m{\u001b[38;5;124m\"\u001b[39m\u001b[38;5;124mcolor\u001b[39m\u001b[38;5;124m\"\u001b[39m: \u001b[38;5;124m\"\u001b[39m\u001b[38;5;124mC0\u001b[39m\u001b[38;5;124m\"\u001b[39m, \u001b[38;5;124m\"\u001b[39m\u001b[38;5;124mlinewidth\u001b[39m\u001b[38;5;124m\"\u001b[39m: \u001b[38;5;241m1.5\u001b[39m})\n\u001b[0;32m     10\u001b[0m ax\u001b[38;5;241m.\u001b[39mset(xlim\u001b[38;5;241m=\u001b[39m(\u001b[38;5;241m0\u001b[39m, \u001b[38;5;241m8\u001b[39m), xticks\u001b[38;5;241m=\u001b[39mnp\u001b[38;5;241m.\u001b[39marange(\u001b[38;5;241m1\u001b[39m, \u001b[38;5;241m8\u001b[39m),\n\u001b[0;32m     11\u001b[0m        ylim\u001b[38;5;241m=\u001b[39m(\u001b[38;5;241m0\u001b[39m, \u001b[38;5;241m270000\u001b[39m), yticks\u001b[38;5;241m=\u001b[39mnp\u001b[38;5;241m.\u001b[39marange(\u001b[38;5;241m1\u001b[39m, \u001b[38;5;241m270000\u001b[39m))\n\u001b[1;32m---> 13\u001b[0m \u001b[43mplt\u001b[49m\u001b[38;5;241;43m.\u001b[39;49m\u001b[43mshow\u001b[49m\u001b[43m(\u001b[49m\u001b[43m)\u001b[49m\n",
      "File \u001b[1;32m~\\miniconda3\\lib\\site-packages\\matplotlib\\pyplot.py:368\u001b[0m, in \u001b[0;36mshow\u001b[1;34m(*args, **kwargs)\u001b[0m\n\u001b[0;32m    324\u001b[0m \u001b[38;5;124;03m\"\"\"\u001b[39;00m\n\u001b[0;32m    325\u001b[0m \u001b[38;5;124;03mDisplay all open figures.\u001b[39;00m\n\u001b[0;32m    326\u001b[0m \n\u001b[1;32m   (...)\u001b[0m\n\u001b[0;32m    365\u001b[0m \u001b[38;5;124;03mexplicitly there.\u001b[39;00m\n\u001b[0;32m    366\u001b[0m \u001b[38;5;124;03m\"\"\"\u001b[39;00m\n\u001b[0;32m    367\u001b[0m _warn_if_gui_out_of_main_thread()\n\u001b[1;32m--> 368\u001b[0m \u001b[38;5;28;01mreturn\u001b[39;00m _backend_mod\u001b[38;5;241m.\u001b[39mshow(\u001b[38;5;241m*\u001b[39margs, \u001b[38;5;241m*\u001b[39m\u001b[38;5;241m*\u001b[39mkwargs)\n",
      "File \u001b[1;32m~\\miniconda3\\lib\\site-packages\\matplotlib_inline\\backend_inline.py:41\u001b[0m, in \u001b[0;36mshow\u001b[1;34m(close, block)\u001b[0m\n\u001b[0;32m     39\u001b[0m \u001b[38;5;28;01mtry\u001b[39;00m:\n\u001b[0;32m     40\u001b[0m     \u001b[38;5;28;01mfor\u001b[39;00m figure_manager \u001b[38;5;129;01min\u001b[39;00m Gcf\u001b[38;5;241m.\u001b[39mget_all_fig_managers():\n\u001b[1;32m---> 41\u001b[0m         \u001b[43mdisplay\u001b[49m\u001b[43m(\u001b[49m\n\u001b[0;32m     42\u001b[0m \u001b[43m            \u001b[49m\u001b[43mfigure_manager\u001b[49m\u001b[38;5;241;43m.\u001b[39;49m\u001b[43mcanvas\u001b[49m\u001b[38;5;241;43m.\u001b[39;49m\u001b[43mfigure\u001b[49m\u001b[43m,\u001b[49m\n\u001b[0;32m     43\u001b[0m \u001b[43m            \u001b[49m\u001b[43mmetadata\u001b[49m\u001b[38;5;241;43m=\u001b[39;49m\u001b[43m_fetch_figure_metadata\u001b[49m\u001b[43m(\u001b[49m\u001b[43mfigure_manager\u001b[49m\u001b[38;5;241;43m.\u001b[39;49m\u001b[43mcanvas\u001b[49m\u001b[38;5;241;43m.\u001b[39;49m\u001b[43mfigure\u001b[49m\u001b[43m)\u001b[49m\n\u001b[0;32m     44\u001b[0m \u001b[43m        \u001b[49m\u001b[43m)\u001b[49m\n\u001b[0;32m     45\u001b[0m \u001b[38;5;28;01mfinally\u001b[39;00m:\n\u001b[0;32m     46\u001b[0m     show\u001b[38;5;241m.\u001b[39m_to_draw \u001b[38;5;241m=\u001b[39m []\n",
      "File \u001b[1;32m~\\miniconda3\\lib\\site-packages\\IPython\\core\\display_functions.py:298\u001b[0m, in \u001b[0;36mdisplay\u001b[1;34m(include, exclude, metadata, transient, display_id, raw, clear, *objs, **kwargs)\u001b[0m\n\u001b[0;32m    296\u001b[0m     publish_display_data(data\u001b[38;5;241m=\u001b[39mobj, metadata\u001b[38;5;241m=\u001b[39mmetadata, \u001b[38;5;241m*\u001b[39m\u001b[38;5;241m*\u001b[39mkwargs)\n\u001b[0;32m    297\u001b[0m \u001b[38;5;28;01melse\u001b[39;00m:\n\u001b[1;32m--> 298\u001b[0m     format_dict, md_dict \u001b[38;5;241m=\u001b[39m \u001b[38;5;28;43mformat\u001b[39;49m\u001b[43m(\u001b[49m\u001b[43mobj\u001b[49m\u001b[43m,\u001b[49m\u001b[43m \u001b[49m\u001b[43minclude\u001b[49m\u001b[38;5;241;43m=\u001b[39;49m\u001b[43minclude\u001b[49m\u001b[43m,\u001b[49m\u001b[43m \u001b[49m\u001b[43mexclude\u001b[49m\u001b[38;5;241;43m=\u001b[39;49m\u001b[43mexclude\u001b[49m\u001b[43m)\u001b[49m\n\u001b[0;32m    299\u001b[0m     \u001b[38;5;28;01mif\u001b[39;00m \u001b[38;5;129;01mnot\u001b[39;00m format_dict:\n\u001b[0;32m    300\u001b[0m         \u001b[38;5;66;03m# nothing to display (e.g. _ipython_display_ took over)\u001b[39;00m\n\u001b[0;32m    301\u001b[0m         \u001b[38;5;28;01mcontinue\u001b[39;00m\n",
      "File \u001b[1;32m~\\miniconda3\\lib\\site-packages\\IPython\\core\\formatters.py:178\u001b[0m, in \u001b[0;36mDisplayFormatter.format\u001b[1;34m(self, obj, include, exclude)\u001b[0m\n\u001b[0;32m    176\u001b[0m md \u001b[38;5;241m=\u001b[39m \u001b[38;5;28;01mNone\u001b[39;00m\n\u001b[0;32m    177\u001b[0m \u001b[38;5;28;01mtry\u001b[39;00m:\n\u001b[1;32m--> 178\u001b[0m     data \u001b[38;5;241m=\u001b[39m \u001b[43mformatter\u001b[49m\u001b[43m(\u001b[49m\u001b[43mobj\u001b[49m\u001b[43m)\u001b[49m\n\u001b[0;32m    179\u001b[0m \u001b[38;5;28;01mexcept\u001b[39;00m:\n\u001b[0;32m    180\u001b[0m     \u001b[38;5;66;03m# FIXME: log the exception\u001b[39;00m\n\u001b[0;32m    181\u001b[0m     \u001b[38;5;28;01mraise\u001b[39;00m\n",
      "File \u001b[1;32m~\\miniconda3\\lib\\site-packages\\decorator.py:232\u001b[0m, in \u001b[0;36mdecorate.<locals>.fun\u001b[1;34m(*args, **kw)\u001b[0m\n\u001b[0;32m    230\u001b[0m \u001b[38;5;28;01mif\u001b[39;00m \u001b[38;5;129;01mnot\u001b[39;00m kwsyntax:\n\u001b[0;32m    231\u001b[0m     args, kw \u001b[38;5;241m=\u001b[39m fix(args, kw, sig)\n\u001b[1;32m--> 232\u001b[0m \u001b[38;5;28;01mreturn\u001b[39;00m caller(func, \u001b[38;5;241m*\u001b[39m(extras \u001b[38;5;241m+\u001b[39m args), \u001b[38;5;241m*\u001b[39m\u001b[38;5;241m*\u001b[39mkw)\n",
      "File \u001b[1;32m~\\miniconda3\\lib\\site-packages\\IPython\\core\\formatters.py:222\u001b[0m, in \u001b[0;36mcatch_format_error\u001b[1;34m(method, self, *args, **kwargs)\u001b[0m\n\u001b[0;32m    220\u001b[0m \u001b[38;5;124;03m\"\"\"show traceback on failed format call\"\"\"\u001b[39;00m\n\u001b[0;32m    221\u001b[0m \u001b[38;5;28;01mtry\u001b[39;00m:\n\u001b[1;32m--> 222\u001b[0m     r \u001b[38;5;241m=\u001b[39m method(\u001b[38;5;28mself\u001b[39m, \u001b[38;5;241m*\u001b[39margs, \u001b[38;5;241m*\u001b[39m\u001b[38;5;241m*\u001b[39mkwargs)\n\u001b[0;32m    223\u001b[0m \u001b[38;5;28;01mexcept\u001b[39;00m \u001b[38;5;167;01mNotImplementedError\u001b[39;00m:\n\u001b[0;32m    224\u001b[0m     \u001b[38;5;66;03m# don't warn on NotImplementedErrors\u001b[39;00m\n\u001b[0;32m    225\u001b[0m     \u001b[38;5;28;01mreturn\u001b[39;00m \u001b[38;5;28mself\u001b[39m\u001b[38;5;241m.\u001b[39m_check_return(\u001b[38;5;28;01mNone\u001b[39;00m, args[\u001b[38;5;241m0\u001b[39m])\n",
      "File \u001b[1;32m~\\miniconda3\\lib\\site-packages\\IPython\\core\\formatters.py:339\u001b[0m, in \u001b[0;36mBaseFormatter.__call__\u001b[1;34m(self, obj)\u001b[0m\n\u001b[0;32m    337\u001b[0m     \u001b[38;5;28;01mpass\u001b[39;00m\n\u001b[0;32m    338\u001b[0m \u001b[38;5;28;01melse\u001b[39;00m:\n\u001b[1;32m--> 339\u001b[0m     \u001b[38;5;28;01mreturn\u001b[39;00m \u001b[43mprinter\u001b[49m\u001b[43m(\u001b[49m\u001b[43mobj\u001b[49m\u001b[43m)\u001b[49m\n\u001b[0;32m    340\u001b[0m \u001b[38;5;66;03m# Finally look for special method names\u001b[39;00m\n\u001b[0;32m    341\u001b[0m method \u001b[38;5;241m=\u001b[39m get_real_method(obj, \u001b[38;5;28mself\u001b[39m\u001b[38;5;241m.\u001b[39mprint_method)\n",
      "File \u001b[1;32m~\\miniconda3\\lib\\site-packages\\IPython\\core\\pylabtools.py:151\u001b[0m, in \u001b[0;36mprint_figure\u001b[1;34m(fig, fmt, bbox_inches, base64, **kwargs)\u001b[0m\n\u001b[0;32m    148\u001b[0m     \u001b[38;5;28;01mfrom\u001b[39;00m \u001b[38;5;21;01mmatplotlib\u001b[39;00m\u001b[38;5;21;01m.\u001b[39;00m\u001b[38;5;21;01mbackend_bases\u001b[39;00m \u001b[38;5;28;01mimport\u001b[39;00m FigureCanvasBase\n\u001b[0;32m    149\u001b[0m     FigureCanvasBase(fig)\n\u001b[1;32m--> 151\u001b[0m fig\u001b[38;5;241m.\u001b[39mcanvas\u001b[38;5;241m.\u001b[39mprint_figure(bytes_io, \u001b[38;5;241m*\u001b[39m\u001b[38;5;241m*\u001b[39mkw)\n\u001b[0;32m    152\u001b[0m data \u001b[38;5;241m=\u001b[39m bytes_io\u001b[38;5;241m.\u001b[39mgetvalue()\n\u001b[0;32m    153\u001b[0m \u001b[38;5;28;01mif\u001b[39;00m fmt \u001b[38;5;241m==\u001b[39m \u001b[38;5;124m'\u001b[39m\u001b[38;5;124msvg\u001b[39m\u001b[38;5;124m'\u001b[39m:\n",
      "File \u001b[1;32m~\\miniconda3\\lib\\site-packages\\matplotlib\\backend_bases.py:2290\u001b[0m, in \u001b[0;36mFigureCanvasBase.print_figure\u001b[1;34m(self, filename, dpi, facecolor, edgecolor, orientation, format, bbox_inches, pad_inches, bbox_extra_artists, backend, **kwargs)\u001b[0m\n\u001b[0;32m   2284\u001b[0m     renderer \u001b[38;5;241m=\u001b[39m _get_renderer(\n\u001b[0;32m   2285\u001b[0m         \u001b[38;5;28mself\u001b[39m\u001b[38;5;241m.\u001b[39mfigure,\n\u001b[0;32m   2286\u001b[0m         functools\u001b[38;5;241m.\u001b[39mpartial(\n\u001b[0;32m   2287\u001b[0m             print_method, orientation\u001b[38;5;241m=\u001b[39morientation)\n\u001b[0;32m   2288\u001b[0m     )\n\u001b[0;32m   2289\u001b[0m     \u001b[38;5;28;01mwith\u001b[39;00m \u001b[38;5;28mgetattr\u001b[39m(renderer, \u001b[38;5;124m\"\u001b[39m\u001b[38;5;124m_draw_disabled\u001b[39m\u001b[38;5;124m\"\u001b[39m, nullcontext)():\n\u001b[1;32m-> 2290\u001b[0m         \u001b[38;5;28;43mself\u001b[39;49m\u001b[38;5;241;43m.\u001b[39;49m\u001b[43mfigure\u001b[49m\u001b[38;5;241;43m.\u001b[39;49m\u001b[43mdraw\u001b[49m\u001b[43m(\u001b[49m\u001b[43mrenderer\u001b[49m\u001b[43m)\u001b[49m\n\u001b[0;32m   2292\u001b[0m \u001b[38;5;28;01mif\u001b[39;00m bbox_inches:\n\u001b[0;32m   2293\u001b[0m     \u001b[38;5;28;01mif\u001b[39;00m bbox_inches \u001b[38;5;241m==\u001b[39m \u001b[38;5;124m\"\u001b[39m\u001b[38;5;124mtight\u001b[39m\u001b[38;5;124m\"\u001b[39m:\n",
      "File \u001b[1;32m~\\miniconda3\\lib\\site-packages\\matplotlib\\artist.py:73\u001b[0m, in \u001b[0;36m_finalize_rasterization.<locals>.draw_wrapper\u001b[1;34m(artist, renderer, *args, **kwargs)\u001b[0m\n\u001b[0;32m     71\u001b[0m \u001b[38;5;129m@wraps\u001b[39m(draw)\n\u001b[0;32m     72\u001b[0m \u001b[38;5;28;01mdef\u001b[39;00m \u001b[38;5;21mdraw_wrapper\u001b[39m(artist, renderer, \u001b[38;5;241m*\u001b[39margs, \u001b[38;5;241m*\u001b[39m\u001b[38;5;241m*\u001b[39mkwargs):\n\u001b[1;32m---> 73\u001b[0m     result \u001b[38;5;241m=\u001b[39m draw(artist, renderer, \u001b[38;5;241m*\u001b[39margs, \u001b[38;5;241m*\u001b[39m\u001b[38;5;241m*\u001b[39mkwargs)\n\u001b[0;32m     74\u001b[0m     \u001b[38;5;28;01mif\u001b[39;00m renderer\u001b[38;5;241m.\u001b[39m_rasterizing:\n\u001b[0;32m     75\u001b[0m         renderer\u001b[38;5;241m.\u001b[39mstop_rasterizing()\n",
      "File \u001b[1;32m~\\miniconda3\\lib\\site-packages\\matplotlib\\artist.py:50\u001b[0m, in \u001b[0;36mallow_rasterization.<locals>.draw_wrapper\u001b[1;34m(artist, renderer)\u001b[0m\n\u001b[0;32m     47\u001b[0m     \u001b[38;5;28;01mif\u001b[39;00m artist\u001b[38;5;241m.\u001b[39mget_agg_filter() \u001b[38;5;129;01mis\u001b[39;00m \u001b[38;5;129;01mnot\u001b[39;00m \u001b[38;5;28;01mNone\u001b[39;00m:\n\u001b[0;32m     48\u001b[0m         renderer\u001b[38;5;241m.\u001b[39mstart_filter()\n\u001b[1;32m---> 50\u001b[0m     \u001b[38;5;28;01mreturn\u001b[39;00m \u001b[43mdraw\u001b[49m\u001b[43m(\u001b[49m\u001b[43martist\u001b[49m\u001b[43m,\u001b[49m\u001b[43m \u001b[49m\u001b[43mrenderer\u001b[49m\u001b[43m)\u001b[49m\n\u001b[0;32m     51\u001b[0m \u001b[38;5;28;01mfinally\u001b[39;00m:\n\u001b[0;32m     52\u001b[0m     \u001b[38;5;28;01mif\u001b[39;00m artist\u001b[38;5;241m.\u001b[39mget_agg_filter() \u001b[38;5;129;01mis\u001b[39;00m \u001b[38;5;129;01mnot\u001b[39;00m \u001b[38;5;28;01mNone\u001b[39;00m:\n",
      "File \u001b[1;32m~\\miniconda3\\lib\\site-packages\\matplotlib\\figure.py:2803\u001b[0m, in \u001b[0;36mFigure.draw\u001b[1;34m(self, renderer)\u001b[0m\n\u001b[0;32m   2800\u001b[0m         \u001b[38;5;66;03m# ValueError can occur when resizing a window.\u001b[39;00m\n\u001b[0;32m   2802\u001b[0m \u001b[38;5;28mself\u001b[39m\u001b[38;5;241m.\u001b[39mpatch\u001b[38;5;241m.\u001b[39mdraw(renderer)\n\u001b[1;32m-> 2803\u001b[0m \u001b[43mmimage\u001b[49m\u001b[38;5;241;43m.\u001b[39;49m\u001b[43m_draw_list_compositing_images\u001b[49m\u001b[43m(\u001b[49m\n\u001b[0;32m   2804\u001b[0m \u001b[43m    \u001b[49m\u001b[43mrenderer\u001b[49m\u001b[43m,\u001b[49m\u001b[43m \u001b[49m\u001b[38;5;28;43mself\u001b[39;49m\u001b[43m,\u001b[49m\u001b[43m \u001b[49m\u001b[43martists\u001b[49m\u001b[43m,\u001b[49m\u001b[43m \u001b[49m\u001b[38;5;28;43mself\u001b[39;49m\u001b[38;5;241;43m.\u001b[39;49m\u001b[43msuppressComposite\u001b[49m\u001b[43m)\u001b[49m\n\u001b[0;32m   2806\u001b[0m \u001b[38;5;28;01mfor\u001b[39;00m sfig \u001b[38;5;129;01min\u001b[39;00m \u001b[38;5;28mself\u001b[39m\u001b[38;5;241m.\u001b[39msubfigs:\n\u001b[0;32m   2807\u001b[0m     sfig\u001b[38;5;241m.\u001b[39mdraw(renderer)\n",
      "File \u001b[1;32m~\\miniconda3\\lib\\site-packages\\matplotlib\\image.py:132\u001b[0m, in \u001b[0;36m_draw_list_compositing_images\u001b[1;34m(renderer, parent, artists, suppress_composite)\u001b[0m\n\u001b[0;32m    130\u001b[0m \u001b[38;5;28;01mif\u001b[39;00m not_composite \u001b[38;5;129;01mor\u001b[39;00m \u001b[38;5;129;01mnot\u001b[39;00m has_images:\n\u001b[0;32m    131\u001b[0m     \u001b[38;5;28;01mfor\u001b[39;00m a \u001b[38;5;129;01min\u001b[39;00m artists:\n\u001b[1;32m--> 132\u001b[0m         \u001b[43ma\u001b[49m\u001b[38;5;241;43m.\u001b[39;49m\u001b[43mdraw\u001b[49m\u001b[43m(\u001b[49m\u001b[43mrenderer\u001b[49m\u001b[43m)\u001b[49m\n\u001b[0;32m    133\u001b[0m \u001b[38;5;28;01melse\u001b[39;00m:\n\u001b[0;32m    134\u001b[0m     \u001b[38;5;66;03m# Composite any adjacent images together\u001b[39;00m\n\u001b[0;32m    135\u001b[0m     image_group \u001b[38;5;241m=\u001b[39m []\n",
      "File \u001b[1;32m~\\miniconda3\\lib\\site-packages\\matplotlib\\artist.py:50\u001b[0m, in \u001b[0;36mallow_rasterization.<locals>.draw_wrapper\u001b[1;34m(artist, renderer)\u001b[0m\n\u001b[0;32m     47\u001b[0m     \u001b[38;5;28;01mif\u001b[39;00m artist\u001b[38;5;241m.\u001b[39mget_agg_filter() \u001b[38;5;129;01mis\u001b[39;00m \u001b[38;5;129;01mnot\u001b[39;00m \u001b[38;5;28;01mNone\u001b[39;00m:\n\u001b[0;32m     48\u001b[0m         renderer\u001b[38;5;241m.\u001b[39mstart_filter()\n\u001b[1;32m---> 50\u001b[0m     \u001b[38;5;28;01mreturn\u001b[39;00m \u001b[43mdraw\u001b[49m\u001b[43m(\u001b[49m\u001b[43martist\u001b[49m\u001b[43m,\u001b[49m\u001b[43m \u001b[49m\u001b[43mrenderer\u001b[49m\u001b[43m)\u001b[49m\n\u001b[0;32m     51\u001b[0m \u001b[38;5;28;01mfinally\u001b[39;00m:\n\u001b[0;32m     52\u001b[0m     \u001b[38;5;28;01mif\u001b[39;00m artist\u001b[38;5;241m.\u001b[39mget_agg_filter() \u001b[38;5;129;01mis\u001b[39;00m \u001b[38;5;129;01mnot\u001b[39;00m \u001b[38;5;28;01mNone\u001b[39;00m:\n",
      "File \u001b[1;32m~\\miniconda3\\lib\\site-packages\\matplotlib\\axes\\_base.py:3082\u001b[0m, in \u001b[0;36m_AxesBase.draw\u001b[1;34m(self, renderer)\u001b[0m\n\u001b[0;32m   3079\u001b[0m         a\u001b[38;5;241m.\u001b[39mdraw(renderer)\n\u001b[0;32m   3080\u001b[0m     renderer\u001b[38;5;241m.\u001b[39mstop_rasterizing()\n\u001b[1;32m-> 3082\u001b[0m \u001b[43mmimage\u001b[49m\u001b[38;5;241;43m.\u001b[39;49m\u001b[43m_draw_list_compositing_images\u001b[49m\u001b[43m(\u001b[49m\n\u001b[0;32m   3083\u001b[0m \u001b[43m    \u001b[49m\u001b[43mrenderer\u001b[49m\u001b[43m,\u001b[49m\u001b[43m \u001b[49m\u001b[38;5;28;43mself\u001b[39;49m\u001b[43m,\u001b[49m\u001b[43m \u001b[49m\u001b[43martists\u001b[49m\u001b[43m,\u001b[49m\u001b[43m \u001b[49m\u001b[38;5;28;43mself\u001b[39;49m\u001b[38;5;241;43m.\u001b[39;49m\u001b[43mfigure\u001b[49m\u001b[38;5;241;43m.\u001b[39;49m\u001b[43msuppressComposite\u001b[49m\u001b[43m)\u001b[49m\n\u001b[0;32m   3085\u001b[0m renderer\u001b[38;5;241m.\u001b[39mclose_group(\u001b[38;5;124m'\u001b[39m\u001b[38;5;124maxes\u001b[39m\u001b[38;5;124m'\u001b[39m)\n\u001b[0;32m   3086\u001b[0m \u001b[38;5;28mself\u001b[39m\u001b[38;5;241m.\u001b[39mstale \u001b[38;5;241m=\u001b[39m \u001b[38;5;28;01mFalse\u001b[39;00m\n",
      "File \u001b[1;32m~\\miniconda3\\lib\\site-packages\\matplotlib\\image.py:132\u001b[0m, in \u001b[0;36m_draw_list_compositing_images\u001b[1;34m(renderer, parent, artists, suppress_composite)\u001b[0m\n\u001b[0;32m    130\u001b[0m \u001b[38;5;28;01mif\u001b[39;00m not_composite \u001b[38;5;129;01mor\u001b[39;00m \u001b[38;5;129;01mnot\u001b[39;00m has_images:\n\u001b[0;32m    131\u001b[0m     \u001b[38;5;28;01mfor\u001b[39;00m a \u001b[38;5;129;01min\u001b[39;00m artists:\n\u001b[1;32m--> 132\u001b[0m         \u001b[43ma\u001b[49m\u001b[38;5;241;43m.\u001b[39;49m\u001b[43mdraw\u001b[49m\u001b[43m(\u001b[49m\u001b[43mrenderer\u001b[49m\u001b[43m)\u001b[49m\n\u001b[0;32m    133\u001b[0m \u001b[38;5;28;01melse\u001b[39;00m:\n\u001b[0;32m    134\u001b[0m     \u001b[38;5;66;03m# Composite any adjacent images together\u001b[39;00m\n\u001b[0;32m    135\u001b[0m     image_group \u001b[38;5;241m=\u001b[39m []\n",
      "File \u001b[1;32m~\\miniconda3\\lib\\site-packages\\matplotlib\\artist.py:50\u001b[0m, in \u001b[0;36mallow_rasterization.<locals>.draw_wrapper\u001b[1;34m(artist, renderer)\u001b[0m\n\u001b[0;32m     47\u001b[0m     \u001b[38;5;28;01mif\u001b[39;00m artist\u001b[38;5;241m.\u001b[39mget_agg_filter() \u001b[38;5;129;01mis\u001b[39;00m \u001b[38;5;129;01mnot\u001b[39;00m \u001b[38;5;28;01mNone\u001b[39;00m:\n\u001b[0;32m     48\u001b[0m         renderer\u001b[38;5;241m.\u001b[39mstart_filter()\n\u001b[1;32m---> 50\u001b[0m     \u001b[38;5;28;01mreturn\u001b[39;00m \u001b[43mdraw\u001b[49m\u001b[43m(\u001b[49m\u001b[43martist\u001b[49m\u001b[43m,\u001b[49m\u001b[43m \u001b[49m\u001b[43mrenderer\u001b[49m\u001b[43m)\u001b[49m\n\u001b[0;32m     51\u001b[0m \u001b[38;5;28;01mfinally\u001b[39;00m:\n\u001b[0;32m     52\u001b[0m     \u001b[38;5;28;01mif\u001b[39;00m artist\u001b[38;5;241m.\u001b[39mget_agg_filter() \u001b[38;5;129;01mis\u001b[39;00m \u001b[38;5;129;01mnot\u001b[39;00m \u001b[38;5;28;01mNone\u001b[39;00m:\n",
      "File \u001b[1;32m~\\miniconda3\\lib\\site-packages\\matplotlib\\axis.py:1159\u001b[0m, in \u001b[0;36mAxis.draw\u001b[1;34m(self, renderer, *args, **kwargs)\u001b[0m\n\u001b[0;32m   1156\u001b[0m renderer\u001b[38;5;241m.\u001b[39mopen_group(\u001b[38;5;18m__name__\u001b[39m, gid\u001b[38;5;241m=\u001b[39m\u001b[38;5;28mself\u001b[39m\u001b[38;5;241m.\u001b[39mget_gid())\n\u001b[0;32m   1158\u001b[0m ticks_to_draw \u001b[38;5;241m=\u001b[39m \u001b[38;5;28mself\u001b[39m\u001b[38;5;241m.\u001b[39m_update_ticks()\n\u001b[1;32m-> 1159\u001b[0m ticklabelBoxes, ticklabelBoxes2 \u001b[38;5;241m=\u001b[39m \u001b[38;5;28;43mself\u001b[39;49m\u001b[38;5;241;43m.\u001b[39;49m\u001b[43m_get_tick_bboxes\u001b[49m\u001b[43m(\u001b[49m\u001b[43mticks_to_draw\u001b[49m\u001b[43m,\u001b[49m\n\u001b[0;32m   1160\u001b[0m \u001b[43m                                                        \u001b[49m\u001b[43mrenderer\u001b[49m\u001b[43m)\u001b[49m\n\u001b[0;32m   1162\u001b[0m \u001b[38;5;28;01mfor\u001b[39;00m tick \u001b[38;5;129;01min\u001b[39;00m ticks_to_draw:\n\u001b[0;32m   1163\u001b[0m     tick\u001b[38;5;241m.\u001b[39mdraw(renderer)\n",
      "File \u001b[1;32m~\\miniconda3\\lib\\site-packages\\matplotlib\\axis.py:1085\u001b[0m, in \u001b[0;36mAxis._get_tick_bboxes\u001b[1;34m(self, ticks, renderer)\u001b[0m\n\u001b[0;32m   1083\u001b[0m \u001b[38;5;28;01mdef\u001b[39;00m \u001b[38;5;21m_get_tick_bboxes\u001b[39m(\u001b[38;5;28mself\u001b[39m, ticks, renderer):\n\u001b[0;32m   1084\u001b[0m     \u001b[38;5;124;03m\"\"\"Return lists of bboxes for ticks' label1's and label2's.\"\"\"\u001b[39;00m\n\u001b[1;32m-> 1085\u001b[0m     \u001b[38;5;28;01mreturn\u001b[39;00m ([tick\u001b[38;5;241m.\u001b[39mlabel1\u001b[38;5;241m.\u001b[39mget_window_extent(renderer)\n\u001b[0;32m   1086\u001b[0m              \u001b[38;5;28;01mfor\u001b[39;00m tick \u001b[38;5;129;01min\u001b[39;00m ticks \u001b[38;5;28;01mif\u001b[39;00m tick\u001b[38;5;241m.\u001b[39mlabel1\u001b[38;5;241m.\u001b[39mget_visible()],\n\u001b[0;32m   1087\u001b[0m             [tick\u001b[38;5;241m.\u001b[39mlabel2\u001b[38;5;241m.\u001b[39mget_window_extent(renderer)\n\u001b[0;32m   1088\u001b[0m              \u001b[38;5;28;01mfor\u001b[39;00m tick \u001b[38;5;129;01min\u001b[39;00m ticks \u001b[38;5;28;01mif\u001b[39;00m tick\u001b[38;5;241m.\u001b[39mlabel2\u001b[38;5;241m.\u001b[39mget_visible()])\n",
      "File \u001b[1;32m~\\miniconda3\\lib\\site-packages\\matplotlib\\axis.py:1085\u001b[0m, in \u001b[0;36m<listcomp>\u001b[1;34m(.0)\u001b[0m\n\u001b[0;32m   1083\u001b[0m \u001b[38;5;28;01mdef\u001b[39;00m \u001b[38;5;21m_get_tick_bboxes\u001b[39m(\u001b[38;5;28mself\u001b[39m, ticks, renderer):\n\u001b[0;32m   1084\u001b[0m     \u001b[38;5;124;03m\"\"\"Return lists of bboxes for ticks' label1's and label2's.\"\"\"\u001b[39;00m\n\u001b[1;32m-> 1085\u001b[0m     \u001b[38;5;28;01mreturn\u001b[39;00m ([\u001b[43mtick\u001b[49m\u001b[38;5;241;43m.\u001b[39;49m\u001b[43mlabel1\u001b[49m\u001b[38;5;241;43m.\u001b[39;49m\u001b[43mget_window_extent\u001b[49m\u001b[43m(\u001b[49m\u001b[43mrenderer\u001b[49m\u001b[43m)\u001b[49m\n\u001b[0;32m   1086\u001b[0m              \u001b[38;5;28;01mfor\u001b[39;00m tick \u001b[38;5;129;01min\u001b[39;00m ticks \u001b[38;5;28;01mif\u001b[39;00m tick\u001b[38;5;241m.\u001b[39mlabel1\u001b[38;5;241m.\u001b[39mget_visible()],\n\u001b[0;32m   1087\u001b[0m             [tick\u001b[38;5;241m.\u001b[39mlabel2\u001b[38;5;241m.\u001b[39mget_window_extent(renderer)\n\u001b[0;32m   1088\u001b[0m              \u001b[38;5;28;01mfor\u001b[39;00m tick \u001b[38;5;129;01min\u001b[39;00m ticks \u001b[38;5;28;01mif\u001b[39;00m tick\u001b[38;5;241m.\u001b[39mlabel2\u001b[38;5;241m.\u001b[39mget_visible()])\n",
      "File \u001b[1;32m~\\miniconda3\\lib\\site-packages\\matplotlib\\text.py:910\u001b[0m, in \u001b[0;36mText.get_window_extent\u001b[1;34m(self, renderer, dpi)\u001b[0m\n\u001b[0;32m    907\u001b[0m     \u001b[38;5;28;01mraise\u001b[39;00m \u001b[38;5;167;01mRuntimeError\u001b[39;00m(\u001b[38;5;124m'\u001b[39m\u001b[38;5;124mCannot get window extent w/o renderer\u001b[39m\u001b[38;5;124m'\u001b[39m)\n\u001b[0;32m    909\u001b[0m \u001b[38;5;28;01mwith\u001b[39;00m cbook\u001b[38;5;241m.\u001b[39m_setattr_cm(\u001b[38;5;28mself\u001b[39m\u001b[38;5;241m.\u001b[39mfigure, dpi\u001b[38;5;241m=\u001b[39mdpi):\n\u001b[1;32m--> 910\u001b[0m     bbox, info, descent \u001b[38;5;241m=\u001b[39m \u001b[38;5;28;43mself\u001b[39;49m\u001b[38;5;241;43m.\u001b[39;49m\u001b[43m_get_layout\u001b[49m\u001b[43m(\u001b[49m\u001b[38;5;28;43mself\u001b[39;49m\u001b[38;5;241;43m.\u001b[39;49m\u001b[43m_renderer\u001b[49m\u001b[43m)\u001b[49m\n\u001b[0;32m    911\u001b[0m     x, y \u001b[38;5;241m=\u001b[39m \u001b[38;5;28mself\u001b[39m\u001b[38;5;241m.\u001b[39mget_unitless_position()\n\u001b[0;32m    912\u001b[0m     x, y \u001b[38;5;241m=\u001b[39m \u001b[38;5;28mself\u001b[39m\u001b[38;5;241m.\u001b[39mget_transform()\u001b[38;5;241m.\u001b[39mtransform((x, y))\n",
      "File \u001b[1;32m~\\miniconda3\\lib\\site-packages\\matplotlib\\text.py:358\u001b[0m, in \u001b[0;36mText._get_layout\u001b[1;34m(self, renderer)\u001b[0m\n\u001b[0;32m    355\u001b[0m height \u001b[38;5;241m=\u001b[39m ymax \u001b[38;5;241m-\u001b[39m ymin\n\u001b[0;32m    357\u001b[0m \u001b[38;5;66;03m# get the rotation matrix\u001b[39;00m\n\u001b[1;32m--> 358\u001b[0m M \u001b[38;5;241m=\u001b[39m \u001b[43mAffine2D\u001b[49m\u001b[43m(\u001b[49m\u001b[43m)\u001b[49m\u001b[38;5;241;43m.\u001b[39;49m\u001b[43mrotate_deg\u001b[49m\u001b[43m(\u001b[49m\u001b[38;5;28;43mself\u001b[39;49m\u001b[38;5;241;43m.\u001b[39;49m\u001b[43mget_rotation\u001b[49m\u001b[43m(\u001b[49m\u001b[43m)\u001b[49m\u001b[43m)\u001b[49m\n\u001b[0;32m    360\u001b[0m \u001b[38;5;66;03m# now offset the individual text lines within the box\u001b[39;00m\n\u001b[0;32m    361\u001b[0m malign \u001b[38;5;241m=\u001b[39m \u001b[38;5;28mself\u001b[39m\u001b[38;5;241m.\u001b[39m_get_multialignment()\n",
      "File \u001b[1;32m~\\miniconda3\\lib\\site-packages\\matplotlib\\transforms.py:2020\u001b[0m, in \u001b[0;36mAffine2D.rotate_deg\u001b[1;34m(self, degrees)\u001b[0m\n\u001b[0;32m   2012\u001b[0m \u001b[38;5;28;01mdef\u001b[39;00m \u001b[38;5;21mrotate_deg\u001b[39m(\u001b[38;5;28mself\u001b[39m, degrees):\n\u001b[0;32m   2013\u001b[0m     \u001b[38;5;124;03m\"\"\"\u001b[39;00m\n\u001b[0;32m   2014\u001b[0m \u001b[38;5;124;03m    Add a rotation (in degrees) to this transform in place.\u001b[39;00m\n\u001b[0;32m   2015\u001b[0m \n\u001b[1;32m   (...)\u001b[0m\n\u001b[0;32m   2018\u001b[0m \u001b[38;5;124;03m    and :meth:`scale`.\u001b[39;00m\n\u001b[0;32m   2019\u001b[0m \u001b[38;5;124;03m    \"\"\"\u001b[39;00m\n\u001b[1;32m-> 2020\u001b[0m     \u001b[38;5;28;01mreturn\u001b[39;00m \u001b[38;5;28;43mself\u001b[39;49m\u001b[38;5;241;43m.\u001b[39;49m\u001b[43mrotate\u001b[49m\u001b[43m(\u001b[49m\u001b[43mmath\u001b[49m\u001b[38;5;241;43m.\u001b[39;49m\u001b[43mradians\u001b[49m\u001b[43m(\u001b[49m\u001b[43mdegrees\u001b[49m\u001b[43m)\u001b[49m\u001b[43m)\u001b[49m\n",
      "File \u001b[1;32m~\\miniconda3\\lib\\site-packages\\matplotlib\\transforms.py:2008\u001b[0m, in \u001b[0;36mAffine2D.rotate\u001b[1;34m(self, theta)\u001b[0m\n\u001b[0;32m   2005\u001b[0m b \u001b[38;5;241m=\u001b[39m math\u001b[38;5;241m.\u001b[39msin(theta)\n\u001b[0;32m   2006\u001b[0m rotate_mtx \u001b[38;5;241m=\u001b[39m np\u001b[38;5;241m.\u001b[39marray([[a, \u001b[38;5;241m-\u001b[39mb, \u001b[38;5;241m0.0\u001b[39m], [b, a, \u001b[38;5;241m0.0\u001b[39m], [\u001b[38;5;241m0.0\u001b[39m, \u001b[38;5;241m0.0\u001b[39m, \u001b[38;5;241m1.0\u001b[39m]],\n\u001b[0;32m   2007\u001b[0m                       \u001b[38;5;28mfloat\u001b[39m)\n\u001b[1;32m-> 2008\u001b[0m \u001b[38;5;28mself\u001b[39m\u001b[38;5;241m.\u001b[39m_mtx \u001b[38;5;241m=\u001b[39m \u001b[43mnp\u001b[49m\u001b[38;5;241;43m.\u001b[39;49m\u001b[43mdot\u001b[49m\u001b[43m(\u001b[49m\u001b[43mrotate_mtx\u001b[49m\u001b[43m,\u001b[49m\u001b[43m \u001b[49m\u001b[38;5;28;43mself\u001b[39;49m\u001b[38;5;241;43m.\u001b[39;49m\u001b[43m_mtx\u001b[49m\u001b[43m)\u001b[49m\n\u001b[0;32m   2009\u001b[0m \u001b[38;5;28mself\u001b[39m\u001b[38;5;241m.\u001b[39minvalidate()\n\u001b[0;32m   2010\u001b[0m \u001b[38;5;28;01mreturn\u001b[39;00m \u001b[38;5;28mself\u001b[39m\n",
      "File \u001b[1;32m<__array_function__ internals>:5\u001b[0m, in \u001b[0;36mdot\u001b[1;34m(*args, **kwargs)\u001b[0m\n",
      "\u001b[1;31mKeyboardInterrupt\u001b[0m: "
     ]
    }
   ],
   "source": [
    "fig, ax = plt.subplots()\n",
    "VP = ax.boxplot(df[\"effectif_1_inj\"], patch_artist=True,\n",
    "                showmeans=False, showfliers=False,\n",
    "                medianprops={\"color\": \"white\", \"linewidth\": 0.5},\n",
    "                boxprops={\"facecolor\": \"C0\", \"edgecolor\": \"white\",\n",
    "                          \"linewidth\": 0.5},\n",
    "                whiskerprops={\"color\": \"C0\", \"linewidth\": 1.5},\n",
    "                capprops={\"color\": \"C0\", \"linewidth\": 1.5})\n",
    "\n",
    "ax.set(xlim=(0, 8), xticks=np.arange(1, 8),\n",
    "       ylim=(0, 270000), yticks=np.arange(1, 270000))\n",
    "\n",
    "plt.show()"
   ]
  },
  {
   "cell_type": "code",
   "execution_count": 3,
   "metadata": {},
   "outputs": [
    {
     "name": "stderr",
     "output_type": "stream",
     "text": [
      "C:\\Users\\Louis\\miniconda3\\lib\\site-packages\\seaborn\\_decorators.py:36: FutureWarning: Pass the following variable as a keyword arg: x. From version 0.12, the only valid positional argument will be `data`, and passing other arguments without an explicit keyword will result in an error or misinterpretation.\n",
      "  warnings.warn(\n"
     ]
    },
    {
     "data": {
      "image/png": "[encoded data removed]",
      "text/plain": [
       "<Figure size 432x288 with 1 Axes>"
      ]
     },
     "metadata": {
      "needs_background": "light"
     },
     "output_type": "display_data"
    }
   ],
   "source": [
    "f, axes = plt.subplots()\n",
    "sns.boxplot(df[\"population_insee\"])\n",
    "plt.show()"
   ]
  },
  {
   "cell_type": "code",
   "execution_count": 4,
   "metadata": {},
   "outputs": [
    {
     "name": "stderr",
     "output_type": "stream",
     "text": [
      "C:\\Users\\Louis\\miniconda3\\lib\\site-packages\\seaborn\\_decorators.py:36: FutureWarning: Pass the following variable as a keyword arg: x. From version 0.12, the only valid positional argument will be `data`, and passing other arguments without an explicit keyword will result in an error or misinterpretation.\n",
      "  warnings.warn(\n"
     ]
    },
    {
     "data": {
      "image/png": "[encoded data removed]",
      "text/plain": [
       "<Figure size 432x288 with 1 Axes>"
      ]
     },
     "metadata": {
      "needs_background": "light"
     },
     "output_type": "display_data"
    }
   ],
   "source": [
    "f, axes = plt.subplots()\n",
    "sns.boxplot(df[\"effectif_1_inj\"])\n",
    "plt.show()"
   ]
  },
  {
   "cell_type": "code",
   "execution_count": 24,
   "metadata": {},
   "outputs": [
    {
     "name": "stderr",
     "output_type": "stream",
     "text": [
      "C:\\Users\\Louis\\miniconda3\\lib\\site-packages\\seaborn\\_decorators.py:36: FutureWarning: Pass the following variable as a keyword arg: x. From version 0.12, the only valid positional argument will be `data`, and passing other arguments without an explicit keyword will result in an error or misinterpretation.\n",
      "  warnings.warn(\n"
     ]
    },
    {
     "data": {
      "image/png": "[encoded data removed]",
      "text/plain": [
       "<Figure size 432x288 with 1 Axes>"
      ]
     },
     "metadata": {
      "needs_background": "light"
     },
     "output_type": "display_data"
    }
   ],
   "source": [
    "f, axes = plt.subplots()\n",
    "sns.boxplot(df[\"effectif_termine\"])\n",
    "plt.show()"
   ]
  },
  {
   "cell_type": "code",
   "execution_count": 25,
   "metadata": {},
   "outputs": [
    {
     "name": "stderr",
     "output_type": "stream",
     "text": [
      "C:\\Users\\Louis\\miniconda3\\lib\\site-packages\\seaborn\\_decorators.py:36: FutureWarning: Pass the following variable as a keyword arg: x. From version 0.12, the only valid positional argument will be `data`, and passing other arguments without an explicit keyword will result in an error or misinterpretation.\n",
      "  warnings.warn(\n"
     ]
    },
    {
     "data": {
      "image/png": "[encoded data removed]",
      "text/plain": [
       "<Figure size 432x288 with 1 Axes>"
      ]
     },
     "metadata": {
      "needs_background": "light"
     },
     "output_type": "display_data"
    }
   ],
   "source": [
    "f, axes = plt.subplots()\n",
    "sns.boxplot(df[\"effectif_cumu_1_inj\"])\n",
    "plt.show()"
   ]
  },
  {
   "cell_type": "code",
   "execution_count": 26,
   "metadata": {},
   "outputs": [
    {
     "name": "stderr",
     "output_type": "stream",
     "text": [
      "C:\\Users\\Louis\\miniconda3\\lib\\site-packages\\seaborn\\_decorators.py:36: FutureWarning: Pass the following variable as a keyword arg: x. From version 0.12, the only valid positional argument will be `data`, and passing other arguments without an explicit keyword will result in an error or misinterpretation.\n",
      "  warnings.warn(\n"
     ]
    },
    {
     "data": {
      "image/png": "[encoded data removed]",
      "text/plain": [
       "<Figure size 432x288 with 1 Axes>"
      ]
     },
     "metadata": {
      "needs_background": "light"
     },
     "output_type": "display_data"
    }
   ],
   "source": [
    "f, axes = plt.subplots()\n",
    "sns.boxplot(df[\"effectif_cumu_termine\"])\n",
    "plt.show()"
   ]
  },
  {
   "cell_type": "code",
   "execution_count": 27,
   "metadata": {},
   "outputs": [
    {
     "name": "stderr",
     "output_type": "stream",
     "text": [
      "C:\\Users\\Louis\\miniconda3\\lib\\site-packages\\seaborn\\_decorators.py:36: FutureWarning: Pass the following variable as a keyword arg: x. From version 0.12, the only valid positional argument will be `data`, and passing other arguments without an explicit keyword will result in an error or misinterpretation.\n",
      "  warnings.warn(\n"
     ]
    },
    {
     "data": {
      "image/png": "[encoded data removed]",
      "text/plain": [
       "<Figure size 432x288 with 1 Axes>"
      ]
     },
     "metadata": {
      "needs_background": "light"
     },
     "output_type": "display_data"
    }
   ],
   "source": [
    "f, axes = plt.subplots()\n",
    "sns.boxplot(df[\"taux_1_inj\"])\n",
    "plt.show()"
   ]
  },
  {
   "cell_type": "code",
   "execution_count": 28,
   "metadata": {},
   "outputs": [
    {
     "name": "stderr",
     "output_type": "stream",
     "text": [
      "C:\\Users\\Louis\\miniconda3\\lib\\site-packages\\seaborn\\_decorators.py:36: FutureWarning: Pass the following variable as a keyword arg: x. From version 0.12, the only valid positional argument will be `data`, and passing other arguments without an explicit keyword will result in an error or misinterpretation.\n",
      "  warnings.warn(\n"
     ]
    },
    {
     "data": {
      "image/png": "[encoded data removed]",
      "text/plain": [
       "<Figure size 432x288 with 1 Axes>"
      ]
     },
     "metadata": {
      "needs_background": "light"
     },
     "output_type": "display_data"
    }
   ],
   "source": [
    "f, axes = plt.subplots()\n",
    "sns.boxplot(df[\"taux_termine\"])\n",
    "plt.show()"
   ]
  },
  {
   "cell_type": "code",
   "execution_count": 29,
   "metadata": {},
   "outputs": [
    {
     "name": "stderr",
     "output_type": "stream",
     "text": [
      "C:\\Users\\Louis\\miniconda3\\lib\\site-packages\\seaborn\\_decorators.py:36: FutureWarning: Pass the following variable as a keyword arg: x. From version 0.12, the only valid positional argument will be `data`, and passing other arguments without an explicit keyword will result in an error or misinterpretation.\n",
      "  warnings.warn(\n"
     ]
    },
    {
     "data": {
      "image/png": "[encoded data removed]",
      "text/plain": [
       "<Figure size 432x288 with 1 Axes>"
      ]
     },
     "metadata": {
      "needs_background": "light"
     },
     "output_type": "display_data"
    }
   ],
   "source": [
    "f, axes = plt.subplots()\n",
    "sns.boxplot(df[\"taux_cumu_1_inj\"])\n",
    "plt.show()"
   ]
  },
  {
   "cell_type": "code",
   "execution_count": 30,
   "metadata": {},
   "outputs": [
    {
     "name": "stderr",
     "output_type": "stream",
     "text": [
      "C:\\Users\\Louis\\miniconda3\\lib\\site-packages\\seaborn\\_decorators.py:36: FutureWarning: Pass the following variable as a keyword arg: x. From version 0.12, the only valid positional argument will be `data`, and passing other arguments without an explicit keyword will result in an error or misinterpretation.\n",
      "  warnings.warn(\n"
     ]
    },
    {
     "data": {
      "image/png": "[encoded data removed]",
      "text/plain": [
       "<Figure size 432x288 with 1 Axes>"
      ]
     },
     "metadata": {
      "needs_background": "light"
     },
     "output_type": "display_data"
    }
   ],
   "source": [
    "f, axes = plt.subplots()\n",
    "sns.boxplot(df[\"taux_cumu_termine\"])\n",
    "plt.show()"
   ]
  },
  {
   "cell_type": "code",
   "execution_count": 31,
   "metadata": {},
   "outputs": [
    {
     "name": "stderr",
     "output_type": "stream",
     "text": [
      "C:\\Users\\Louis\\miniconda3\\lib\\site-packages\\seaborn\\_decorators.py:36: FutureWarning: Pass the following variable as a keyword arg: x. From version 0.12, the only valid positional argument will be `data`, and passing other arguments without an explicit keyword will result in an error or misinterpretation.\n",
      "  warnings.warn(\n"
     ]
    },
    {
     "data": {
      "image/png": "[encoded data removed]",
      "text/plain": [
       "<Figure size 432x288 with 1 Axes>"
      ]
     },
     "metadata": {
      "needs_background": "light"
     },
     "output_type": "display_data"
    }
   ],
   "source": [
    "f, axes = plt.subplots()\n",
    "sns.boxplot(df[\"effectif_rappel\"])\n",
    "plt.show()"
   ]
  },
  {
   "cell_type": "code",
   "execution_count": 32,
   "metadata": {},
   "outputs": [
    {
     "name": "stderr",
     "output_type": "stream",
     "text": [
      "C:\\Users\\Louis\\miniconda3\\lib\\site-packages\\seaborn\\_decorators.py:36: FutureWarning: Pass the following variable as a keyword arg: x. From version 0.12, the only valid positional argument will be `data`, and passing other arguments without an explicit keyword will result in an error or misinterpretation.\n",
      "  warnings.warn(\n"
     ]
    },
    {
     "data": {
      "image/png": "[encoded data removed]",
      "text/plain": [
       "<Figure size 432x288 with 1 Axes>"
      ]
     },
     "metadata": {
      "needs_background": "light"
     },
     "output_type": "display_data"
    }
   ],
   "source": [
    "f, axes = plt.subplots()\n",
    "sns.boxplot(df[\"effectif_cumu_rappel\"])\n",
    "plt.show()"
   ]
  },
  {
   "cell_type": "code",
   "execution_count": 33,
   "metadata": {},
   "outputs": [
    {
     "name": "stderr",
     "output_type": "stream",
     "text": [
      "C:\\Users\\Louis\\miniconda3\\lib\\site-packages\\seaborn\\_decorators.py:36: FutureWarning: Pass the following variable as a keyword arg: x. From version 0.12, the only valid positional argument will be `data`, and passing other arguments without an explicit keyword will result in an error or misinterpretation.\n",
      "  warnings.warn(\n"
     ]
    },
    {
     "data": {
      "image/png": "[encoded data removed]",
      "text/plain": [
       "<Figure size 432x288 with 1 Axes>"
      ]
     },
     "metadata": {
      "needs_background": "light"
     },
     "output_type": "display_data"
    }
   ],
   "source": [
    "f, axes = plt.subplots()\n",
    "sns.boxplot(df[\"effectif_rappel_parmi_eligible\"])\n",
    "plt.show()"
   ]
  },
  {
   "cell_type": "code",
   "execution_count": 34,
   "metadata": {},
   "outputs": [
    {
     "name": "stderr",
     "output_type": "stream",
     "text": [
      "C:\\Users\\Louis\\miniconda3\\lib\\site-packages\\seaborn\\_decorators.py:36: FutureWarning: Pass the following variable as a keyword arg: x. From version 0.12, the only valid positional argument will be `data`, and passing other arguments without an explicit keyword will result in an error or misinterpretation.\n",
      "  warnings.warn(\n"
     ]
    },
    {
     "data": {
      "image/png": "[encoded data removed]",
      "text/plain": [
       "<Figure size 432x288 with 1 Axes>"
      ]
     },
     "metadata": {
      "needs_background": "light"
     },
     "output_type": "display_data"
    }
   ],
   "source": [
    "f, axes = plt.subplots()\n",
    "sns.boxplot(df[\"effectif_eligible_au_rappel\"])\n",
    "plt.show()"
   ]
  },
  {
   "cell_type": "code",
   "execution_count": 37,
   "metadata": {},
   "outputs": [
    {
     "name": "stderr",
     "output_type": "stream",
     "text": [
      "C:\\Users\\Louis\\miniconda3\\lib\\site-packages\\seaborn\\_decorators.py:36: FutureWarning: Pass the following variable as a keyword arg: x. From version 0.12, the only valid positional argument will be `data`, and passing other arguments without an explicit keyword will result in an error or misinterpretation.\n",
      "  warnings.warn(\n"
     ]
    },
    {
     "data": {
      "image/png": "[encoded data removed]",
      "text/plain": [
       "<Figure size 432x288 with 1 Axes>"
      ]
     },
     "metadata": {
      "needs_background": "light"
     },
     "output_type": "display_data"
    }
   ],
   "source": [
    "f, axes = plt.subplots()\n",
    "sns.boxplot(df[\"taux_rappel\"])\n",
    "plt.show()"
   ]
  },
  {
   "cell_type": "code",
   "execution_count": 36,
   "metadata": {},
   "outputs": [
    {
     "name": "stderr",
     "output_type": "stream",
     "text": [
      "C:\\Users\\Louis\\miniconda3\\lib\\site-packages\\seaborn\\_decorators.py:36: FutureWarning: Pass the following variable as a keyword arg: x. From version 0.12, the only valid positional argument will be `data`, and passing other arguments without an explicit keyword will result in an error or misinterpretation.\n",
      "  warnings.warn(\n"
     ]
    },
    {
     "data": {
      "image/png": "[encoded data removed]",
      "text/plain": [
       "<Figure size 432x288 with 1 Axes>"
      ]
     },
     "metadata": {
      "needs_background": "light"
     },
     "output_type": "display_data"
    }
   ],
   "source": [
    "f, axes = plt.subplots()\n",
    "sns.boxplot(df[\"taux_cumu_rappel\"])\n",
    "plt.show()"
   ]
  },
  {
   "cell_type": "code",
   "execution_count": 35,
   "metadata": {},
   "outputs": [
    {
     "name": "stderr",
     "output_type": "stream",
     "text": [
      "C:\\Users\\Louis\\miniconda3\\lib\\site-packages\\seaborn\\_decorators.py:36: FutureWarning: Pass the following variable as a keyword arg: x. From version 0.12, the only valid positional argument will be `data`, and passing other arguments without an explicit keyword will result in an error or misinterpretation.\n",
      "  warnings.warn(\n"
     ]
    },
    {
     "data": {
      "image/png": "[encoded data removed]",
      "text/plain": [
       "<Figure size 432x288 with 1 Axes>"
      ]
     },
     "metadata": {
      "needs_background": "light"
     },
     "output_type": "display_data"
    }
   ],
   "source": [
    "f, axes = plt.subplots()\n",
    "sns.boxplot(df[\"taux_cumu_rappeleli\"])\n",
    "plt.show()"
   ]
  },
  {
   "cell_type": "code",
   "execution_count": 65,
   "metadata": {},
   "outputs": [
    {
     "name": "stderr",
     "output_type": "stream",
     "text": [
      "C:\\Users\\Louis\\AppData\\Local\\Temp\\ipykernel_42992\\1041533568.py:1: FutureWarning: Dropping of nuisance columns in DataFrame reductions (with 'numeric_only=None') is deprecated; in a future version this will raise TypeError.  Select only valid columns before calling the reduction.\n",
      "  data = df[df[\"population_insee\"] < 50000].mean()\n"
     ]
    }
   ],
   "source": [
    "data = df[df[\"taux_cumu_rappel\"] < 50000].mean()\n"
   ]
  },
  {
   "cell_type": "code",
   "execution_count": 81,
   "metadata": {},
   "outputs": [
    {
     "name": "stdout",
     "output_type": "stream",
     "text": [
      "population_insee                  467045.876235\n",
      "effectif_1_inj                      1593.210190\n",
      "effectif_termine                    2725.788202\n",
      "effectif_cumu_1_inj               364414.145257\n",
      "effectif_cumu_termine             355022.401186\n",
      "taux_1_inj                             0.003155\n",
      "taux_termine                           0.005002\n",
      "taux_cumu_1_inj                        0.835149\n",
      "taux_cumu_termine                      0.815664\n",
      "effectif_rappel                    10848.179965\n",
      "effectif_cumu_rappel               64992.469121\n",
      "effectif_rappel_parmi_eligible     69108.289753\n",
      "effectif_eligible_au_rappel       208023.390111\n",
      "taux_rappel                            0.025394\n",
      "taux_cumu_rappel                       0.165192\n",
      "taux_cumu_rappeleli                    0.246860\n",
      "dtype: float64\n"
     ]
    },
    {
     "name": "stderr",
     "output_type": "stream",
     "text": [
      "C:\\Users\\Louis\\AppData\\Local\\Temp\\ipykernel_42992\\4028226249.py:1: FutureWarning: Dropping of nuisance columns in DataFrame reductions (with 'numeric_only=None') is deprecated; in a future version this will raise TypeError.  Select only valid columns before calling the reduction.\n",
      "  test = df[df[\"taux_rappel\"] < 0.11].mean()\n"
     ]
    }
   ],
   "source": [
    "test = df[df[\"taux_rappel\"] < 0.11].mean()\n",
    "print(test)"
   ]
  },
  {
   "cell_type": "code",
   "execution_count": 78,
   "metadata": {},
   "outputs": [
    {
     "name": "stderr",
     "output_type": "stream",
     "text": [
      "C:\\Users\\Louis\\miniconda3\\lib\\site-packages\\seaborn\\_decorators.py:36: FutureWarning: Pass the following variable as a keyword arg: x. From version 0.12, the only valid positional argument will be `data`, and passing other arguments without an explicit keyword will result in an error or misinterpretation.\n",
      "  warnings.warn(\n"
     ]
    },
    {
     "data": {
      "image/png": "[encoded data removed]",
      "text/plain": [
       "<Figure size 432x288 with 1 Axes>"
      ]
     },
     "metadata": {
      "needs_background": "light"
     },
     "output_type": "display_data"
    }
   ],
   "source": [
    "f, axes = plt.subplots()\n",
    "sns.boxplot(test)\n",
    "plt.show()"
   ]
  }
 ],
 "metadata": {
  "interpreter": {
   "hash": "27eedc5c121eeb1aad822e3e19184b258e1e9159307ccb287bb2e5689b32eb87"
  },
  "kernelspec": {
   "display_name": "Python 3.9.6 64-bit",
   "language": "python",
   "name": "python3"
  },
  "language_info": {
   "codemirror_mode": {
    "name": "ipython",
    "version": 3
   },
   "file_extension": ".py",
   "mimetype": "text/x-python",
   "name": "python",
   "nbconvert_exporter": "python",
   "pygments_lexer": "ipython3",
   "version": "3.10.2"
  },
  "orig_nbformat": 4
 },
 "nbformat": 4,
 "nbformat_minor": 2
}
