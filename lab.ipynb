{
 "cells": [
  {
   "cell_type": "code",
   "execution_count": 2,
   "metadata": {},
   "outputs": [],
   "source": [
    "import numpy as np\n",
    "import pandas as pd \n",
    "import matplotlib.pyplot as plt \n",
    "import seaborn as sns\n",
    "import os"
   ]
  },
  {
   "cell_type": "code",
   "execution_count": 3,
   "metadata": {},
   "outputs": [
    {
     "name": "stderr",
     "output_type": "stream",
     "text": [
      "C:\\Users\\Louis\\miniconda3\\lib\\site-packages\\IPython\\core\\interactiveshell.py:3251: DtypeWarning: Columns (2) have mixed types.Specify dtype option on import or set low_memory=False.\n",
      "  exec(code_obj, self.user_global_ns, self.user_ns)\n"
     ]
    },
    {
     "data": {
      "text/html": [
       "<div>\n",
       "<style scoped>\n",
       "    .dataframe tbody tr th:only-of-type {\n",
       "        vertical-align: middle;\n",
       "    }\n",
       "\n",
       "    .dataframe tbody tr th {\n",
       "        vertical-align: top;\n",
       "    }\n",
       "\n",
       "    .dataframe thead th {\n",
       "        text-align: right;\n",
       "    }\n",
       "</style>\n",
       "<table border=\"1\" class=\"dataframe\">\n",
       "  <thead>\n",
       "    <tr style=\"text-align: right;\">\n",
       "      <th></th>\n",
       "      <th>date_reference</th>\n",
       "      <th>semaine_injection</th>\n",
       "      <th>region_residence</th>\n",
       "      <th>libelle_region</th>\n",
       "      <th>departement_residence</th>\n",
       "      <th>libelle_departement</th>\n",
       "      <th>population_insee</th>\n",
       "      <th>classe_age</th>\n",
       "      <th>libelle_classe_age</th>\n",
       "      <th>type_vaccin</th>\n",
       "      <th>...</th>\n",
       "      <th>taux_cumu_1_inj</th>\n",
       "      <th>taux_cumu_termine</th>\n",
       "      <th>date</th>\n",
       "      <th>effectif_rappel</th>\n",
       "      <th>effectif_cumu_rappel</th>\n",
       "      <th>effectif_rappel_parmi_eligible</th>\n",
       "      <th>effectif_eligible_au_rappel</th>\n",
       "      <th>taux_rappel</th>\n",
       "      <th>taux_cumu_rappel</th>\n",
       "      <th>taux_cumu_rappeleli</th>\n",
       "    </tr>\n",
       "  </thead>\n",
       "  <tbody>\n",
       "    <tr>\n",
       "      <th>0</th>\n",
       "      <td>2022-01-09</td>\n",
       "      <td>2020-52</td>\n",
       "      <td>1</td>\n",
       "      <td>Guadeloupe</td>\n",
       "      <td>Tout département</td>\n",
       "      <td>FRANCE</td>\n",
       "      <td>50545.0</td>\n",
       "      <td>00-11</td>\n",
       "      <td>de 0 à 11 ans</td>\n",
       "      <td>COMIRNATY Pfizer-BioNTech</td>\n",
       "      <td>...</td>\n",
       "      <td>NaN</td>\n",
       "      <td>NaN</td>\n",
       "      <td>2021-01-03</td>\n",
       "      <td>NaN</td>\n",
       "      <td>NaN</td>\n",
       "      <td>NaN</td>\n",
       "      <td>NaN</td>\n",
       "      <td>NaN</td>\n",
       "      <td>NaN</td>\n",
       "      <td>NaN</td>\n",
       "    </tr>\n",
       "    <tr>\n",
       "      <th>1</th>\n",
       "      <td>2022-01-09</td>\n",
       "      <td>2020-52</td>\n",
       "      <td>1</td>\n",
       "      <td>Guadeloupe</td>\n",
       "      <td>Tout département</td>\n",
       "      <td>FRANCE</td>\n",
       "      <td>50545.0</td>\n",
       "      <td>00-11</td>\n",
       "      <td>de 0 à 11 ans</td>\n",
       "      <td>COVID-19 Vaccine Moderna</td>\n",
       "      <td>...</td>\n",
       "      <td>NaN</td>\n",
       "      <td>NaN</td>\n",
       "      <td>2021-01-03</td>\n",
       "      <td>NaN</td>\n",
       "      <td>NaN</td>\n",
       "      <td>NaN</td>\n",
       "      <td>NaN</td>\n",
       "      <td>NaN</td>\n",
       "      <td>NaN</td>\n",
       "      <td>NaN</td>\n",
       "    </tr>\n",
       "    <tr>\n",
       "      <th>2</th>\n",
       "      <td>2022-01-09</td>\n",
       "      <td>2020-52</td>\n",
       "      <td>1</td>\n",
       "      <td>Guadeloupe</td>\n",
       "      <td>Tout département</td>\n",
       "      <td>FRANCE</td>\n",
       "      <td>50545.0</td>\n",
       "      <td>00-11</td>\n",
       "      <td>de 0 à 11 ans</td>\n",
       "      <td>VAXZEVRIA AstraZeneca</td>\n",
       "      <td>...</td>\n",
       "      <td>NaN</td>\n",
       "      <td>NaN</td>\n",
       "      <td>2021-01-03</td>\n",
       "      <td>NaN</td>\n",
       "      <td>NaN</td>\n",
       "      <td>NaN</td>\n",
       "      <td>NaN</td>\n",
       "      <td>NaN</td>\n",
       "      <td>NaN</td>\n",
       "      <td>NaN</td>\n",
       "    </tr>\n",
       "    <tr>\n",
       "      <th>3</th>\n",
       "      <td>2022-01-09</td>\n",
       "      <td>2020-52</td>\n",
       "      <td>1</td>\n",
       "      <td>Guadeloupe</td>\n",
       "      <td>Tout département</td>\n",
       "      <td>FRANCE</td>\n",
       "      <td>50545.0</td>\n",
       "      <td>00-11</td>\n",
       "      <td>de 0 à 11 ans</td>\n",
       "      <td>COVID-19 Vaccine Janssen</td>\n",
       "      <td>...</td>\n",
       "      <td>NaN</td>\n",
       "      <td>NaN</td>\n",
       "      <td>2021-01-03</td>\n",
       "      <td>NaN</td>\n",
       "      <td>NaN</td>\n",
       "      <td>NaN</td>\n",
       "      <td>NaN</td>\n",
       "      <td>NaN</td>\n",
       "      <td>NaN</td>\n",
       "      <td>NaN</td>\n",
       "    </tr>\n",
       "    <tr>\n",
       "      <th>4</th>\n",
       "      <td>2022-01-09</td>\n",
       "      <td>2020-52</td>\n",
       "      <td>1</td>\n",
       "      <td>Guadeloupe</td>\n",
       "      <td>Tout département</td>\n",
       "      <td>FRANCE</td>\n",
       "      <td>50545.0</td>\n",
       "      <td>00-11</td>\n",
       "      <td>de 0 à 11 ans</td>\n",
       "      <td>COMIRNATY Pfizer-BioNTech pédiatrique</td>\n",
       "      <td>...</td>\n",
       "      <td>NaN</td>\n",
       "      <td>NaN</td>\n",
       "      <td>2021-01-03</td>\n",
       "      <td>NaN</td>\n",
       "      <td>NaN</td>\n",
       "      <td>NaN</td>\n",
       "      <td>NaN</td>\n",
       "      <td>NaN</td>\n",
       "      <td>NaN</td>\n",
       "      <td>NaN</td>\n",
       "    </tr>\n",
       "    <tr>\n",
       "      <th>...</th>\n",
       "      <td>...</td>\n",
       "      <td>...</td>\n",
       "      <td>...</td>\n",
       "      <td>...</td>\n",
       "      <td>...</td>\n",
       "      <td>...</td>\n",
       "      <td>...</td>\n",
       "      <td>...</td>\n",
       "      <td>...</td>\n",
       "      <td>...</td>\n",
       "      <td>...</td>\n",
       "      <td>...</td>\n",
       "      <td>...</td>\n",
       "      <td>...</td>\n",
       "      <td>...</td>\n",
       "      <td>...</td>\n",
       "      <td>...</td>\n",
       "      <td>...</td>\n",
       "      <td>...</td>\n",
       "      <td>...</td>\n",
       "      <td>...</td>\n",
       "    </tr>\n",
       "    <tr>\n",
       "      <th>368924</th>\n",
       "      <td>2022-01-16</td>\n",
       "      <td>2022-02</td>\n",
       "      <td>Toute région</td>\n",
       "      <td>FRANCE</td>\n",
       "      <td>Tout département</td>\n",
       "      <td>FRANCE</td>\n",
       "      <td>67287193.0</td>\n",
       "      <td>TOUT_AGE</td>\n",
       "      <td>Tout âge</td>\n",
       "      <td>VAXZEVRIA AstraZeneca</td>\n",
       "      <td>...</td>\n",
       "      <td>0.065</td>\n",
       "      <td>0.054</td>\n",
       "      <td>2022-01-16</td>\n",
       "      <td>NaN</td>\n",
       "      <td>NaN</td>\n",
       "      <td>NaN</td>\n",
       "      <td>4249640.0</td>\n",
       "      <td>NaN</td>\n",
       "      <td>NaN</td>\n",
       "      <td>NaN</td>\n",
       "    </tr>\n",
       "    <tr>\n",
       "      <th>368925</th>\n",
       "      <td>2022-01-16</td>\n",
       "      <td>2022-02</td>\n",
       "      <td>Toute région</td>\n",
       "      <td>FRANCE</td>\n",
       "      <td>Tout département</td>\n",
       "      <td>FRANCE</td>\n",
       "      <td>67287193.0</td>\n",
       "      <td>TOUT_AGE</td>\n",
       "      <td>Tout âge</td>\n",
       "      <td>COVID-19 Vaccine Janssen</td>\n",
       "      <td>...</td>\n",
       "      <td>0.016</td>\n",
       "      <td>0.016</td>\n",
       "      <td>2022-01-16</td>\n",
       "      <td>NaN</td>\n",
       "      <td>NaN</td>\n",
       "      <td>NaN</td>\n",
       "      <td>1043810.0</td>\n",
       "      <td>NaN</td>\n",
       "      <td>NaN</td>\n",
       "      <td>NaN</td>\n",
       "    </tr>\n",
       "    <tr>\n",
       "      <th>368926</th>\n",
       "      <td>2022-01-16</td>\n",
       "      <td>2022-02</td>\n",
       "      <td>Toute région</td>\n",
       "      <td>FRANCE</td>\n",
       "      <td>Tout département</td>\n",
       "      <td>FRANCE</td>\n",
       "      <td>67287193.0</td>\n",
       "      <td>TOUT_AGE</td>\n",
       "      <td>Tout âge</td>\n",
       "      <td>COMIRNATY Pfizer-BioNTech pédiatrique</td>\n",
       "      <td>...</td>\n",
       "      <td>0.002</td>\n",
       "      <td>0.000</td>\n",
       "      <td>2022-01-16</td>\n",
       "      <td>NaN</td>\n",
       "      <td>NaN</td>\n",
       "      <td>NaN</td>\n",
       "      <td>NaN</td>\n",
       "      <td>NaN</td>\n",
       "      <td>NaN</td>\n",
       "      <td>NaN</td>\n",
       "    </tr>\n",
       "    <tr>\n",
       "      <th>368927</th>\n",
       "      <td>2022-01-16</td>\n",
       "      <td>2022-02</td>\n",
       "      <td>Toute région</td>\n",
       "      <td>FRANCE</td>\n",
       "      <td>Tout département</td>\n",
       "      <td>FRANCE</td>\n",
       "      <td>67287193.0</td>\n",
       "      <td>TOUT_AGE</td>\n",
       "      <td>Tout âge</td>\n",
       "      <td>Tout vaccin</td>\n",
       "      <td>...</td>\n",
       "      <td>0.796</td>\n",
       "      <td>0.777</td>\n",
       "      <td>2022-01-16</td>\n",
       "      <td>3225750.0</td>\n",
       "      <td>31617730.0</td>\n",
       "      <td>31160710.0</td>\n",
       "      <td>43673790.0</td>\n",
       "      <td>0.048</td>\n",
       "      <td>0.47</td>\n",
       "      <td>0.713</td>\n",
       "    </tr>\n",
       "    <tr>\n",
       "      <th>368928</th>\n",
       "      <td>\u001a</td>\n",
       "      <td>NaN</td>\n",
       "      <td>NaN</td>\n",
       "      <td>NaN</td>\n",
       "      <td>NaN</td>\n",
       "      <td>NaN</td>\n",
       "      <td>NaN</td>\n",
       "      <td>NaN</td>\n",
       "      <td>NaN</td>\n",
       "      <td>NaN</td>\n",
       "      <td>...</td>\n",
       "      <td>NaN</td>\n",
       "      <td>NaN</td>\n",
       "      <td>NaN</td>\n",
       "      <td>NaN</td>\n",
       "      <td>NaN</td>\n",
       "      <td>NaN</td>\n",
       "      <td>NaN</td>\n",
       "      <td>NaN</td>\n",
       "      <td>NaN</td>\n",
       "      <td>NaN</td>\n",
       "    </tr>\n",
       "  </tbody>\n",
       "</table>\n",
       "<p>368929 rows × 26 columns</p>\n",
       "</div>"
      ],
      "text/plain": [
       "       date_reference semaine_injection region_residence libelle_region  \\\n",
       "0          2022-01-09           2020-52                1     Guadeloupe   \n",
       "1          2022-01-09           2020-52                1     Guadeloupe   \n",
       "2          2022-01-09           2020-52                1     Guadeloupe   \n",
       "3          2022-01-09           2020-52                1     Guadeloupe   \n",
       "4          2022-01-09           2020-52                1     Guadeloupe   \n",
       "...               ...               ...              ...            ...   \n",
       "368924     2022-01-16           2022-02     Toute région         FRANCE   \n",
       "368925     2022-01-16           2022-02     Toute région         FRANCE   \n",
       "368926     2022-01-16           2022-02     Toute région         FRANCE   \n",
       "368927     2022-01-16           2022-02     Toute région         FRANCE   \n",
       "368928              \u001a               NaN              NaN            NaN   \n",
       "\n",
       "       departement_residence libelle_departement  population_insee classe_age  \\\n",
       "0           Tout département              FRANCE           50545.0      00-11   \n",
       "1           Tout département              FRANCE           50545.0      00-11   \n",
       "2           Tout département              FRANCE           50545.0      00-11   \n",
       "3           Tout département              FRANCE           50545.0      00-11   \n",
       "4           Tout département              FRANCE           50545.0      00-11   \n",
       "...                      ...                 ...               ...        ...   \n",
       "368924      Tout département              FRANCE        67287193.0   TOUT_AGE   \n",
       "368925      Tout département              FRANCE        67287193.0   TOUT_AGE   \n",
       "368926      Tout département              FRANCE        67287193.0   TOUT_AGE   \n",
       "368927      Tout département              FRANCE        67287193.0   TOUT_AGE   \n",
       "368928                   NaN                 NaN               NaN        NaN   \n",
       "\n",
       "       libelle_classe_age                            type_vaccin  ...  \\\n",
       "0           de 0 à 11 ans              COMIRNATY Pfizer-BioNTech  ...   \n",
       "1           de 0 à 11 ans               COVID-19 Vaccine Moderna  ...   \n",
       "2           de 0 à 11 ans                  VAXZEVRIA AstraZeneca  ...   \n",
       "3           de 0 à 11 ans               COVID-19 Vaccine Janssen  ...   \n",
       "4           de 0 à 11 ans  COMIRNATY Pfizer-BioNTech pédiatrique  ...   \n",
       "...                   ...                                    ...  ...   \n",
       "368924           Tout âge                  VAXZEVRIA AstraZeneca  ...   \n",
       "368925           Tout âge               COVID-19 Vaccine Janssen  ...   \n",
       "368926           Tout âge  COMIRNATY Pfizer-BioNTech pédiatrique  ...   \n",
       "368927           Tout âge                            Tout vaccin  ...   \n",
       "368928                NaN                                    NaN  ...   \n",
       "\n",
       "        taux_cumu_1_inj  taux_cumu_termine        date  effectif_rappel  \\\n",
       "0                   NaN                NaN  2021-01-03              NaN   \n",
       "1                   NaN                NaN  2021-01-03              NaN   \n",
       "2                   NaN                NaN  2021-01-03              NaN   \n",
       "3                   NaN                NaN  2021-01-03              NaN   \n",
       "4                   NaN                NaN  2021-01-03              NaN   \n",
       "...                 ...                ...         ...              ...   \n",
       "368924            0.065              0.054  2022-01-16              NaN   \n",
       "368925            0.016              0.016  2022-01-16              NaN   \n",
       "368926            0.002              0.000  2022-01-16              NaN   \n",
       "368927            0.796              0.777  2022-01-16        3225750.0   \n",
       "368928              NaN                NaN         NaN              NaN   \n",
       "\n",
       "        effectif_cumu_rappel  effectif_rappel_parmi_eligible  \\\n",
       "0                        NaN                             NaN   \n",
       "1                        NaN                             NaN   \n",
       "2                        NaN                             NaN   \n",
       "3                        NaN                             NaN   \n",
       "4                        NaN                             NaN   \n",
       "...                      ...                             ...   \n",
       "368924                   NaN                             NaN   \n",
       "368925                   NaN                             NaN   \n",
       "368926                   NaN                             NaN   \n",
       "368927            31617730.0                      31160710.0   \n",
       "368928                   NaN                             NaN   \n",
       "\n",
       "        effectif_eligible_au_rappel  taux_rappel taux_cumu_rappel  \\\n",
       "0                               NaN          NaN              NaN   \n",
       "1                               NaN          NaN              NaN   \n",
       "2                               NaN          NaN              NaN   \n",
       "3                               NaN          NaN              NaN   \n",
       "4                               NaN          NaN              NaN   \n",
       "...                             ...          ...              ...   \n",
       "368924                    4249640.0          NaN              NaN   \n",
       "368925                    1043810.0          NaN              NaN   \n",
       "368926                          NaN          NaN              NaN   \n",
       "368927                   43673790.0        0.048             0.47   \n",
       "368928                          NaN          NaN              NaN   \n",
       "\n",
       "        taux_cumu_rappeleli  \n",
       "0                       NaN  \n",
       "1                       NaN  \n",
       "2                       NaN  \n",
       "3                       NaN  \n",
       "4                       NaN  \n",
       "...                     ...  \n",
       "368924                  NaN  \n",
       "368925                  NaN  \n",
       "368926                  NaN  \n",
       "368927                0.713  \n",
       "368928                  NaN  \n",
       "\n",
       "[368929 rows x 26 columns]"
      ]
     },
     "execution_count": 3,
     "metadata": {},
     "output_type": "execute_result"
    }
   ],
   "source": [
    "df = pd.read_csv(r\".\\vaccination-covid\\src\\data\\masterlist.csv\", delimiter=\";\")\n",
    "df"
   ]
  },
  {
   "cell_type": "code",
   "execution_count": 4,
   "metadata": {},
   "outputs": [
    {
     "data": {
      "text/plain": [
       "(368929, 26)"
      ]
     },
     "execution_count": 4,
     "metadata": {},
     "output_type": "execute_result"
    }
   ],
   "source": [
    "df.shape"
   ]
  },
  {
   "cell_type": "code",
   "execution_count": 10,
   "metadata": {},
   "outputs": [
    {
     "data": {
      "text/plain": [
       "Index(['date_reference', 'semaine_injection', 'region_residence',\n",
       "       'libelle_region', 'departement_residence', 'libelle_departement',\n",
       "       'population_insee', 'classe_age', 'libelle_classe_age', 'type_vaccin',\n",
       "       'effectif_1_inj', 'effectif_termine', 'effectif_cumu_1_inj',\n",
       "       'effectif_cumu_termine', 'taux_1_inj', 'taux_termine',\n",
       "       'taux_cumu_1_inj', 'taux_cumu_termine', 'date', 'effectif_rappel',\n",
       "       'effectif_cumu_rappel', 'effectif_rappel_parmi_eligible',\n",
       "       'effectif_eligible_au_rappel', 'taux_rappel', 'taux_cumu_rappel',\n",
       "       'taux_cumu_rappeleli'],\n",
       "      dtype='object')"
      ]
     },
     "execution_count": 10,
     "metadata": {},
     "output_type": "execute_result"
    }
   ],
   "source": [
    "df.columns"
   ]
  },
  {
   "cell_type": "code",
   "execution_count": 11,
   "metadata": {},
   "outputs": [
    {
     "name": "stdout",
     "output_type": "stream",
     "text": [
      "<class 'pandas.core.frame.DataFrame'>\n",
      "RangeIndex: 368929 entries, 0 to 368928\n",
      "Data columns (total 26 columns):\n",
      " #   Column                          Non-Null Count   Dtype  \n",
      "---  ------                          --------------   -----  \n",
      " 0   date_reference                  368929 non-null  object \n",
      " 1   semaine_injection               368928 non-null  object \n",
      " 2   region_residence                368928 non-null  object \n",
      " 3   libelle_region                  362880 non-null  object \n",
      " 4   departement_residence           368928 non-null  object \n",
      " 5   libelle_departement             365904 non-null  object \n",
      " 6   population_insee                362880 non-null  float64\n",
      " 7   classe_age                      368928 non-null  object \n",
      " 8   libelle_classe_age              368928 non-null  object \n",
      " 9   type_vaccin                     368928 non-null  object \n",
      " 10  effectif_1_inj                  170557 non-null  float64\n",
      " 11  effectif_termine                162210 non-null  float64\n",
      " 12  effectif_cumu_1_inj             235771 non-null  float64\n",
      " 13  effectif_cumu_termine           219338 non-null  float64\n",
      " 14  taux_1_inj                      166595 non-null  float64\n",
      " 15  taux_termine                    158434 non-null  float64\n",
      " 16  taux_cumu_1_inj                 231167 non-null  float64\n",
      " 17  taux_cumu_termine               214964 non-null  float64\n",
      " 18  date                            368928 non-null  object \n",
      " 19  effectif_rappel                 17053 non-null   float64\n",
      " 20  effectif_cumu_rappel            18327 non-null   float64\n",
      " 21  effectif_rappel_parmi_eligible  16363 non-null   float64\n",
      " 22  effectif_eligible_au_rappel     84292 non-null   float64\n",
      " 23  taux_rappel                     16709 non-null   float64\n",
      " 24  taux_cumu_rappel                17945 non-null   float64\n",
      " 25  taux_cumu_rappeleli             16363 non-null   float64\n",
      "dtypes: float64(16), object(10)\n",
      "memory usage: 73.2+ MB\n"
     ]
    }
   ],
   "source": [
    "df.info()"
   ]
  },
  {
   "cell_type": "code",
   "execution_count": 13,
   "metadata": {},
   "outputs": [
    {
     "data": {
      "text/html": [
       "<div>\n",
       "<style scoped>\n",
       "    .dataframe tbody tr th:only-of-type {\n",
       "        vertical-align: middle;\n",
       "    }\n",
       "\n",
       "    .dataframe tbody tr th {\n",
       "        vertical-align: top;\n",
       "    }\n",
       "\n",
       "    .dataframe thead th {\n",
       "        text-align: right;\n",
       "    }\n",
       "</style>\n",
       "<table border=\"1\" class=\"dataframe\">\n",
       "  <thead>\n",
       "    <tr style=\"text-align: right;\">\n",
       "      <th></th>\n",
       "      <th>0</th>\n",
       "      <th>1</th>\n",
       "      <th>2</th>\n",
       "      <th>3</th>\n",
       "      <th>4</th>\n",
       "      <th>5</th>\n",
       "      <th>6</th>\n",
       "      <th>7</th>\n",
       "      <th>8</th>\n",
       "      <th>9</th>\n",
       "    </tr>\n",
       "  </thead>\n",
       "  <tbody>\n",
       "    <tr>\n",
       "      <th>date_reference</th>\n",
       "      <td>2022-01-09</td>\n",
       "      <td>2022-01-09</td>\n",
       "      <td>2022-01-09</td>\n",
       "      <td>2022-01-09</td>\n",
       "      <td>2022-01-09</td>\n",
       "      <td>2022-01-09</td>\n",
       "      <td>2022-01-09</td>\n",
       "      <td>2022-01-09</td>\n",
       "      <td>2022-01-09</td>\n",
       "      <td>2022-01-09</td>\n",
       "    </tr>\n",
       "    <tr>\n",
       "      <th>semaine_injection</th>\n",
       "      <td>2020-52</td>\n",
       "      <td>2020-52</td>\n",
       "      <td>2020-52</td>\n",
       "      <td>2020-52</td>\n",
       "      <td>2020-52</td>\n",
       "      <td>2020-52</td>\n",
       "      <td>2020-52</td>\n",
       "      <td>2020-52</td>\n",
       "      <td>2020-52</td>\n",
       "      <td>2020-52</td>\n",
       "    </tr>\n",
       "    <tr>\n",
       "      <th>region_residence</th>\n",
       "      <td>1</td>\n",
       "      <td>1</td>\n",
       "      <td>1</td>\n",
       "      <td>1</td>\n",
       "      <td>1</td>\n",
       "      <td>1</td>\n",
       "      <td>1</td>\n",
       "      <td>1</td>\n",
       "      <td>1</td>\n",
       "      <td>1</td>\n",
       "    </tr>\n",
       "    <tr>\n",
       "      <th>libelle_region</th>\n",
       "      <td>Guadeloupe</td>\n",
       "      <td>Guadeloupe</td>\n",
       "      <td>Guadeloupe</td>\n",
       "      <td>Guadeloupe</td>\n",
       "      <td>Guadeloupe</td>\n",
       "      <td>Guadeloupe</td>\n",
       "      <td>Guadeloupe</td>\n",
       "      <td>Guadeloupe</td>\n",
       "      <td>Guadeloupe</td>\n",
       "      <td>Guadeloupe</td>\n",
       "    </tr>\n",
       "    <tr>\n",
       "      <th>departement_residence</th>\n",
       "      <td>Tout département</td>\n",
       "      <td>Tout département</td>\n",
       "      <td>Tout département</td>\n",
       "      <td>Tout département</td>\n",
       "      <td>Tout département</td>\n",
       "      <td>Tout département</td>\n",
       "      <td>Tout département</td>\n",
       "      <td>Tout département</td>\n",
       "      <td>Tout département</td>\n",
       "      <td>Tout département</td>\n",
       "    </tr>\n",
       "    <tr>\n",
       "      <th>libelle_departement</th>\n",
       "      <td>FRANCE</td>\n",
       "      <td>FRANCE</td>\n",
       "      <td>FRANCE</td>\n",
       "      <td>FRANCE</td>\n",
       "      <td>FRANCE</td>\n",
       "      <td>FRANCE</td>\n",
       "      <td>FRANCE</td>\n",
       "      <td>FRANCE</td>\n",
       "      <td>FRANCE</td>\n",
       "      <td>FRANCE</td>\n",
       "    </tr>\n",
       "    <tr>\n",
       "      <th>population_insee</th>\n",
       "      <td>50545.0</td>\n",
       "      <td>50545.0</td>\n",
       "      <td>50545.0</td>\n",
       "      <td>50545.0</td>\n",
       "      <td>50545.0</td>\n",
       "      <td>50545.0</td>\n",
       "      <td>31882.0</td>\n",
       "      <td>31882.0</td>\n",
       "      <td>31882.0</td>\n",
       "      <td>31882.0</td>\n",
       "    </tr>\n",
       "    <tr>\n",
       "      <th>classe_age</th>\n",
       "      <td>00-11</td>\n",
       "      <td>00-11</td>\n",
       "      <td>00-11</td>\n",
       "      <td>00-11</td>\n",
       "      <td>00-11</td>\n",
       "      <td>00-11</td>\n",
       "      <td>12-17</td>\n",
       "      <td>12-17</td>\n",
       "      <td>12-17</td>\n",
       "      <td>12-17</td>\n",
       "    </tr>\n",
       "    <tr>\n",
       "      <th>libelle_classe_age</th>\n",
       "      <td>de 0 à 11 ans</td>\n",
       "      <td>de 0 à 11 ans</td>\n",
       "      <td>de 0 à 11 ans</td>\n",
       "      <td>de 0 à 11 ans</td>\n",
       "      <td>de 0 à 11 ans</td>\n",
       "      <td>de 0 à 11 ans</td>\n",
       "      <td>de 12 à 17 ans</td>\n",
       "      <td>de 12 à 17 ans</td>\n",
       "      <td>de 12 à 17 ans</td>\n",
       "      <td>de 12 à 17 ans</td>\n",
       "    </tr>\n",
       "    <tr>\n",
       "      <th>type_vaccin</th>\n",
       "      <td>COMIRNATY Pfizer-BioNTech</td>\n",
       "      <td>COVID-19 Vaccine Moderna</td>\n",
       "      <td>VAXZEVRIA AstraZeneca</td>\n",
       "      <td>COVID-19 Vaccine Janssen</td>\n",
       "      <td>COMIRNATY Pfizer-BioNTech pédiatrique</td>\n",
       "      <td>Tout vaccin</td>\n",
       "      <td>COMIRNATY Pfizer-BioNTech</td>\n",
       "      <td>COVID-19 Vaccine Moderna</td>\n",
       "      <td>VAXZEVRIA AstraZeneca</td>\n",
       "      <td>COVID-19 Vaccine Janssen</td>\n",
       "    </tr>\n",
       "    <tr>\n",
       "      <th>effectif_1_inj</th>\n",
       "      <td>NaN</td>\n",
       "      <td>NaN</td>\n",
       "      <td>NaN</td>\n",
       "      <td>NaN</td>\n",
       "      <td>NaN</td>\n",
       "      <td>NaN</td>\n",
       "      <td>NaN</td>\n",
       "      <td>NaN</td>\n",
       "      <td>NaN</td>\n",
       "      <td>NaN</td>\n",
       "    </tr>\n",
       "    <tr>\n",
       "      <th>effectif_termine</th>\n",
       "      <td>NaN</td>\n",
       "      <td>NaN</td>\n",
       "      <td>NaN</td>\n",
       "      <td>NaN</td>\n",
       "      <td>NaN</td>\n",
       "      <td>NaN</td>\n",
       "      <td>NaN</td>\n",
       "      <td>NaN</td>\n",
       "      <td>NaN</td>\n",
       "      <td>NaN</td>\n",
       "    </tr>\n",
       "    <tr>\n",
       "      <th>effectif_cumu_1_inj</th>\n",
       "      <td>NaN</td>\n",
       "      <td>NaN</td>\n",
       "      <td>NaN</td>\n",
       "      <td>NaN</td>\n",
       "      <td>NaN</td>\n",
       "      <td>NaN</td>\n",
       "      <td>NaN</td>\n",
       "      <td>NaN</td>\n",
       "      <td>NaN</td>\n",
       "      <td>NaN</td>\n",
       "    </tr>\n",
       "    <tr>\n",
       "      <th>effectif_cumu_termine</th>\n",
       "      <td>NaN</td>\n",
       "      <td>NaN</td>\n",
       "      <td>NaN</td>\n",
       "      <td>NaN</td>\n",
       "      <td>NaN</td>\n",
       "      <td>NaN</td>\n",
       "      <td>NaN</td>\n",
       "      <td>NaN</td>\n",
       "      <td>NaN</td>\n",
       "      <td>NaN</td>\n",
       "    </tr>\n",
       "    <tr>\n",
       "      <th>taux_1_inj</th>\n",
       "      <td>NaN</td>\n",
       "      <td>NaN</td>\n",
       "      <td>NaN</td>\n",
       "      <td>NaN</td>\n",
       "      <td>NaN</td>\n",
       "      <td>NaN</td>\n",
       "      <td>NaN</td>\n",
       "      <td>NaN</td>\n",
       "      <td>NaN</td>\n",
       "      <td>NaN</td>\n",
       "    </tr>\n",
       "    <tr>\n",
       "      <th>taux_termine</th>\n",
       "      <td>NaN</td>\n",
       "      <td>NaN</td>\n",
       "      <td>NaN</td>\n",
       "      <td>NaN</td>\n",
       "      <td>NaN</td>\n",
       "      <td>NaN</td>\n",
       "      <td>NaN</td>\n",
       "      <td>NaN</td>\n",
       "      <td>NaN</td>\n",
       "      <td>NaN</td>\n",
       "    </tr>\n",
       "    <tr>\n",
       "      <th>taux_cumu_1_inj</th>\n",
       "      <td>NaN</td>\n",
       "      <td>NaN</td>\n",
       "      <td>NaN</td>\n",
       "      <td>NaN</td>\n",
       "      <td>NaN</td>\n",
       "      <td>NaN</td>\n",
       "      <td>NaN</td>\n",
       "      <td>NaN</td>\n",
       "      <td>NaN</td>\n",
       "      <td>NaN</td>\n",
       "    </tr>\n",
       "    <tr>\n",
       "      <th>taux_cumu_termine</th>\n",
       "      <td>NaN</td>\n",
       "      <td>NaN</td>\n",
       "      <td>NaN</td>\n",
       "      <td>NaN</td>\n",
       "      <td>NaN</td>\n",
       "      <td>NaN</td>\n",
       "      <td>NaN</td>\n",
       "      <td>NaN</td>\n",
       "      <td>NaN</td>\n",
       "      <td>NaN</td>\n",
       "    </tr>\n",
       "    <tr>\n",
       "      <th>date</th>\n",
       "      <td>2021-01-03</td>\n",
       "      <td>2021-01-03</td>\n",
       "      <td>2021-01-03</td>\n",
       "      <td>2021-01-03</td>\n",
       "      <td>2021-01-03</td>\n",
       "      <td>2021-01-03</td>\n",
       "      <td>2021-01-03</td>\n",
       "      <td>2021-01-03</td>\n",
       "      <td>2021-01-03</td>\n",
       "      <td>2021-01-03</td>\n",
       "    </tr>\n",
       "    <tr>\n",
       "      <th>effectif_rappel</th>\n",
       "      <td>NaN</td>\n",
       "      <td>NaN</td>\n",
       "      <td>NaN</td>\n",
       "      <td>NaN</td>\n",
       "      <td>NaN</td>\n",
       "      <td>NaN</td>\n",
       "      <td>NaN</td>\n",
       "      <td>NaN</td>\n",
       "      <td>NaN</td>\n",
       "      <td>NaN</td>\n",
       "    </tr>\n",
       "    <tr>\n",
       "      <th>effectif_cumu_rappel</th>\n",
       "      <td>NaN</td>\n",
       "      <td>NaN</td>\n",
       "      <td>NaN</td>\n",
       "      <td>NaN</td>\n",
       "      <td>NaN</td>\n",
       "      <td>NaN</td>\n",
       "      <td>NaN</td>\n",
       "      <td>NaN</td>\n",
       "      <td>NaN</td>\n",
       "      <td>NaN</td>\n",
       "    </tr>\n",
       "    <tr>\n",
       "      <th>effectif_rappel_parmi_eligible</th>\n",
       "      <td>NaN</td>\n",
       "      <td>NaN</td>\n",
       "      <td>NaN</td>\n",
       "      <td>NaN</td>\n",
       "      <td>NaN</td>\n",
       "      <td>NaN</td>\n",
       "      <td>NaN</td>\n",
       "      <td>NaN</td>\n",
       "      <td>NaN</td>\n",
       "      <td>NaN</td>\n",
       "    </tr>\n",
       "    <tr>\n",
       "      <th>effectif_eligible_au_rappel</th>\n",
       "      <td>NaN</td>\n",
       "      <td>NaN</td>\n",
       "      <td>NaN</td>\n",
       "      <td>NaN</td>\n",
       "      <td>NaN</td>\n",
       "      <td>NaN</td>\n",
       "      <td>NaN</td>\n",
       "      <td>NaN</td>\n",
       "      <td>NaN</td>\n",
       "      <td>NaN</td>\n",
       "    </tr>\n",
       "    <tr>\n",
       "      <th>taux_rappel</th>\n",
       "      <td>NaN</td>\n",
       "      <td>NaN</td>\n",
       "      <td>NaN</td>\n",
       "      <td>NaN</td>\n",
       "      <td>NaN</td>\n",
       "      <td>NaN</td>\n",
       "      <td>NaN</td>\n",
       "      <td>NaN</td>\n",
       "      <td>NaN</td>\n",
       "      <td>NaN</td>\n",
       "    </tr>\n",
       "    <tr>\n",
       "      <th>taux_cumu_rappel</th>\n",
       "      <td>NaN</td>\n",
       "      <td>NaN</td>\n",
       "      <td>NaN</td>\n",
       "      <td>NaN</td>\n",
       "      <td>NaN</td>\n",
       "      <td>NaN</td>\n",
       "      <td>NaN</td>\n",
       "      <td>NaN</td>\n",
       "      <td>NaN</td>\n",
       "      <td>NaN</td>\n",
       "    </tr>\n",
       "    <tr>\n",
       "      <th>taux_cumu_rappeleli</th>\n",
       "      <td>NaN</td>\n",
       "      <td>NaN</td>\n",
       "      <td>NaN</td>\n",
       "      <td>NaN</td>\n",
       "      <td>NaN</td>\n",
       "      <td>NaN</td>\n",
       "      <td>NaN</td>\n",
       "      <td>NaN</td>\n",
       "      <td>NaN</td>\n",
       "      <td>NaN</td>\n",
       "    </tr>\n",
       "  </tbody>\n",
       "</table>\n",
       "</div>"
      ],
      "text/plain": [
       "                                                        0  \\\n",
       "date_reference                                 2022-01-09   \n",
       "semaine_injection                                 2020-52   \n",
       "region_residence                                        1   \n",
       "libelle_region                                 Guadeloupe   \n",
       "departement_residence                    Tout département   \n",
       "libelle_departement                                FRANCE   \n",
       "population_insee                                  50545.0   \n",
       "classe_age                                          00-11   \n",
       "libelle_classe_age                          de 0 à 11 ans   \n",
       "type_vaccin                     COMIRNATY Pfizer-BioNTech   \n",
       "effectif_1_inj                                        NaN   \n",
       "effectif_termine                                      NaN   \n",
       "effectif_cumu_1_inj                                   NaN   \n",
       "effectif_cumu_termine                                 NaN   \n",
       "taux_1_inj                                            NaN   \n",
       "taux_termine                                          NaN   \n",
       "taux_cumu_1_inj                                       NaN   \n",
       "taux_cumu_termine                                     NaN   \n",
       "date                                           2021-01-03   \n",
       "effectif_rappel                                       NaN   \n",
       "effectif_cumu_rappel                                  NaN   \n",
       "effectif_rappel_parmi_eligible                        NaN   \n",
       "effectif_eligible_au_rappel                           NaN   \n",
       "taux_rappel                                           NaN   \n",
       "taux_cumu_rappel                                      NaN   \n",
       "taux_cumu_rappeleli                                   NaN   \n",
       "\n",
       "                                                       1  \\\n",
       "date_reference                                2022-01-09   \n",
       "semaine_injection                                2020-52   \n",
       "region_residence                                       1   \n",
       "libelle_region                                Guadeloupe   \n",
       "departement_residence                   Tout département   \n",
       "libelle_departement                               FRANCE   \n",
       "population_insee                                 50545.0   \n",
       "classe_age                                         00-11   \n",
       "libelle_classe_age                         de 0 à 11 ans   \n",
       "type_vaccin                     COVID-19 Vaccine Moderna   \n",
       "effectif_1_inj                                       NaN   \n",
       "effectif_termine                                     NaN   \n",
       "effectif_cumu_1_inj                                  NaN   \n",
       "effectif_cumu_termine                                NaN   \n",
       "taux_1_inj                                           NaN   \n",
       "taux_termine                                         NaN   \n",
       "taux_cumu_1_inj                                      NaN   \n",
       "taux_cumu_termine                                    NaN   \n",
       "date                                          2021-01-03   \n",
       "effectif_rappel                                      NaN   \n",
       "effectif_cumu_rappel                                 NaN   \n",
       "effectif_rappel_parmi_eligible                       NaN   \n",
       "effectif_eligible_au_rappel                          NaN   \n",
       "taux_rappel                                          NaN   \n",
       "taux_cumu_rappel                                     NaN   \n",
       "taux_cumu_rappeleli                                  NaN   \n",
       "\n",
       "                                                    2  \\\n",
       "date_reference                             2022-01-09   \n",
       "semaine_injection                             2020-52   \n",
       "region_residence                                    1   \n",
       "libelle_region                             Guadeloupe   \n",
       "departement_residence                Tout département   \n",
       "libelle_departement                            FRANCE   \n",
       "population_insee                              50545.0   \n",
       "classe_age                                      00-11   \n",
       "libelle_classe_age                      de 0 à 11 ans   \n",
       "type_vaccin                     VAXZEVRIA AstraZeneca   \n",
       "effectif_1_inj                                    NaN   \n",
       "effectif_termine                                  NaN   \n",
       "effectif_cumu_1_inj                               NaN   \n",
       "effectif_cumu_termine                             NaN   \n",
       "taux_1_inj                                        NaN   \n",
       "taux_termine                                      NaN   \n",
       "taux_cumu_1_inj                                   NaN   \n",
       "taux_cumu_termine                                 NaN   \n",
       "date                                       2021-01-03   \n",
       "effectif_rappel                                   NaN   \n",
       "effectif_cumu_rappel                              NaN   \n",
       "effectif_rappel_parmi_eligible                    NaN   \n",
       "effectif_eligible_au_rappel                       NaN   \n",
       "taux_rappel                                       NaN   \n",
       "taux_cumu_rappel                                  NaN   \n",
       "taux_cumu_rappeleli                               NaN   \n",
       "\n",
       "                                                       3  \\\n",
       "date_reference                                2022-01-09   \n",
       "semaine_injection                                2020-52   \n",
       "region_residence                                       1   \n",
       "libelle_region                                Guadeloupe   \n",
       "departement_residence                   Tout département   \n",
       "libelle_departement                               FRANCE   \n",
       "population_insee                                 50545.0   \n",
       "classe_age                                         00-11   \n",
       "libelle_classe_age                         de 0 à 11 ans   \n",
       "type_vaccin                     COVID-19 Vaccine Janssen   \n",
       "effectif_1_inj                                       NaN   \n",
       "effectif_termine                                     NaN   \n",
       "effectif_cumu_1_inj                                  NaN   \n",
       "effectif_cumu_termine                                NaN   \n",
       "taux_1_inj                                           NaN   \n",
       "taux_termine                                         NaN   \n",
       "taux_cumu_1_inj                                      NaN   \n",
       "taux_cumu_termine                                    NaN   \n",
       "date                                          2021-01-03   \n",
       "effectif_rappel                                      NaN   \n",
       "effectif_cumu_rappel                                 NaN   \n",
       "effectif_rappel_parmi_eligible                       NaN   \n",
       "effectif_eligible_au_rappel                          NaN   \n",
       "taux_rappel                                          NaN   \n",
       "taux_cumu_rappel                                     NaN   \n",
       "taux_cumu_rappeleli                                  NaN   \n",
       "\n",
       "                                                                    4  \\\n",
       "date_reference                                             2022-01-09   \n",
       "semaine_injection                                             2020-52   \n",
       "region_residence                                                    1   \n",
       "libelle_region                                             Guadeloupe   \n",
       "departement_residence                                Tout département   \n",
       "libelle_departement                                            FRANCE   \n",
       "population_insee                                              50545.0   \n",
       "classe_age                                                      00-11   \n",
       "libelle_classe_age                                      de 0 à 11 ans   \n",
       "type_vaccin                     COMIRNATY Pfizer-BioNTech pédiatrique   \n",
       "effectif_1_inj                                                    NaN   \n",
       "effectif_termine                                                  NaN   \n",
       "effectif_cumu_1_inj                                               NaN   \n",
       "effectif_cumu_termine                                             NaN   \n",
       "taux_1_inj                                                        NaN   \n",
       "taux_termine                                                      NaN   \n",
       "taux_cumu_1_inj                                                   NaN   \n",
       "taux_cumu_termine                                                 NaN   \n",
       "date                                                       2021-01-03   \n",
       "effectif_rappel                                                   NaN   \n",
       "effectif_cumu_rappel                                              NaN   \n",
       "effectif_rappel_parmi_eligible                                    NaN   \n",
       "effectif_eligible_au_rappel                                       NaN   \n",
       "taux_rappel                                                       NaN   \n",
       "taux_cumu_rappel                                                  NaN   \n",
       "taux_cumu_rappeleli                                               NaN   \n",
       "\n",
       "                                               5                          6  \\\n",
       "date_reference                        2022-01-09                 2022-01-09   \n",
       "semaine_injection                        2020-52                    2020-52   \n",
       "region_residence                               1                          1   \n",
       "libelle_region                        Guadeloupe                 Guadeloupe   \n",
       "departement_residence           Tout département           Tout département   \n",
       "libelle_departement                       FRANCE                     FRANCE   \n",
       "population_insee                         50545.0                    31882.0   \n",
       "classe_age                                 00-11                      12-17   \n",
       "libelle_classe_age                 de 0 à 11 ans             de 12 à 17 ans   \n",
       "type_vaccin                          Tout vaccin  COMIRNATY Pfizer-BioNTech   \n",
       "effectif_1_inj                               NaN                        NaN   \n",
       "effectif_termine                             NaN                        NaN   \n",
       "effectif_cumu_1_inj                          NaN                        NaN   \n",
       "effectif_cumu_termine                        NaN                        NaN   \n",
       "taux_1_inj                                   NaN                        NaN   \n",
       "taux_termine                                 NaN                        NaN   \n",
       "taux_cumu_1_inj                              NaN                        NaN   \n",
       "taux_cumu_termine                            NaN                        NaN   \n",
       "date                                  2021-01-03                 2021-01-03   \n",
       "effectif_rappel                              NaN                        NaN   \n",
       "effectif_cumu_rappel                         NaN                        NaN   \n",
       "effectif_rappel_parmi_eligible               NaN                        NaN   \n",
       "effectif_eligible_au_rappel                  NaN                        NaN   \n",
       "taux_rappel                                  NaN                        NaN   \n",
       "taux_cumu_rappel                             NaN                        NaN   \n",
       "taux_cumu_rappeleli                          NaN                        NaN   \n",
       "\n",
       "                                                       7  \\\n",
       "date_reference                                2022-01-09   \n",
       "semaine_injection                                2020-52   \n",
       "region_residence                                       1   \n",
       "libelle_region                                Guadeloupe   \n",
       "departement_residence                   Tout département   \n",
       "libelle_departement                               FRANCE   \n",
       "population_insee                                 31882.0   \n",
       "classe_age                                         12-17   \n",
       "libelle_classe_age                        de 12 à 17 ans   \n",
       "type_vaccin                     COVID-19 Vaccine Moderna   \n",
       "effectif_1_inj                                       NaN   \n",
       "effectif_termine                                     NaN   \n",
       "effectif_cumu_1_inj                                  NaN   \n",
       "effectif_cumu_termine                                NaN   \n",
       "taux_1_inj                                           NaN   \n",
       "taux_termine                                         NaN   \n",
       "taux_cumu_1_inj                                      NaN   \n",
       "taux_cumu_termine                                    NaN   \n",
       "date                                          2021-01-03   \n",
       "effectif_rappel                                      NaN   \n",
       "effectif_cumu_rappel                                 NaN   \n",
       "effectif_rappel_parmi_eligible                       NaN   \n",
       "effectif_eligible_au_rappel                          NaN   \n",
       "taux_rappel                                          NaN   \n",
       "taux_cumu_rappel                                     NaN   \n",
       "taux_cumu_rappeleli                                  NaN   \n",
       "\n",
       "                                                    8  \\\n",
       "date_reference                             2022-01-09   \n",
       "semaine_injection                             2020-52   \n",
       "region_residence                                    1   \n",
       "libelle_region                             Guadeloupe   \n",
       "departement_residence                Tout département   \n",
       "libelle_departement                            FRANCE   \n",
       "population_insee                              31882.0   \n",
       "classe_age                                      12-17   \n",
       "libelle_classe_age                     de 12 à 17 ans   \n",
       "type_vaccin                     VAXZEVRIA AstraZeneca   \n",
       "effectif_1_inj                                    NaN   \n",
       "effectif_termine                                  NaN   \n",
       "effectif_cumu_1_inj                               NaN   \n",
       "effectif_cumu_termine                             NaN   \n",
       "taux_1_inj                                        NaN   \n",
       "taux_termine                                      NaN   \n",
       "taux_cumu_1_inj                                   NaN   \n",
       "taux_cumu_termine                                 NaN   \n",
       "date                                       2021-01-03   \n",
       "effectif_rappel                                   NaN   \n",
       "effectif_cumu_rappel                              NaN   \n",
       "effectif_rappel_parmi_eligible                    NaN   \n",
       "effectif_eligible_au_rappel                       NaN   \n",
       "taux_rappel                                       NaN   \n",
       "taux_cumu_rappel                                  NaN   \n",
       "taux_cumu_rappeleli                               NaN   \n",
       "\n",
       "                                                       9  \n",
       "date_reference                                2022-01-09  \n",
       "semaine_injection                                2020-52  \n",
       "region_residence                                       1  \n",
       "libelle_region                                Guadeloupe  \n",
       "departement_residence                   Tout département  \n",
       "libelle_departement                               FRANCE  \n",
       "population_insee                                 31882.0  \n",
       "classe_age                                         12-17  \n",
       "libelle_classe_age                        de 12 à 17 ans  \n",
       "type_vaccin                     COVID-19 Vaccine Janssen  \n",
       "effectif_1_inj                                       NaN  \n",
       "effectif_termine                                     NaN  \n",
       "effectif_cumu_1_inj                                  NaN  \n",
       "effectif_cumu_termine                                NaN  \n",
       "taux_1_inj                                           NaN  \n",
       "taux_termine                                         NaN  \n",
       "taux_cumu_1_inj                                      NaN  \n",
       "taux_cumu_termine                                    NaN  \n",
       "date                                          2021-01-03  \n",
       "effectif_rappel                                      NaN  \n",
       "effectif_cumu_rappel                                 NaN  \n",
       "effectif_rappel_parmi_eligible                       NaN  \n",
       "effectif_eligible_au_rappel                          NaN  \n",
       "taux_rappel                                          NaN  \n",
       "taux_cumu_rappel                                     NaN  \n",
       "taux_cumu_rappeleli                                  NaN  "
      ]
     },
     "execution_count": 13,
     "metadata": {},
     "output_type": "execute_result"
    }
   ],
   "source": [
    "df.head(10).T"
   ]
  },
  {
   "cell_type": "code",
   "execution_count": 63,
   "metadata": {},
   "outputs": [
    {
     "data": {
      "text/html": [
       "<div>\n",
       "<style scoped>\n",
       "    .dataframe tbody tr th:only-of-type {\n",
       "        vertical-align: middle;\n",
       "    }\n",
       "\n",
       "    .dataframe tbody tr th {\n",
       "        vertical-align: top;\n",
       "    }\n",
       "\n",
       "    .dataframe thead th {\n",
       "        text-align: right;\n",
       "    }\n",
       "</style>\n",
       "<table border=\"1\" class=\"dataframe\">\n",
       "  <thead>\n",
       "    <tr style=\"text-align: right;\">\n",
       "      <th></th>\n",
       "      <th>count</th>\n",
       "      <th>mean</th>\n",
       "      <th>std</th>\n",
       "      <th>min</th>\n",
       "      <th>25%</th>\n",
       "      <th>50%</th>\n",
       "      <th>75%</th>\n",
       "      <th>max</th>\n",
       "    </tr>\n",
       "  </thead>\n",
       "  <tbody>\n",
       "    <tr>\n",
       "      <th>population_insee</th>\n",
       "      <td>362880.0</td>\n",
       "      <td>373817.738889</td>\n",
       "      <td>2.272600e+06</td>\n",
       "      <td>2517.000</td>\n",
       "      <td>40108.500</td>\n",
       "      <td>77802.500</td>\n",
       "      <td>204474.750</td>\n",
       "      <td>6.728719e+07</td>\n",
       "    </tr>\n",
       "    <tr>\n",
       "      <th>effectif_1_inj</th>\n",
       "      <td>170557.0</td>\n",
       "      <td>3768.615653</td>\n",
       "      <td>3.493032e+04</td>\n",
       "      <td>10.000</td>\n",
       "      <td>80.000</td>\n",
       "      <td>310.000</td>\n",
       "      <td>1370.000</td>\n",
       "      <td>2.804760e+06</td>\n",
       "    </tr>\n",
       "    <tr>\n",
       "      <th>effectif_termine</th>\n",
       "      <td>162210.0</td>\n",
       "      <td>3865.105049</td>\n",
       "      <td>3.680896e+04</td>\n",
       "      <td>10.000</td>\n",
       "      <td>80.000</td>\n",
       "      <td>310.000</td>\n",
       "      <td>1420.000</td>\n",
       "      <td>3.179680e+06</td>\n",
       "    </tr>\n",
       "    <tr>\n",
       "      <th>effectif_cumu_1_inj</th>\n",
       "      <td>235771.0</td>\n",
       "      <td>88276.694080</td>\n",
       "      <td>8.253663e+05</td>\n",
       "      <td>10.000</td>\n",
       "      <td>720.000</td>\n",
       "      <td>6420.000</td>\n",
       "      <td>35810.000</td>\n",
       "      <td>5.356999e+07</td>\n",
       "    </tr>\n",
       "    <tr>\n",
       "      <th>effectif_cumu_termine</th>\n",
       "      <td>219338.0</td>\n",
       "      <td>80784.475376</td>\n",
       "      <td>7.850069e+05</td>\n",
       "      <td>10.000</td>\n",
       "      <td>430.000</td>\n",
       "      <td>4880.000</td>\n",
       "      <td>30990.000</td>\n",
       "      <td>5.225311e+07</td>\n",
       "    </tr>\n",
       "    <tr>\n",
       "      <th>taux_1_inj</th>\n",
       "      <td>166595.0</td>\n",
       "      <td>0.009862</td>\n",
       "      <td>1.674884e-02</td>\n",
       "      <td>0.000</td>\n",
       "      <td>0.001</td>\n",
       "      <td>0.003</td>\n",
       "      <td>0.010</td>\n",
       "      <td>1.610000e-01</td>\n",
       "    </tr>\n",
       "    <tr>\n",
       "      <th>taux_termine</th>\n",
       "      <td>158434.0</td>\n",
       "      <td>0.010121</td>\n",
       "      <td>1.682543e-02</td>\n",
       "      <td>0.000</td>\n",
       "      <td>0.001</td>\n",
       "      <td>0.003</td>\n",
       "      <td>0.010</td>\n",
       "      <td>1.300000e-01</td>\n",
       "    </tr>\n",
       "    <tr>\n",
       "      <th>taux_cumu_1_inj</th>\n",
       "      <td>231167.0</td>\n",
       "      <td>0.230360</td>\n",
       "      <td>3.045572e-01</td>\n",
       "      <td>0.000</td>\n",
       "      <td>0.009</td>\n",
       "      <td>0.059</td>\n",
       "      <td>0.450</td>\n",
       "      <td>1.000000e+00</td>\n",
       "    </tr>\n",
       "    <tr>\n",
       "      <th>taux_cumu_termine</th>\n",
       "      <td>214964.0</td>\n",
       "      <td>0.211592</td>\n",
       "      <td>2.956774e-01</td>\n",
       "      <td>0.000</td>\n",
       "      <td>0.004</td>\n",
       "      <td>0.048</td>\n",
       "      <td>0.362</td>\n",
       "      <td>1.000000e+00</td>\n",
       "    </tr>\n",
       "    <tr>\n",
       "      <th>effectif_rappel</th>\n",
       "      <td>17053.0</td>\n",
       "      <td>11124.443206</td>\n",
       "      <td>8.576251e+04</td>\n",
       "      <td>10.000</td>\n",
       "      <td>230.000</td>\n",
       "      <td>1380.000</td>\n",
       "      <td>5090.000</td>\n",
       "      <td>4.713440e+06</td>\n",
       "    </tr>\n",
       "    <tr>\n",
       "      <th>effectif_cumu_rappel</th>\n",
       "      <td>18327.0</td>\n",
       "      <td>60415.716156</td>\n",
       "      <td>5.159544e+05</td>\n",
       "      <td>10.000</td>\n",
       "      <td>360.000</td>\n",
       "      <td>4190.000</td>\n",
       "      <td>26510.000</td>\n",
       "      <td>3.161773e+07</td>\n",
       "    </tr>\n",
       "    <tr>\n",
       "      <th>effectif_rappel_parmi_eligible</th>\n",
       "      <td>16363.0</td>\n",
       "      <td>66960.239565</td>\n",
       "      <td>5.402691e+05</td>\n",
       "      <td>10.000</td>\n",
       "      <td>650.000</td>\n",
       "      <td>6320.000</td>\n",
       "      <td>31145.000</td>\n",
       "      <td>3.116071e+07</td>\n",
       "    </tr>\n",
       "    <tr>\n",
       "      <th>effectif_eligible_au_rappel</th>\n",
       "      <td>84292.0</td>\n",
       "      <td>77499.854553</td>\n",
       "      <td>6.614132e+05</td>\n",
       "      <td>10.000</td>\n",
       "      <td>1360.000</td>\n",
       "      <td>7540.000</td>\n",
       "      <td>34402.500</td>\n",
       "      <td>4.367379e+07</td>\n",
       "    </tr>\n",
       "    <tr>\n",
       "      <th>taux_rappel</th>\n",
       "      <td>16709.0</td>\n",
       "      <td>0.028473</td>\n",
       "      <td>3.214593e-02</td>\n",
       "      <td>0.000</td>\n",
       "      <td>0.003</td>\n",
       "      <td>0.014</td>\n",
       "      <td>0.047</td>\n",
       "      <td>1.570000e-01</td>\n",
       "    </tr>\n",
       "    <tr>\n",
       "      <th>taux_cumu_rappel</th>\n",
       "      <td>17945.0</td>\n",
       "      <td>0.162571</td>\n",
       "      <td>2.232186e-01</td>\n",
       "      <td>0.000</td>\n",
       "      <td>0.004</td>\n",
       "      <td>0.040</td>\n",
       "      <td>0.266</td>\n",
       "      <td>8.800000e-01</td>\n",
       "    </tr>\n",
       "    <tr>\n",
       "      <th>taux_cumu_rappeleli</th>\n",
       "      <td>16363.0</td>\n",
       "      <td>0.247536</td>\n",
       "      <td>2.748688e-01</td>\n",
       "      <td>0.001</td>\n",
       "      <td>0.022</td>\n",
       "      <td>0.116</td>\n",
       "      <td>0.435</td>\n",
       "      <td>9.340000e-01</td>\n",
       "    </tr>\n",
       "  </tbody>\n",
       "</table>\n",
       "</div>"
      ],
      "text/plain": [
       "                                   count           mean           std  \\\n",
       "population_insee                362880.0  373817.738889  2.272600e+06   \n",
       "effectif_1_inj                  170557.0    3768.615653  3.493032e+04   \n",
       "effectif_termine                162210.0    3865.105049  3.680896e+04   \n",
       "effectif_cumu_1_inj             235771.0   88276.694080  8.253663e+05   \n",
       "effectif_cumu_termine           219338.0   80784.475376  7.850069e+05   \n",
       "taux_1_inj                      166595.0       0.009862  1.674884e-02   \n",
       "taux_termine                    158434.0       0.010121  1.682543e-02   \n",
       "taux_cumu_1_inj                 231167.0       0.230360  3.045572e-01   \n",
       "taux_cumu_termine               214964.0       0.211592  2.956774e-01   \n",
       "effectif_rappel                  17053.0   11124.443206  8.576251e+04   \n",
       "effectif_cumu_rappel             18327.0   60415.716156  5.159544e+05   \n",
       "effectif_rappel_parmi_eligible   16363.0   66960.239565  5.402691e+05   \n",
       "effectif_eligible_au_rappel      84292.0   77499.854553  6.614132e+05   \n",
       "taux_rappel                      16709.0       0.028473  3.214593e-02   \n",
       "taux_cumu_rappel                 17945.0       0.162571  2.232186e-01   \n",
       "taux_cumu_rappeleli              16363.0       0.247536  2.748688e-01   \n",
       "\n",
       "                                     min        25%        50%         75%  \\\n",
       "population_insee                2517.000  40108.500  77802.500  204474.750   \n",
       "effectif_1_inj                    10.000     80.000    310.000    1370.000   \n",
       "effectif_termine                  10.000     80.000    310.000    1420.000   \n",
       "effectif_cumu_1_inj               10.000    720.000   6420.000   35810.000   \n",
       "effectif_cumu_termine             10.000    430.000   4880.000   30990.000   \n",
       "taux_1_inj                         0.000      0.001      0.003       0.010   \n",
       "taux_termine                       0.000      0.001      0.003       0.010   \n",
       "taux_cumu_1_inj                    0.000      0.009      0.059       0.450   \n",
       "taux_cumu_termine                  0.000      0.004      0.048       0.362   \n",
       "effectif_rappel                   10.000    230.000   1380.000    5090.000   \n",
       "effectif_cumu_rappel              10.000    360.000   4190.000   26510.000   \n",
       "effectif_rappel_parmi_eligible    10.000    650.000   6320.000   31145.000   \n",
       "effectif_eligible_au_rappel       10.000   1360.000   7540.000   34402.500   \n",
       "taux_rappel                        0.000      0.003      0.014       0.047   \n",
       "taux_cumu_rappel                   0.000      0.004      0.040       0.266   \n",
       "taux_cumu_rappeleli                0.001      0.022      0.116       0.435   \n",
       "\n",
       "                                         max  \n",
       "population_insee                6.728719e+07  \n",
       "effectif_1_inj                  2.804760e+06  \n",
       "effectif_termine                3.179680e+06  \n",
       "effectif_cumu_1_inj             5.356999e+07  \n",
       "effectif_cumu_termine           5.225311e+07  \n",
       "taux_1_inj                      1.610000e-01  \n",
       "taux_termine                    1.300000e-01  \n",
       "taux_cumu_1_inj                 1.000000e+00  \n",
       "taux_cumu_termine               1.000000e+00  \n",
       "effectif_rappel                 4.713440e+06  \n",
       "effectif_cumu_rappel            3.161773e+07  \n",
       "effectif_rappel_parmi_eligible  3.116071e+07  \n",
       "effectif_eligible_au_rappel     4.367379e+07  \n",
       "taux_rappel                     1.570000e-01  \n",
       "taux_cumu_rappel                8.800000e-01  \n",
       "taux_cumu_rappeleli             9.340000e-01  "
      ]
     },
     "execution_count": 63,
     "metadata": {},
     "output_type": "execute_result"
    }
   ],
   "source": [
    "df.describe().T"
   ]
  },
  {
   "cell_type": "code",
   "execution_count": 22,
   "metadata": {},
   "outputs": [
    {
     "name": "stdout",
     "output_type": "stream",
     "text": [
      "1290.0\n",
      "-1855.0\n",
      "3305.0\n"
     ]
    }
   ],
   "source": [
    "Q1 = df[\"taux_cumu_1_inj\"].quantile(0.25)\n",
    "Q3 = df[\"taux_cumu_1_inj\"].quantile(0.75)\n",
    "IQR = Q3 - Q1\n",
    "print(IQR)\n",
    "\n",
    "IQRmin = Q1 - 1.5 *  IQR\n",
    "print(IQRmin)\n",
    "IQRmax = Q3 + 1.5 * IQR\n",
    "print(IQRmax)"
   ]
  },
  {
   "cell_type": "code",
   "execution_count": 21,
   "metadata": {},
   "outputs": [
    {
     "ename": "TypeError",
     "evalue": "'>' not supported between instances of 'numpy.ndarray' and 'str'",
     "output_type": "error",
     "traceback": [
      "\u001b[1;31m---------------------------------------------------------------------------\u001b[0m",
      "\u001b[1;31mTypeError\u001b[0m                                 Traceback (most recent call last)",
      "Input \u001b[1;32mIn [21]\u001b[0m, in \u001b[0;36m<module>\u001b[1;34m\u001b[0m\n\u001b[1;32m----> 1\u001b[0m \u001b[38;5;28mprint\u001b[39m(\u001b[43mdf\u001b[49m\u001b[43m \u001b[49m\u001b[38;5;241;43m<\u001b[39;49m\u001b[43m \u001b[49m\u001b[43m(\u001b[49m\u001b[43mQ1\u001b[49m\u001b[43m \u001b[49m\u001b[38;5;241;43m-\u001b[39;49m\u001b[43m \u001b[49m\u001b[38;5;241;43m1.5\u001b[39;49m\u001b[43m \u001b[49m\u001b[38;5;241;43m*\u001b[39;49m\u001b[43m  \u001b[49m\u001b[43mIQR\u001b[49m\u001b[43m)\u001b[49m) \u001b[38;5;241m|\u001b[39m (df \u001b[38;5;241m>\u001b[39m (Q3 \u001b[38;5;241m+\u001b[39m \u001b[38;5;241m1.5\u001b[39m \u001b[38;5;241m*\u001b[39m IQR))\n",
      "File \u001b[1;32m~\\miniconda3\\lib\\site-packages\\pandas\\core\\ops\\common.py:69\u001b[0m, in \u001b[0;36m_unpack_zerodim_and_defer.<locals>.new_method\u001b[1;34m(self, other)\u001b[0m\n\u001b[0;32m     65\u001b[0m             \u001b[38;5;28;01mreturn\u001b[39;00m \u001b[38;5;28mNotImplemented\u001b[39m\n\u001b[0;32m     67\u001b[0m other \u001b[38;5;241m=\u001b[39m item_from_zerodim(other)\n\u001b[1;32m---> 69\u001b[0m \u001b[38;5;28;01mreturn\u001b[39;00m \u001b[43mmethod\u001b[49m\u001b[43m(\u001b[49m\u001b[38;5;28;43mself\u001b[39;49m\u001b[43m,\u001b[49m\u001b[43m \u001b[49m\u001b[43mother\u001b[49m\u001b[43m)\u001b[49m\n",
      "File \u001b[1;32m~\\miniconda3\\lib\\site-packages\\pandas\\core\\arraylike.py:40\u001b[0m, in \u001b[0;36mOpsMixin.__lt__\u001b[1;34m(self, other)\u001b[0m\n\u001b[0;32m     38\u001b[0m \u001b[38;5;129m@unpack_zerodim_and_defer\u001b[39m(\u001b[38;5;124m\"\u001b[39m\u001b[38;5;124m__lt__\u001b[39m\u001b[38;5;124m\"\u001b[39m)\n\u001b[0;32m     39\u001b[0m \u001b[38;5;28;01mdef\u001b[39;00m \u001b[38;5;21m__lt__\u001b[39m(\u001b[38;5;28mself\u001b[39m, other):\n\u001b[1;32m---> 40\u001b[0m     \u001b[38;5;28;01mreturn\u001b[39;00m \u001b[38;5;28;43mself\u001b[39;49m\u001b[38;5;241;43m.\u001b[39;49m\u001b[43m_cmp_method\u001b[49m\u001b[43m(\u001b[49m\u001b[43mother\u001b[49m\u001b[43m,\u001b[49m\u001b[43m \u001b[49m\u001b[43moperator\u001b[49m\u001b[38;5;241;43m.\u001b[39;49m\u001b[43mlt\u001b[49m\u001b[43m)\u001b[49m\n",
      "File \u001b[1;32m~\\miniconda3\\lib\\site-packages\\pandas\\core\\frame.py:6854\u001b[0m, in \u001b[0;36mDataFrame._cmp_method\u001b[1;34m(self, other, op)\u001b[0m\n\u001b[0;32m   6851\u001b[0m \u001b[38;5;28mself\u001b[39m, other \u001b[38;5;241m=\u001b[39m ops\u001b[38;5;241m.\u001b[39malign_method_FRAME(\u001b[38;5;28mself\u001b[39m, other, axis, flex\u001b[38;5;241m=\u001b[39m\u001b[38;5;28;01mFalse\u001b[39;00m, level\u001b[38;5;241m=\u001b[39m\u001b[38;5;28;01mNone\u001b[39;00m)\n\u001b[0;32m   6853\u001b[0m \u001b[38;5;66;03m# See GH#4537 for discussion of scalar op behavior\u001b[39;00m\n\u001b[1;32m-> 6854\u001b[0m new_data \u001b[38;5;241m=\u001b[39m \u001b[38;5;28;43mself\u001b[39;49m\u001b[38;5;241;43m.\u001b[39;49m\u001b[43m_dispatch_frame_op\u001b[49m\u001b[43m(\u001b[49m\u001b[43mother\u001b[49m\u001b[43m,\u001b[49m\u001b[43m \u001b[49m\u001b[43mop\u001b[49m\u001b[43m,\u001b[49m\u001b[43m \u001b[49m\u001b[43maxis\u001b[49m\u001b[38;5;241;43m=\u001b[39;49m\u001b[43maxis\u001b[49m\u001b[43m)\u001b[49m\n\u001b[0;32m   6855\u001b[0m \u001b[38;5;28;01mreturn\u001b[39;00m \u001b[38;5;28mself\u001b[39m\u001b[38;5;241m.\u001b[39m_construct_result(new_data)\n",
      "File \u001b[1;32m~\\miniconda3\\lib\\site-packages\\pandas\\core\\frame.py:6893\u001b[0m, in \u001b[0;36mDataFrame._dispatch_frame_op\u001b[1;34m(self, right, func, axis)\u001b[0m\n\u001b[0;32m   6890\u001b[0m \u001b[38;5;28;01mif\u001b[39;00m \u001b[38;5;129;01mnot\u001b[39;00m is_list_like(right):\n\u001b[0;32m   6891\u001b[0m     \u001b[38;5;66;03m# i.e. scalar, faster than checking np.ndim(right) == 0\u001b[39;00m\n\u001b[0;32m   6892\u001b[0m     \u001b[38;5;28;01mwith\u001b[39;00m np\u001b[38;5;241m.\u001b[39merrstate(\u001b[38;5;28mall\u001b[39m\u001b[38;5;241m=\u001b[39m\u001b[38;5;124m\"\u001b[39m\u001b[38;5;124mignore\u001b[39m\u001b[38;5;124m\"\u001b[39m):\n\u001b[1;32m-> 6893\u001b[0m         bm \u001b[38;5;241m=\u001b[39m \u001b[38;5;28;43mself\u001b[39;49m\u001b[38;5;241;43m.\u001b[39;49m\u001b[43m_mgr\u001b[49m\u001b[38;5;241;43m.\u001b[39;49m\u001b[43mapply\u001b[49m\u001b[43m(\u001b[49m\u001b[43marray_op\u001b[49m\u001b[43m,\u001b[49m\u001b[43m \u001b[49m\u001b[43mright\u001b[49m\u001b[38;5;241;43m=\u001b[39;49m\u001b[43mright\u001b[49m\u001b[43m)\u001b[49m\n\u001b[0;32m   6894\u001b[0m     \u001b[38;5;28;01mreturn\u001b[39;00m \u001b[38;5;28mtype\u001b[39m(\u001b[38;5;28mself\u001b[39m)(bm)\n\u001b[0;32m   6896\u001b[0m \u001b[38;5;28;01melif\u001b[39;00m \u001b[38;5;28misinstance\u001b[39m(right, DataFrame):\n",
      "File \u001b[1;32m~\\miniconda3\\lib\\site-packages\\pandas\\core\\internals\\managers.py:325\u001b[0m, in \u001b[0;36mBaseBlockManager.apply\u001b[1;34m(self, f, align_keys, ignore_failures, **kwargs)\u001b[0m\n\u001b[0;32m    323\u001b[0m \u001b[38;5;28;01mtry\u001b[39;00m:\n\u001b[0;32m    324\u001b[0m     \u001b[38;5;28;01mif\u001b[39;00m callable(f):\n\u001b[1;32m--> 325\u001b[0m         applied \u001b[38;5;241m=\u001b[39m b\u001b[38;5;241m.\u001b[39mapply(f, \u001b[38;5;241m*\u001b[39m\u001b[38;5;241m*\u001b[39mkwargs)\n\u001b[0;32m    326\u001b[0m     \u001b[38;5;28;01melse\u001b[39;00m:\n\u001b[0;32m    327\u001b[0m         applied \u001b[38;5;241m=\u001b[39m \u001b[38;5;28mgetattr\u001b[39m(b, f)(\u001b[38;5;241m*\u001b[39m\u001b[38;5;241m*\u001b[39mkwargs)\n",
      "File \u001b[1;32m~\\miniconda3\\lib\\site-packages\\pandas\\core\\internals\\blocks.py:381\u001b[0m, in \u001b[0;36mBlock.apply\u001b[1;34m(self, func, **kwargs)\u001b[0m\n\u001b[0;32m    376\u001b[0m \u001b[38;5;124;03m\"\"\"\u001b[39;00m\n\u001b[0;32m    377\u001b[0m \u001b[38;5;124;03mapply the function to my values; return a block if we are not\u001b[39;00m\n\u001b[0;32m    378\u001b[0m \u001b[38;5;124;03mone\u001b[39;00m\n\u001b[0;32m    379\u001b[0m \u001b[38;5;124;03m\"\"\"\u001b[39;00m\n\u001b[0;32m    380\u001b[0m \u001b[38;5;28;01mwith\u001b[39;00m np\u001b[38;5;241m.\u001b[39merrstate(\u001b[38;5;28mall\u001b[39m\u001b[38;5;241m=\u001b[39m\u001b[38;5;124m\"\u001b[39m\u001b[38;5;124mignore\u001b[39m\u001b[38;5;124m\"\u001b[39m):\n\u001b[1;32m--> 381\u001b[0m     result \u001b[38;5;241m=\u001b[39m func(\u001b[38;5;28mself\u001b[39m\u001b[38;5;241m.\u001b[39mvalues, \u001b[38;5;241m*\u001b[39m\u001b[38;5;241m*\u001b[39mkwargs)\n\u001b[0;32m    383\u001b[0m \u001b[38;5;28;01mreturn\u001b[39;00m \u001b[38;5;28mself\u001b[39m\u001b[38;5;241m.\u001b[39m_split_op_result(result)\n",
      "File \u001b[1;32m~\\miniconda3\\lib\\site-packages\\pandas\\core\\ops\\array_ops.py:284\u001b[0m, in \u001b[0;36mcomparison_op\u001b[1;34m(left, right, op)\u001b[0m\n\u001b[0;32m    281\u001b[0m     \u001b[38;5;28;01mreturn\u001b[39;00m invalid_comparison(lvalues, rvalues, op)\n\u001b[0;32m    283\u001b[0m \u001b[38;5;28;01melif\u001b[39;00m is_object_dtype(lvalues\u001b[38;5;241m.\u001b[39mdtype) \u001b[38;5;129;01mor\u001b[39;00m \u001b[38;5;28misinstance\u001b[39m(rvalues, \u001b[38;5;28mstr\u001b[39m):\n\u001b[1;32m--> 284\u001b[0m     res_values \u001b[38;5;241m=\u001b[39m \u001b[43mcomp_method_OBJECT_ARRAY\u001b[49m\u001b[43m(\u001b[49m\u001b[43mop\u001b[49m\u001b[43m,\u001b[49m\u001b[43m \u001b[49m\u001b[43mlvalues\u001b[49m\u001b[43m,\u001b[49m\u001b[43m \u001b[49m\u001b[43mrvalues\u001b[49m\u001b[43m)\u001b[49m\n\u001b[0;32m    286\u001b[0m \u001b[38;5;28;01melse\u001b[39;00m:\n\u001b[0;32m    287\u001b[0m     res_values \u001b[38;5;241m=\u001b[39m _na_arithmetic_op(lvalues, rvalues, op, is_cmp\u001b[38;5;241m=\u001b[39m\u001b[38;5;28;01mTrue\u001b[39;00m)\n",
      "File \u001b[1;32m~\\miniconda3\\lib\\site-packages\\pandas\\core\\ops\\array_ops.py:73\u001b[0m, in \u001b[0;36mcomp_method_OBJECT_ARRAY\u001b[1;34m(op, x, y)\u001b[0m\n\u001b[0;32m     71\u001b[0m     result \u001b[38;5;241m=\u001b[39m libops\u001b[38;5;241m.\u001b[39mvec_compare(x\u001b[38;5;241m.\u001b[39mravel(), y\u001b[38;5;241m.\u001b[39mravel(), op)\n\u001b[0;32m     72\u001b[0m \u001b[38;5;28;01melse\u001b[39;00m:\n\u001b[1;32m---> 73\u001b[0m     result \u001b[38;5;241m=\u001b[39m \u001b[43mlibops\u001b[49m\u001b[38;5;241;43m.\u001b[39;49m\u001b[43mscalar_compare\u001b[49m\u001b[43m(\u001b[49m\u001b[43mx\u001b[49m\u001b[38;5;241;43m.\u001b[39;49m\u001b[43mravel\u001b[49m\u001b[43m(\u001b[49m\u001b[43m)\u001b[49m\u001b[43m,\u001b[49m\u001b[43m \u001b[49m\u001b[43my\u001b[49m\u001b[43m,\u001b[49m\u001b[43m \u001b[49m\u001b[43mop\u001b[49m\u001b[43m)\u001b[49m\n\u001b[0;32m     74\u001b[0m \u001b[38;5;28;01mreturn\u001b[39;00m result\u001b[38;5;241m.\u001b[39mreshape(x\u001b[38;5;241m.\u001b[39mshape)\n",
      "File \u001b[1;32m~\\miniconda3\\lib\\site-packages\\pandas\\_libs\\ops.pyx:107\u001b[0m, in \u001b[0;36mpandas._libs.ops.scalar_compare\u001b[1;34m()\u001b[0m\n",
      "\u001b[1;31mTypeError\u001b[0m: '>' not supported between instances of 'numpy.ndarray' and 'str'"
     ]
    }
   ],
   "source": [
    "print(df < (Q1 - 1.5 *  IQR)) | (df > (Q3 + 1.5 * IQR))"
   ]
  },
  {
   "cell_type": "code",
   "execution_count": 19,
   "metadata": {},
   "outputs": [
    {
     "name": "stdout",
     "output_type": "stream",
     "text": [
      "Highest allowed 108559.58208959262\n",
      "Lowest allowed -101022.35078275678\n"
     ]
    }
   ],
   "source": [
    "print(\"Highest allowed\",df['effectif_1_inj'].mean() + 3*df['effectif_1_inj'].std())\n",
    "print(\"Lowest allowed\",df['effectif_1_inj'].mean() - 3*df['effectif_1_inj'].std())\n"
   ]
  },
  {
   "cell_type": "code",
   "execution_count": 14,
   "metadata": {},
   "outputs": [
    {
     "name": "stderr",
     "output_type": "stream",
     "text": [
      "C:\\Users\\Louis\\AppData\\Local\\Temp\\ipykernel_108732\\472743239.py:1: FutureWarning: Automatic reindexing on DataFrame vs Series comparisons is deprecated and will raise ValueError in a future version.  Do `left, right = left.align(right, axis=1, copy=False)` before e.g. `left == right`\n",
      "  df_out = df[~((df < (Q1 - 1.5 * IQR)) | (df > (Q3 + 1.5 * IQR))).any(axis=1)]\n"
     ]
    }
   ],
   "source": [
    "df_out = df[~((df < (Q1 - 1.5 * IQR)) | (df > (Q3 + 1.5 * IQR))).any(axis=1)]"
   ]
  },
  {
   "cell_type": "code",
   "execution_count": 27,
   "metadata": {},
   "outputs": [
    {
     "ename": "ValueError",
     "evalue": "percentiles should all be in the interval [0, 1]. Try [ 0.8 13.7] instead.",
     "output_type": "error",
     "traceback": [
      "\u001b[1;31m---------------------------------------------------------------------------\u001b[0m",
      "\u001b[1;31mValueError\u001b[0m                                Traceback (most recent call last)",
      "Input \u001b[1;32mIn [27]\u001b[0m, in \u001b[0;36m<module>\u001b[1;34m\u001b[0m\n\u001b[1;32m----> 1\u001b[0m \u001b[38;5;28mmin\u001b[39m, \u001b[38;5;28mmax\u001b[39m \u001b[38;5;241m=\u001b[39m \u001b[43mdf\u001b[49m\u001b[43m[\u001b[49m\u001b[38;5;124;43m\"\u001b[39;49m\u001b[38;5;124;43mtaux_cumu_1_inj\u001b[39;49m\u001b[38;5;124;43m\"\u001b[39;49m\u001b[43m]\u001b[49m\u001b[38;5;241;43m.\u001b[39;49m\u001b[43mquantile\u001b[49m\u001b[43m(\u001b[49m\u001b[43m[\u001b[49m\u001b[43mQ1\u001b[49m\u001b[43m,\u001b[49m\u001b[43m \u001b[49m\u001b[43mQ3\u001b[49m\u001b[43m]\u001b[49m\u001b[43m)\u001b[49m\n\u001b[0;32m      2\u001b[0m \u001b[38;5;28mmin\u001b[39m, \u001b[38;5;28mmax\u001b[39m\n\u001b[0;32m      4\u001b[0m df[df[\u001b[38;5;124m\"\u001b[39m\u001b[38;5;124mtaux_cumu_1_inj\u001b[39m\u001b[38;5;124m\"\u001b[39m] \u001b[38;5;241m<\u001b[39m \u001b[38;5;28mmin\u001b[39m]\n",
      "File \u001b[1;32m~\\miniconda3\\lib\\site-packages\\pandas\\core\\series.py:2442\u001b[0m, in \u001b[0;36mSeries.quantile\u001b[1;34m(self, q, interpolation)\u001b[0m\n\u001b[0;32m   2400\u001b[0m \u001b[38;5;28;01mdef\u001b[39;00m \u001b[38;5;21mquantile\u001b[39m(\u001b[38;5;28mself\u001b[39m, q\u001b[38;5;241m=\u001b[39m\u001b[38;5;241m0.5\u001b[39m, interpolation\u001b[38;5;241m=\u001b[39m\u001b[38;5;124m\"\u001b[39m\u001b[38;5;124mlinear\u001b[39m\u001b[38;5;124m\"\u001b[39m):\n\u001b[0;32m   2401\u001b[0m     \u001b[38;5;124;03m\"\"\"\u001b[39;00m\n\u001b[0;32m   2402\u001b[0m \u001b[38;5;124;03m    Return value at the given quantile.\u001b[39;00m\n\u001b[0;32m   2403\u001b[0m \n\u001b[1;32m   (...)\u001b[0m\n\u001b[0;32m   2440\u001b[0m \u001b[38;5;124;03m    dtype: float64\u001b[39;00m\n\u001b[0;32m   2441\u001b[0m \u001b[38;5;124;03m    \"\"\"\u001b[39;00m\n\u001b[1;32m-> 2442\u001b[0m     \u001b[43mvalidate_percentile\u001b[49m\u001b[43m(\u001b[49m\u001b[43mq\u001b[49m\u001b[43m)\u001b[49m\n\u001b[0;32m   2444\u001b[0m     \u001b[38;5;66;03m# We dispatch to DataFrame so that core.internals only has to worry\u001b[39;00m\n\u001b[0;32m   2445\u001b[0m     \u001b[38;5;66;03m#  about 2D cases.\u001b[39;00m\n\u001b[0;32m   2446\u001b[0m     df \u001b[38;5;241m=\u001b[39m \u001b[38;5;28mself\u001b[39m\u001b[38;5;241m.\u001b[39mto_frame()\n",
      "File \u001b[1;32m~\\miniconda3\\lib\\site-packages\\pandas\\util\\_validators.py:417\u001b[0m, in \u001b[0;36mvalidate_percentile\u001b[1;34m(q)\u001b[0m\n\u001b[0;32m    415\u001b[0m \u001b[38;5;28;01melse\u001b[39;00m:\n\u001b[0;32m    416\u001b[0m     \u001b[38;5;28;01mif\u001b[39;00m \u001b[38;5;129;01mnot\u001b[39;00m \u001b[38;5;28mall\u001b[39m(\u001b[38;5;241m0\u001b[39m \u001b[38;5;241m<\u001b[39m\u001b[38;5;241m=\u001b[39m qs \u001b[38;5;241m<\u001b[39m\u001b[38;5;241m=\u001b[39m \u001b[38;5;241m1\u001b[39m \u001b[38;5;28;01mfor\u001b[39;00m qs \u001b[38;5;129;01min\u001b[39;00m q_arr):\n\u001b[1;32m--> 417\u001b[0m         \u001b[38;5;28;01mraise\u001b[39;00m \u001b[38;5;167;01mValueError\u001b[39;00m(msg\u001b[38;5;241m.\u001b[39mformat(q_arr \u001b[38;5;241m/\u001b[39m \u001b[38;5;241m100.0\u001b[39m))\n\u001b[0;32m    418\u001b[0m \u001b[38;5;28;01mreturn\u001b[39;00m q_arr\n",
      "\u001b[1;31mValueError\u001b[0m: percentiles should all be in the interval [0, 1]. Try [ 0.8 13.7] instead."
     ]
    }
   ],
   "source": [
    "min, max = df[\"taux_cumu_1_inj\"].quantile([Q1, Q3])\n",
    "min, max\n",
    "\n",
    "df[df[\"taux_cumu_1_inj\"] < min]"
   ]
  },
  {
   "cell_type": "code",
   "execution_count": 12,
   "metadata": {},
   "outputs": [
    {
     "data": {
      "text/plain": [
       "(368929,)"
      ]
     },
     "execution_count": 12,
     "metadata": {},
     "output_type": "execute_result"
    }
   ],
   "source": [
    "df[\"taux_rappel\"].shape"
   ]
  },
  {
   "cell_type": "code",
   "execution_count": 15,
   "metadata": {},
   "outputs": [
    {
     "data": {
      "text/plain": [
       "(276386,)"
      ]
     },
     "execution_count": 15,
     "metadata": {},
     "output_type": "execute_result"
    }
   ],
   "source": [
    "df_out[\"taux_rappel\"].shape"
   ]
  },
  {
   "cell_type": "code",
   "execution_count": 17,
   "metadata": {},
   "outputs": [
    {
     "name": "stdout",
     "output_type": "stream",
     "text": [
      "352566\n"
     ]
    }
   ],
   "source": [
    "x = pd.isnull(df[\"taux_cumu_rappeleli\"]).sum().sum()\n",
    "print(x)"
   ]
  },
  {
   "cell_type": "code",
   "execution_count": 59,
   "metadata": {},
   "outputs": [
    {
     "name": "stdout",
     "output_type": "stream",
     "text": [
      "population_insee                  77802.500\n",
      "effectif_1_inj                      310.000\n",
      "effectif_termine                    310.000\n",
      "effectif_cumu_1_inj                6420.000\n",
      "effectif_cumu_termine              4880.000\n",
      "taux_1_inj                            0.003\n",
      "taux_termine                          0.003\n",
      "taux_cumu_1_inj                       0.059\n",
      "taux_cumu_termine                     0.048\n",
      "effectif_rappel                    1380.000\n",
      "effectif_cumu_rappel               4190.000\n",
      "effectif_rappel_parmi_eligible     6320.000\n",
      "effectif_eligible_au_rappel        7540.000\n",
      "taux_rappel                           0.014\n",
      "taux_cumu_rappel                      0.040\n",
      "taux_cumu_rappeleli                   0.116\n",
      "dtype: float64\n"
     ]
    },
    {
     "name": "stderr",
     "output_type": "stream",
     "text": [
      "C:\\Users\\Louis\\AppData\\Local\\Temp\\ipykernel_107896\\2986268782.py:1: FutureWarning: Dropping of nuisance columns in DataFrame reductions (with 'numeric_only=None') is deprecated; in a future version this will raise TypeError.  Select only valid columns before calling the reduction.\n",
      "  y = df.median(axis = 0)\n"
     ]
    }
   ],
   "source": [
    "y = df.median(axis = 0)\n",
    "print(y)"
   ]
  },
  {
   "cell_type": "code",
   "execution_count": 10,
   "metadata": {},
   "outputs": [
    {
     "name": "stdout",
     "output_type": "stream",
     "text": [
      "<bound method NDFrame._add_numeric_operations.<locals>.max of 0              NaN\n",
      "1              NaN\n",
      "2              NaN\n",
      "3              NaN\n",
      "4              NaN\n",
      "            ...   \n",
      "368924        10.0\n",
      "368925       100.0\n",
      "368926     57550.0\n",
      "368927    262930.0\n",
      "368928         NaN\n",
      "Name: effectif_1_inj, Length: 368929, dtype: float64>\n"
     ]
    }
   ],
   "source": [
    "print(df[\"effectif_1_inj\"].max)"
   ]
  },
  {
   "cell_type": "code",
   "execution_count": 9,
   "metadata": {},
   "outputs": [
    {
     "name": "stdout",
     "output_type": "stream",
     "text": [
      "0           NaN\n",
      "1           NaN\n",
      "2           NaN\n",
      "3           NaN\n",
      "4           NaN\n",
      "          ...  \n",
      "368924      NaN\n",
      "368925      NaN\n",
      "368926      NaN\n",
      "368927    0.048\n",
      "368928      NaN\n",
      "Name: taux_rappel, Length: 368929, dtype: float64\n"
     ]
    },
    {
     "data": {
      "image/png": "[encoded data removed]",
      "text/plain": [
       "<Figure size 432x288 with 1 Axes>"
      ]
     },
     "metadata": {
      "needs_background": "light"
     },
     "output_type": "display_data"
    }
   ],
   "source": [
    "taux_rappel = df[\"taux_rappel\"]\n",
    "\n",
    "print(df[\"taux_rappel\"])\n",
    "\n",
    "fig, x = plt.subplots()\n",
    "x.plot(taux_rappel)\n",
    "plt.show()\n"
   ]
  },
  {
   "cell_type": "code",
   "execution_count": 22,
   "metadata": {},
   "outputs": [
    {
     "ename": "KeyError",
     "evalue": "\"None of [Float64Index([     nan,      nan,      nan,      nan,      nan,      nan,\\n                   nan,      nan,      nan,      nan,\\n              ...\\n                   nan,      nan,   9400.0, 149610.0,  55660.0,     10.0,\\n                 100.0,  57550.0, 262930.0,      nan],\\n             dtype='float64', length=368929)] are in the [columns]\"",
     "output_type": "error",
     "traceback": [
      "\u001b[1;31m---------------------------------------------------------------------------\u001b[0m",
      "\u001b[1;31mKeyError\u001b[0m                                  Traceback (most recent call last)",
      "Input \u001b[1;32mIn [22]\u001b[0m, in \u001b[0;36m<module>\u001b[1;34m\u001b[0m\n\u001b[0;32m      1\u001b[0m \u001b[38;5;66;03m#df.boxplot(column=\"effectif_termine\")\u001b[39;00m\n\u001b[1;32m----> 3\u001b[0m bp \u001b[38;5;241m=\u001b[39m \u001b[43mdf\u001b[49m\u001b[38;5;241;43m.\u001b[39;49m\u001b[43mplot\u001b[49m\u001b[43m(\u001b[49m\u001b[43mdf\u001b[49m\u001b[43m[\u001b[49m\u001b[38;5;124;43m'\u001b[39;49m\u001b[38;5;124;43meffectif_1_inj\u001b[39;49m\u001b[38;5;124;43m'\u001b[39;49m\u001b[43m]\u001b[49m\u001b[43m)\u001b[49m\n",
      "File \u001b[1;32m~\\miniconda3\\lib\\site-packages\\pandas\\plotting\\_core.py:937\u001b[0m, in \u001b[0;36mPlotAccessor.__call__\u001b[1;34m(self, *args, **kwargs)\u001b[0m\n\u001b[0;32m    935\u001b[0m \u001b[38;5;28;01mif\u001b[39;00m is_integer(x) \u001b[38;5;129;01mand\u001b[39;00m \u001b[38;5;129;01mnot\u001b[39;00m data\u001b[38;5;241m.\u001b[39mcolumns\u001b[38;5;241m.\u001b[39mholds_integer():\n\u001b[0;32m    936\u001b[0m     x \u001b[38;5;241m=\u001b[39m data_cols[x]\n\u001b[1;32m--> 937\u001b[0m \u001b[38;5;28;01melif\u001b[39;00m \u001b[38;5;129;01mnot\u001b[39;00m \u001b[38;5;28misinstance\u001b[39m(\u001b[43mdata\u001b[49m\u001b[43m[\u001b[49m\u001b[43mx\u001b[49m\u001b[43m]\u001b[49m, ABCSeries):\n\u001b[0;32m    938\u001b[0m     \u001b[38;5;28;01mraise\u001b[39;00m \u001b[38;5;167;01mValueError\u001b[39;00m(\u001b[38;5;124m\"\u001b[39m\u001b[38;5;124mx must be a label or position\u001b[39m\u001b[38;5;124m\"\u001b[39m)\n\u001b[0;32m    939\u001b[0m data \u001b[38;5;241m=\u001b[39m data\u001b[38;5;241m.\u001b[39mset_index(x)\n",
      "File \u001b[1;32m~\\miniconda3\\lib\\site-packages\\pandas\\core\\frame.py:3464\u001b[0m, in \u001b[0;36mDataFrame.__getitem__\u001b[1;34m(self, key)\u001b[0m\n\u001b[0;32m   3462\u001b[0m     \u001b[38;5;28;01mif\u001b[39;00m is_iterator(key):\n\u001b[0;32m   3463\u001b[0m         key \u001b[38;5;241m=\u001b[39m \u001b[38;5;28mlist\u001b[39m(key)\n\u001b[1;32m-> 3464\u001b[0m     indexer \u001b[38;5;241m=\u001b[39m \u001b[38;5;28;43mself\u001b[39;49m\u001b[38;5;241;43m.\u001b[39;49m\u001b[43mloc\u001b[49m\u001b[38;5;241;43m.\u001b[39;49m\u001b[43m_get_listlike_indexer\u001b[49m\u001b[43m(\u001b[49m\u001b[43mkey\u001b[49m\u001b[43m,\u001b[49m\u001b[43m \u001b[49m\u001b[43maxis\u001b[49m\u001b[38;5;241;43m=\u001b[39;49m\u001b[38;5;241;43m1\u001b[39;49m\u001b[43m)\u001b[49m[\u001b[38;5;241m1\u001b[39m]\n\u001b[0;32m   3466\u001b[0m \u001b[38;5;66;03m# take() does not accept boolean indexers\u001b[39;00m\n\u001b[0;32m   3467\u001b[0m \u001b[38;5;28;01mif\u001b[39;00m \u001b[38;5;28mgetattr\u001b[39m(indexer, \u001b[38;5;124m\"\u001b[39m\u001b[38;5;124mdtype\u001b[39m\u001b[38;5;124m\"\u001b[39m, \u001b[38;5;28;01mNone\u001b[39;00m) \u001b[38;5;241m==\u001b[39m \u001b[38;5;28mbool\u001b[39m:\n",
      "File \u001b[1;32m~\\miniconda3\\lib\\site-packages\\pandas\\core\\indexing.py:1314\u001b[0m, in \u001b[0;36m_LocIndexer._get_listlike_indexer\u001b[1;34m(self, key, axis)\u001b[0m\n\u001b[0;32m   1311\u001b[0m \u001b[38;5;28;01melse\u001b[39;00m:\n\u001b[0;32m   1312\u001b[0m     keyarr, indexer, new_indexer \u001b[38;5;241m=\u001b[39m ax\u001b[38;5;241m.\u001b[39m_reindex_non_unique(keyarr)\n\u001b[1;32m-> 1314\u001b[0m \u001b[38;5;28;43mself\u001b[39;49m\u001b[38;5;241;43m.\u001b[39;49m\u001b[43m_validate_read_indexer\u001b[49m\u001b[43m(\u001b[49m\u001b[43mkeyarr\u001b[49m\u001b[43m,\u001b[49m\u001b[43m \u001b[49m\u001b[43mindexer\u001b[49m\u001b[43m,\u001b[49m\u001b[43m \u001b[49m\u001b[43maxis\u001b[49m\u001b[43m)\u001b[49m\n\u001b[0;32m   1316\u001b[0m \u001b[38;5;28;01mif\u001b[39;00m needs_i8_conversion(ax\u001b[38;5;241m.\u001b[39mdtype) \u001b[38;5;129;01mor\u001b[39;00m \u001b[38;5;28misinstance\u001b[39m(\n\u001b[0;32m   1317\u001b[0m     ax, (IntervalIndex, CategoricalIndex)\n\u001b[0;32m   1318\u001b[0m ):\n\u001b[0;32m   1319\u001b[0m     \u001b[38;5;66;03m# For CategoricalIndex take instead of reindex to preserve dtype.\u001b[39;00m\n\u001b[0;32m   1320\u001b[0m     \u001b[38;5;66;03m#  For IntervalIndex this is to map integers to the Intervals they match to.\u001b[39;00m\n\u001b[0;32m   1321\u001b[0m     keyarr \u001b[38;5;241m=\u001b[39m ax\u001b[38;5;241m.\u001b[39mtake(indexer)\n",
      "File \u001b[1;32m~\\miniconda3\\lib\\site-packages\\pandas\\core\\indexing.py:1374\u001b[0m, in \u001b[0;36m_LocIndexer._validate_read_indexer\u001b[1;34m(self, key, indexer, axis)\u001b[0m\n\u001b[0;32m   1372\u001b[0m     \u001b[38;5;28;01mif\u001b[39;00m use_interval_msg:\n\u001b[0;32m   1373\u001b[0m         key \u001b[38;5;241m=\u001b[39m \u001b[38;5;28mlist\u001b[39m(key)\n\u001b[1;32m-> 1374\u001b[0m     \u001b[38;5;28;01mraise\u001b[39;00m \u001b[38;5;167;01mKeyError\u001b[39;00m(\u001b[38;5;124mf\u001b[39m\u001b[38;5;124m\"\u001b[39m\u001b[38;5;124mNone of [\u001b[39m\u001b[38;5;132;01m{\u001b[39;00mkey\u001b[38;5;132;01m}\u001b[39;00m\u001b[38;5;124m] are in the [\u001b[39m\u001b[38;5;132;01m{\u001b[39;00maxis_name\u001b[38;5;132;01m}\u001b[39;00m\u001b[38;5;124m]\u001b[39m\u001b[38;5;124m\"\u001b[39m)\n\u001b[0;32m   1376\u001b[0m not_found \u001b[38;5;241m=\u001b[39m \u001b[38;5;28mlist\u001b[39m(ensure_index(key)[missing_mask\u001b[38;5;241m.\u001b[39mnonzero()[\u001b[38;5;241m0\u001b[39m]]\u001b[38;5;241m.\u001b[39munique())\n\u001b[0;32m   1377\u001b[0m \u001b[38;5;28;01mraise\u001b[39;00m \u001b[38;5;167;01mKeyError\u001b[39;00m(\u001b[38;5;124mf\u001b[39m\u001b[38;5;124m\"\u001b[39m\u001b[38;5;132;01m{\u001b[39;00mnot_found\u001b[38;5;132;01m}\u001b[39;00m\u001b[38;5;124m not in index\u001b[39m\u001b[38;5;124m\"\u001b[39m)\n",
      "\u001b[1;31mKeyError\u001b[0m: \"None of [Float64Index([     nan,      nan,      nan,      nan,      nan,      nan,\\n                   nan,      nan,      nan,      nan,\\n              ...\\n                   nan,      nan,   9400.0, 149610.0,  55660.0,     10.0,\\n                 100.0,  57550.0, 262930.0,      nan],\\n             dtype='float64', length=368929)] are in the [columns]\""
     ]
    }
   ],
   "source": [
    "#df.boxplot(column=\"effectif_termine\")\n",
    "\n",
    "bp = df.boxplot(column='effectif_1_inj')"
   ]
  },
  {
   "cell_type": "code",
   "execution_count": 3,
   "metadata": {},
   "outputs": [
    {
     "name": "stderr",
     "output_type": "stream",
     "text": [
      "C:\\Users\\Louis\\miniconda3\\lib\\site-packages\\seaborn\\_decorators.py:36: FutureWarning: Pass the following variable as a keyword arg: x. From version 0.12, the only valid positional argument will be `data`, and passing other arguments without an explicit keyword will result in an error or misinterpretation.\n",
      "  warnings.warn(\n"
     ]
    },
    {
     "data": {
      "image/png": "[encoded data removed]",
      "text/plain": [
       "<Figure size 432x288 with 1 Axes>"
      ]
     },
     "metadata": {
      "needs_background": "light"
     },
     "output_type": "display_data"
    }
   ],
   "source": [
    "f, axes = plt.subplots()\n",
    "sns.boxplot(df[\"population_insee\"])\n",
    "plt.show()"
   ]
  },
  {
   "cell_type": "code",
   "execution_count": 4,
   "metadata": {},
   "outputs": [
    {
     "name": "stderr",
     "output_type": "stream",
     "text": [
      "C:\\Users\\Louis\\miniconda3\\lib\\site-packages\\seaborn\\_decorators.py:36: FutureWarning: Pass the following variable as a keyword arg: x. From version 0.12, the only valid positional argument will be `data`, and passing other arguments without an explicit keyword will result in an error or misinterpretation.\n",
      "  warnings.warn(\n"
     ]
    },
    {
     "data": {
      "image/png": "[encoded data removed]",
      "text/plain": [
       "<Figure size 432x288 with 1 Axes>"
      ]
     },
     "metadata": {
      "needs_background": "light"
     },
     "output_type": "display_data"
    }
   ],
   "source": [
    "f, axes = plt.subplots()\n",
    "sns.boxplot(df[\"effectif_1_inj\"])\n",
    "plt.show()"
   ]
  },
  {
   "cell_type": "code",
   "execution_count": 24,
   "metadata": {},
   "outputs": [
    {
     "name": "stderr",
     "output_type": "stream",
     "text": [
      "C:\\Users\\Louis\\miniconda3\\lib\\site-packages\\seaborn\\_decorators.py:36: FutureWarning: Pass the following variable as a keyword arg: x. From version 0.12, the only valid positional argument will be `data`, and passing other arguments without an explicit keyword will result in an error or misinterpretation.\n",
      "  warnings.warn(\n"
     ]
    },
    {
     "data": {
      "image/png": "[encoded data removed]",
      "text/plain": [
       "<Figure size 432x288 with 1 Axes>"
      ]
     },
     "metadata": {
      "needs_background": "light"
     },
     "output_type": "display_data"
    }
   ],
   "source": [
    "f, axes = plt.subplots()\n",
    "sns.boxplot(df[\"effectif_termine\"])\n",
    "plt.show()"
   ]
  },
  {
   "cell_type": "code",
   "execution_count": 25,
   "metadata": {},
   "outputs": [
    {
     "name": "stderr",
     "output_type": "stream",
     "text": [
      "C:\\Users\\Louis\\miniconda3\\lib\\site-packages\\seaborn\\_decorators.py:36: FutureWarning: Pass the following variable as a keyword arg: x. From version 0.12, the only valid positional argument will be `data`, and passing other arguments without an explicit keyword will result in an error or misinterpretation.\n",
      "  warnings.warn(\n"
     ]
    },
    {
     "data": {
      "image/png": "[encoded data removed]",
      "text/plain": [
       "<Figure size 432x288 with 1 Axes>"
      ]
     },
     "metadata": {
      "needs_background": "light"
     },
     "output_type": "display_data"
    }
   ],
   "source": [
    "f, axes = plt.subplots()\n",
    "sns.boxplot(df[\"effectif_cumu_1_inj\"])\n",
    "plt.show()"
   ]
  },
  {
   "cell_type": "code",
   "execution_count": 26,
   "metadata": {},
   "outputs": [
    {
     "name": "stderr",
     "output_type": "stream",
     "text": [
      "C:\\Users\\Louis\\miniconda3\\lib\\site-packages\\seaborn\\_decorators.py:36: FutureWarning: Pass the following variable as a keyword arg: x. From version 0.12, the only valid positional argument will be `data`, and passing other arguments without an explicit keyword will result in an error or misinterpretation.\n",
      "  warnings.warn(\n"
     ]
    },
    {
     "data": {
      "image/png": "[encoded data removed]",
      "text/plain": [
       "<Figure size 432x288 with 1 Axes>"
      ]
     },
     "metadata": {
      "needs_background": "light"
     },
     "output_type": "display_data"
    }
   ],
   "source": [
    "f, axes = plt.subplots()\n",
    "sns.boxplot(df[\"effectif_cumu_termine\"])\n",
    "plt.show()"
   ]
  },
  {
   "cell_type": "code",
   "execution_count": 24,
   "metadata": {},
   "outputs": [
    {
     "name": "stderr",
     "output_type": "stream",
     "text": [
      "C:\\Users\\Louis\\miniconda3\\lib\\site-packages\\seaborn\\_decorators.py:36: FutureWarning: Pass the following variable as a keyword arg: x. From version 0.12, the only valid positional argument will be `data`, and passing other arguments without an explicit keyword will result in an error or misinterpretation.\n",
      "  warnings.warn(\n"
     ]
    },
    {
     "data": {
      "image/png": "[encoded data removed]",
      "text/plain": [
       "<Figure size 432x288 with 1 Axes>"
      ]
     },
     "metadata": {
      "needs_background": "light"
     },
     "output_type": "display_data"
    }
   ],
   "source": [
    "f, axes = plt.subplots()\n",
    "sns.boxplot(df[\"effectif_1_inj\"])\n",
    "plt.show()"
   ]
  },
  {
   "cell_type": "code",
   "execution_count": 28,
   "metadata": {},
   "outputs": [
    {
     "name": "stderr",
     "output_type": "stream",
     "text": [
      "C:\\Users\\Louis\\miniconda3\\lib\\site-packages\\seaborn\\_decorators.py:36: FutureWarning: Pass the following variable as a keyword arg: x. From version 0.12, the only valid positional argument will be `data`, and passing other arguments without an explicit keyword will result in an error or misinterpretation.\n",
      "  warnings.warn(\n"
     ]
    },
    {
     "data": {
      "image/png": "[encoded data removed]",
      "text/plain": [
       "<Figure size 432x288 with 1 Axes>"
      ]
     },
     "metadata": {
      "needs_background": "light"
     },
     "output_type": "display_data"
    }
   ],
   "source": [
    "f, axes = plt.subplots()\n",
    "sns.boxplot(df[\"taux_termine\"])\n",
    "plt.show()"
   ]
  },
  {
   "cell_type": "code",
   "execution_count": 29,
   "metadata": {},
   "outputs": [
    {
     "name": "stderr",
     "output_type": "stream",
     "text": [
      "C:\\Users\\Louis\\miniconda3\\lib\\site-packages\\seaborn\\_decorators.py:36: FutureWarning: Pass the following variable as a keyword arg: x. From version 0.12, the only valid positional argument will be `data`, and passing other arguments without an explicit keyword will result in an error or misinterpretation.\n",
      "  warnings.warn(\n"
     ]
    },
    {
     "data": {
      "image/png": "[encoded data removed]",
      "text/plain": [
       "<Figure size 432x288 with 1 Axes>"
      ]
     },
     "metadata": {
      "needs_background": "light"
     },
     "output_type": "display_data"
    }
   ],
   "source": [
    "f, axes = plt.subplots()\n",
    "sns.boxplot(df[\"taux_cumu_1_inj\"])\n",
    "plt.show()"
   ]
  },
  {
   "cell_type": "code",
   "execution_count": 30,
   "metadata": {},
   "outputs": [
    {
     "name": "stderr",
     "output_type": "stream",
     "text": [
      "C:\\Users\\Louis\\miniconda3\\lib\\site-packages\\seaborn\\_decorators.py:36: FutureWarning: Pass the following variable as a keyword arg: x. From version 0.12, the only valid positional argument will be `data`, and passing other arguments without an explicit keyword will result in an error or misinterpretation.\n",
      "  warnings.warn(\n"
     ]
    },
    {
     "data": {
      "image/png": "[encoded data removed]",
      "text/plain": [
       "<Figure size 432x288 with 1 Axes>"
      ]
     },
     "metadata": {
      "needs_background": "light"
     },
     "output_type": "display_data"
    }
   ],
   "source": [
    "f, axes = plt.subplots()\n",
    "sns.boxplot(df[\"taux_cumu_termine\"])\n",
    "plt.show()"
   ]
  },
  {
   "cell_type": "code",
   "execution_count": 31,
   "metadata": {},
   "outputs": [
    {
     "name": "stderr",
     "output_type": "stream",
     "text": [
      "C:\\Users\\Louis\\miniconda3\\lib\\site-packages\\seaborn\\_decorators.py:36: FutureWarning: Pass the following variable as a keyword arg: x. From version 0.12, the only valid positional argument will be `data`, and passing other arguments without an explicit keyword will result in an error or misinterpretation.\n",
      "  warnings.warn(\n"
     ]
    },
    {
     "data": {
      "image/png": "[encoded data removed]",
      "text/plain": [
       "<Figure size 432x288 with 1 Axes>"
      ]
     },
     "metadata": {
      "needs_background": "light"
     },
     "output_type": "display_data"
    }
   ],
   "source": [
    "f, axes = plt.subplots()\n",
    "sns.boxplot(df[\"effectif_rappel\"])\n",
    "plt.show()"
   ]
  },
  {
   "cell_type": "code",
   "execution_count": 32,
   "metadata": {},
   "outputs": [
    {
     "name": "stderr",
     "output_type": "stream",
     "text": [
      "C:\\Users\\Louis\\miniconda3\\lib\\site-packages\\seaborn\\_decorators.py:36: FutureWarning: Pass the following variable as a keyword arg: x. From version 0.12, the only valid positional argument will be `data`, and passing other arguments without an explicit keyword will result in an error or misinterpretation.\n",
      "  warnings.warn(\n"
     ]
    },
    {
     "data": {
      "image/png": "[encoded data removed]",
      "text/plain": [
       "<Figure size 432x288 with 1 Axes>"
      ]
     },
     "metadata": {
      "needs_background": "light"
     },
     "output_type": "display_data"
    }
   ],
   "source": [
    "f, axes = plt.subplots()\n",
    "sns.boxplot(df[\"effectif_cumu_rappel\"])\n",
    "plt.show()"
   ]
  },
  {
   "cell_type": "code",
   "execution_count": 33,
   "metadata": {},
   "outputs": [
    {
     "name": "stderr",
     "output_type": "stream",
     "text": [
      "C:\\Users\\Louis\\miniconda3\\lib\\site-packages\\seaborn\\_decorators.py:36: FutureWarning: Pass the following variable as a keyword arg: x. From version 0.12, the only valid positional argument will be `data`, and passing other arguments without an explicit keyword will result in an error or misinterpretation.\n",
      "  warnings.warn(\n"
     ]
    },
    {
     "data": {
      "image/png": "[encoded data removed]",
      "text/plain": [
       "<Figure size 432x288 with 1 Axes>"
      ]
     },
     "metadata": {
      "needs_background": "light"
     },
     "output_type": "display_data"
    }
   ],
   "source": [
    "f, axes = plt.subplots()\n",
    "sns.boxplot(df[\"effectif_rappel_parmi_eligible\"])\n",
    "plt.show()"
   ]
  },
  {
   "cell_type": "code",
   "execution_count": 34,
   "metadata": {},
   "outputs": [
    {
     "name": "stderr",
     "output_type": "stream",
     "text": [
      "C:\\Users\\Louis\\miniconda3\\lib\\site-packages\\seaborn\\_decorators.py:36: FutureWarning: Pass the following variable as a keyword arg: x. From version 0.12, the only valid positional argument will be `data`, and passing other arguments without an explicit keyword will result in an error or misinterpretation.\n",
      "  warnings.warn(\n"
     ]
    },
    {
     "data": {
      "image/png": "[encoded data removed]",
      "text/plain": [
       "<Figure size 432x288 with 1 Axes>"
      ]
     },
     "metadata": {
      "needs_background": "light"
     },
     "output_type": "display_data"
    }
   ],
   "source": [
    "f, axes = plt.subplots()\n",
    "sns.boxplot(df[\"effectif_eligible_au_rappel\"])\n",
    "plt.show()"
   ]
  },
  {
   "cell_type": "code",
   "execution_count": 37,
   "metadata": {},
   "outputs": [
    {
     "name": "stderr",
     "output_type": "stream",
     "text": [
      "C:\\Users\\Louis\\miniconda3\\lib\\site-packages\\seaborn\\_decorators.py:36: FutureWarning: Pass the following variable as a keyword arg: x. From version 0.12, the only valid positional argument will be `data`, and passing other arguments without an explicit keyword will result in an error or misinterpretation.\n",
      "  warnings.warn(\n"
     ]
    },
    {
     "data": {
      "image/png": "[encoded data removed]",
      "text/plain": [
       "<Figure size 432x288 with 1 Axes>"
      ]
     },
     "metadata": {
      "needs_background": "light"
     },
     "output_type": "display_data"
    }
   ],
   "source": [
    "f, axes = plt.subplots()\n",
    "sns.boxplot(df[\"taux_rappel\"])\n",
    "plt.show()"
   ]
  },
  {
   "cell_type": "code",
   "execution_count": 36,
   "metadata": {},
   "outputs": [
    {
     "name": "stderr",
     "output_type": "stream",
     "text": [
      "C:\\Users\\Louis\\miniconda3\\lib\\site-packages\\seaborn\\_decorators.py:36: FutureWarning: Pass the following variable as a keyword arg: x. From version 0.12, the only valid positional argument will be `data`, and passing other arguments without an explicit keyword will result in an error or misinterpretation.\n",
      "  warnings.warn(\n"
     ]
    },
    {
     "data": {
      "image/png": "[encoded data removed]",
      "text/plain": [
       "<Figure size 432x288 with 1 Axes>"
      ]
     },
     "metadata": {
      "needs_background": "light"
     },
     "output_type": "display_data"
    }
   ],
   "source": [
    "f, axes = plt.subplots()\n",
    "sns.boxplot(df[\"taux_cumu_rappel\"])\n",
    "plt.show()"
   ]
  },
  {
   "cell_type": "code",
   "execution_count": 35,
   "metadata": {},
   "outputs": [
    {
     "name": "stderr",
     "output_type": "stream",
     "text": [
      "C:\\Users\\Louis\\miniconda3\\lib\\site-packages\\seaborn\\_decorators.py:36: FutureWarning: Pass the following variable as a keyword arg: x. From version 0.12, the only valid positional argument will be `data`, and passing other arguments without an explicit keyword will result in an error or misinterpretation.\n",
      "  warnings.warn(\n"
     ]
    },
    {
     "data": {
      "image/png": "[encoded data removed]",
      "text/plain": [
       "<Figure size 432x288 with 1 Axes>"
      ]
     },
     "metadata": {
      "needs_background": "light"
     },
     "output_type": "display_data"
    }
   ],
   "source": [
    "f, axes = plt.subplots()\n",
    "sns.boxplot(df[\"taux_cumu_rappeleli\"])\n",
    "plt.show()"
   ]
  },
  {
   "cell_type": "code",
   "execution_count": 65,
   "metadata": {},
   "outputs": [
    {
     "name": "stderr",
     "output_type": "stream",
     "text": [
      "C:\\Users\\Louis\\AppData\\Local\\Temp\\ipykernel_42992\\1041533568.py:1: FutureWarning: Dropping of nuisance columns in DataFrame reductions (with 'numeric_only=None') is deprecated; in a future version this will raise TypeError.  Select only valid columns before calling the reduction.\n",
      "  data = df[df[\"population_insee\"] < 50000].mean()\n"
     ]
    }
   ],
   "source": [
    "data = df[df[\"taux_cumu_rappel\"] < 50000].mean()\n"
   ]
  },
  {
   "cell_type": "code",
   "execution_count": 81,
   "metadata": {},
   "outputs": [
    {
     "name": "stdout",
     "output_type": "stream",
     "text": [
      "population_insee                  467045.876235\n",
      "effectif_1_inj                      1593.210190\n",
      "effectif_termine                    2725.788202\n",
      "effectif_cumu_1_inj               364414.145257\n",
      "effectif_cumu_termine             355022.401186\n",
      "taux_1_inj                             0.003155\n",
      "taux_termine                           0.005002\n",
      "taux_cumu_1_inj                        0.835149\n",
      "taux_cumu_termine                      0.815664\n",
      "effectif_rappel                    10848.179965\n",
      "effectif_cumu_rappel               64992.469121\n",
      "effectif_rappel_parmi_eligible     69108.289753\n",
      "effectif_eligible_au_rappel       208023.390111\n",
      "taux_rappel                            0.025394\n",
      "taux_cumu_rappel                       0.165192\n",
      "taux_cumu_rappeleli                    0.246860\n",
      "dtype: float64\n"
     ]
    },
    {
     "name": "stderr",
     "output_type": "stream",
     "text": [
      "C:\\Users\\Louis\\AppData\\Local\\Temp\\ipykernel_42992\\4028226249.py:1: FutureWarning: Dropping of nuisance columns in DataFrame reductions (with 'numeric_only=None') is deprecated; in a future version this will raise TypeError.  Select only valid columns before calling the reduction.\n",
      "  test = df[df[\"taux_rappel\"] < 0.11].mean()\n"
     ]
    }
   ],
   "source": [
    "test = df[df[\"taux_rappel\"] < 0.11].mean()\n",
    "print(test)"
   ]
  },
  {
   "cell_type": "code",
   "execution_count": 78,
   "metadata": {},
   "outputs": [
    {
     "name": "stderr",
     "output_type": "stream",
     "text": [
      "C:\\Users\\Louis\\miniconda3\\lib\\site-packages\\seaborn\\_decorators.py:36: FutureWarning: Pass the following variable as a keyword arg: x. From version 0.12, the only valid positional argument will be `data`, and passing other arguments without an explicit keyword will result in an error or misinterpretation.\n",
      "  warnings.warn(\n"
     ]
    },
    {
     "data": {
      "image/png": "[encoded data removed]",
      "text/plain": [
       "<Figure size 432x288 with 1 Axes>"
      ]
     },
     "metadata": {
      "needs_background": "light"
     },
     "output_type": "display_data"
    }
   ],
   "source": [
    "f, axes = plt.subplots()\n",
    "sns.boxplot(test)\n",
    "plt.show()"
   ]
  },
  {
   "cell_type": "code",
   "execution_count": null,
   "metadata": {},
   "outputs": [],
   "source": [
    "#taux_rappel\n",
    "\n",
    "def outliers(df, ft):\n",
    "    Q1 = df[ft].quantile(0.25)\n",
    "    Q3 = df[ft].quantile(0.75)\n",
    "    IQR = Q3 - Q1\n",
    "    \n",
    "    lower_bound = Q1 - 1.5 * IQR\n",
    "    upper_bound = Q3 + 1.5 * IQR\n",
    "    \n",
    "    ls = df.index[ (df[ft] < lower_bound) | (df[ft] > upper_bound)]\n",
    "    \n",
    "    return ls"
   ]
  },
  {
   "cell_type": "code",
   "execution_count": 28,
   "metadata": {},
   "outputs": [
    {
     "ename": "NameError",
     "evalue": "name 'outliers' is not defined",
     "output_type": "error",
     "traceback": [
      "\u001b[1;31m---------------------------------------------------------------------------\u001b[0m",
      "\u001b[1;31mNameError\u001b[0m                                 Traceback (most recent call last)",
      "Input \u001b[1;32mIn [28]\u001b[0m, in \u001b[0;36m<module>\u001b[1;34m\u001b[0m\n\u001b[0;32m      1\u001b[0m index_list \u001b[38;5;241m=\u001b[39m []\n\u001b[0;32m      2\u001b[0m \u001b[38;5;28;01mfor\u001b[39;00m feature \u001b[38;5;129;01min\u001b[39;00m [\u001b[38;5;124m\"\u001b[39m\u001b[38;5;124mtaux_rappel\u001b[39m\u001b[38;5;124m\"\u001b[39m, \u001b[38;5;124m\"\u001b[39m\u001b[38;5;124mtaux_1_inj\u001b[39m\u001b[38;5;124m\"\u001b[39m]:\n\u001b[1;32m----> 3\u001b[0m     index_list\u001b[38;5;241m.\u001b[39mextend(\u001b[43moutliers\u001b[49m(df, feature))\n",
      "\u001b[1;31mNameError\u001b[0m: name 'outliers' is not defined"
     ]
    }
   ],
   "source": [
    "index_list = []\n",
    "for feature in [\"taux_rappel\", \"taux_1_inj\"]:\n",
    "    index_list.extend(outliers(df, feature))"
   ]
  },
  {
   "cell_type": "code",
   "execution_count": null,
   "metadata": {},
   "outputs": [],
   "source": []
  }
 ],
 "metadata": {
  "interpreter": {
   "hash": "27eedc5c121eeb1aad822e3e19184b258e1e9159307ccb287bb2e5689b32eb87"
  },
  "kernelspec": {
   "display_name": "Python 3.9.6 64-bit",
   "language": "python",
   "name": "python3"
  },
  "language_info": {
   "codemirror_mode": {
    "name": "ipython",
    "version": 3
   },
   "file_extension": ".py",
   "mimetype": "text/x-python",
   "name": "python",
   "nbconvert_exporter": "python",
   "pygments_lexer": "ipython3",
   "version": "3.9.5"
  },
  "orig_nbformat": 4
 },
 "nbformat": 4,
 "nbformat_minor": 2
}
